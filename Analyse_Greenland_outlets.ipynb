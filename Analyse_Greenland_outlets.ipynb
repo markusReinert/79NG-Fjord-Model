{
 "cells": [
  {
   "cell_type": "markdown",
   "id": "bbc902ff-8b96-4fb9-aade-6e68cbde4552",
   "metadata": {},
   "source": [
    "# Analyse the Outlets in the Dataset by Mankoff (2020)\n",
    "\n",
    "This notebook loads the outlets from the dataset by Mankoff (2020), selects the ones near the 79° North Glacier (79NG), and shows them on a map of Northeast Greenland.\n",
    "The map also shows the bathymetry and topography of the area, obtained from the RTopo-2.0.4 dataset.\n",
    "\n",
    "To use this notebook:\n",
    "1. Download the [dataset by Mankoff (2020)](https://doi.org/10.22008/FK2/XKQVL7) into a folder `data/Mankoff_2020_v5` (the large NetCDF files are not needed here and can be left out).\n",
    "2. Download the file `RTopo-2.0.4_30sec_Greenland.nc` from the [dataset by Schaffer et al. (2019)](https://doi.org/10.1594/PANGAEA.905295) into a folder `data`.\n",
    "3. Download the [GitHub repository GEUS-Glaciology-and-Climate/freshwater](https://github.com/GEUS-Glaciology-and-Climate/freshwater) into a folder `freshwater`.\n",
    "\n",
    "References:\n",
    "* Mankoff, Kenneth et al. (2020): _Greenland liquid water discharge from 1958 through 2019,_ Earth System Science Data, https://doi.org/10.5194/essd-12-2811-2020 (paper)\n",
    "* Mankoff, Kenneth (2020): _Streams, Outlets, Basins, and Discharge [k=1.0],_ GEUS Dataverse, V5 (release 2023), https://doi.org/10.22008/FK2/XKQVL7 (dataset)\n",
    "* Mankoff, Kenneth (6 October 2023): _Freshwater,_ GitHub, https://github.com/GEUS-Glaciology-and-Climate/freshwater (repository)\n",
    "* Schaffer, Janin et al. (2019): _An update to Greenland and Antarctic ice sheet topography, cavity geometry, and global bathymetry (RTopo-2.0.4),_ PANGAEA, https://doi.org/10.1594/PANGAEA.905295 (dataset)\n",
    "\n",
    "Notebook by Markus Reinert (IOW, 2023–2024, https://orcid.org/0000-0002-3761-8029)."
   ]
  },
  {
   "cell_type": "code",
   "execution_count": null,
   "id": "0fe0443a-5dad-4c05-b280-967b10e751fe",
   "metadata": {
    "tags": []
   },
   "outputs": [],
   "source": [
    "import numpy as np\n",
    "import xarray as xr\n",
    "import matplotlib.pyplot as plt\n",
    "import cmocean\n",
    "from pyproj import Transformer\n",
    "from shapely.geometry.multipolygon import MultiPolygon\n",
    "\n",
    "from freshwater.discharge import discharge as Discharge"
   ]
  },
  {
   "cell_type": "markdown",
   "id": "b85ac167-5da5-40c2-a96b-5715b3dca5ce",
   "metadata": {},
   "source": [
    "## Set up the coordinate transformation"
   ]
  },
  {
   "cell_type": "code",
   "execution_count": null,
   "id": "fd86fbee-7fbc-4004-b191-61ebd2152c90",
   "metadata": {},
   "outputs": [],
   "source": [
    "transform_xy_to_lonlat = Transformer.from_crs(\"EPSG:3413\", \"EPSG:4326\", always_xy=True).transform\n",
    "transform_lonlat_to_xy = Transformer.from_crs(\"EPSG:4326\", \"EPSG:3413\", always_xy=True).transform"
   ]
  },
  {
   "cell_type": "markdown",
   "id": "3a8c3097-e534-4d99-b1cd-95f7de2f4a3e",
   "metadata": {
    "tags": []
   },
   "source": [
    "## Load the bathymetry data"
   ]
  },
  {
   "cell_type": "code",
   "execution_count": null,
   "id": "9ce9a3be-cf2a-45f7-9ad2-34207a645fdf",
   "metadata": {
    "tags": []
   },
   "outputs": [],
   "source": [
    "rtopo = xr.open_dataset(\"data/RTopo-2.0.4_30sec_Greenland.nc\")\n",
    "rtopo = rtopo.set_index(londim=\"lon\", latdim=\"lat\")\n",
    "rtopo = rtopo.rename({\"latdim\": \"lat\", \"londim\": \"lon\"})\n",
    "rtopo = rtopo.sel(lon=slice(-29, -18), lat=slice(78.6, 80.3))\n",
    "\n",
    "# Compute and add Cartesian coordinates\n",
    "X, Y = transform_lonlat_to_xy(*xr.broadcast(rtopo.lon, rtopo.lat))\n",
    "rtopo.coords[\"x\"] = ([\"lon\", \"lat\"], X, {\"long_name\": \"Easting\", \"units\": \"m\"})\n",
    "rtopo.coords[\"y\"] = ([\"lon\", \"lat\"], Y, {\"long_name\": \"Northing\", \"units\": \"m\"})\n",
    "\n",
    "rtopo"
   ]
  },
  {
   "cell_type": "markdown",
   "id": "927c8602-291c-4df2-84ce-d93b48ceb510",
   "metadata": {},
   "source": [
    "## Load the outlet data\n",
    "\n",
    "Whether we include upstream ice outlets or not, loading the outlet data takes essentially the same time.\n",
    "Therefore, we always load upstream outlets, but we can decide later to neglect them by using `outlets[~outlets.upstream]`."
   ]
  },
  {
   "cell_type": "code",
   "execution_count": null,
   "id": "53642778-128f-44f8-95d2-9a848d5f947e",
   "metadata": {
    "tags": []
   },
   "outputs": [],
   "source": [
    "# Choose between 79NG (True) or Zachariae Isstrom (False)\n",
    "SELECT_79NG = True\n",
    "if SELECT_79NG:\n",
    "    position = \"-22,79.4\"\n",
    "else:\n",
    "    position = \"-22,79.0\"\n",
    "outlets = Discharge(\"data/Mankoff_2020_v5/freshwater/\", position, upstream=True, quiet=False).outlets()\n",
    "print(f\"Loaded {len(outlets)} outlets with {len(set(outlets.id))} unique IDs.\")\n",
    "outlets"
   ]
  },
  {
   "cell_type": "markdown",
   "id": "24634316-6f95-404c-b8dd-7202e5dcea58",
   "metadata": {
    "tags": []
   },
   "source": [
    "## Do basic checks and selections"
   ]
  },
  {
   "cell_type": "markdown",
   "id": "40d250aa-3f76-436f-a574-01f7d9514063",
   "metadata": {},
   "source": [
    "### Verify the values of `upstream` and `domain`"
   ]
  },
  {
   "cell_type": "code",
   "execution_count": null,
   "id": "24a70a0b-c487-4c3e-9449-394d8c233919",
   "metadata": {
    "tags": []
   },
   "outputs": [],
   "source": [
    "assert len(outlets[~outlets.upstream]) == 2, \"there are not exactly 2 selected (non-upstream) outlets\"\n",
    "assert all(outlets[~outlets.upstream].domain == [\"land\", \"ice\"]), \"the 2 selected (non-upstream) outlets are not land and ice\"\n",
    "assert all(outlets[outlets.upstream].domain == \"ice\"), \"not all upstream outlets are ice\""
   ]
  },
  {
   "cell_type": "markdown",
   "id": "beb29e13-5f31-4b28-824b-b5ac21e18b60",
   "metadata": {},
   "source": [
    "### Extract the selected ice and land outlets\n",
    "\n",
    "This works because of the checks above."
   ]
  },
  {
   "cell_type": "code",
   "execution_count": null,
   "id": "9e5058c0-0d45-4617-9f5d-73374bb0236d",
   "metadata": {
    "tags": []
   },
   "outputs": [],
   "source": [
    "outlet_ice = outlets[(outlets.domain == \"ice\") & ~outlets.upstream].iloc[0]\n",
    "outlet_land = outlets[outlets.domain == \"land\"].iloc[0]"
   ]
  },
  {
   "cell_type": "markdown",
   "id": "72378478-1dc1-4ab7-9c83-9eca34f872f2",
   "metadata": {},
   "source": [
    "### Check the coast coordinates"
   ]
  },
  {
   "cell_type": "code",
   "execution_count": null,
   "id": "8e1e92ca-953f-4c7b-aa03-56a3c9668565",
   "metadata": {
    "tags": []
   },
   "outputs": [],
   "source": [
    "# Check that coast coordinates of selected ice outlet are equal to coordinates of land outlet\n",
    "assert outlet_ice.coast_x == outlet_land.x and outlet_ice.coast_lon == outlet_land.lon\n",
    "assert outlet_ice.coast_y == outlet_land.y and outlet_ice.coast_lat == outlet_land.lat\n",
    "\n",
    "# Check that the land outlet has no coast coordinates\n",
    "assert np.isnan(outlet_land.coast_lon) and np.isnan(outlet_land.coast_lat)"
   ]
  },
  {
   "cell_type": "markdown",
   "id": "5993733b-d7cd-434e-8b56-862d5f1d1a35",
   "metadata": {},
   "source": [
    "### Test the coordinate transformation"
   ]
  },
  {
   "cell_type": "code",
   "execution_count": null,
   "id": "96fb5cb9-4ff2-47ee-996f-6e30c7983b62",
   "metadata": {
    "tags": []
   },
   "outputs": [],
   "source": [
    "lon, lat = transform_xy_to_lonlat(outlets.x, outlets.y)\n",
    "assert np.allclose(lon, outlets.lon) and np.allclose(lat, outlets.lat)\n",
    "x, y = transform_lonlat_to_xy(outlets.lon, outlets.lat)\n",
    "assert np.allclose(x, outlets.x) and np.allclose(y, outlets.y)"
   ]
  },
  {
   "cell_type": "markdown",
   "id": "3bfc528d-b603-4ea5-902d-e7169f4de677",
   "metadata": {
    "tags": []
   },
   "source": [
    "## Show outlets and bathymetry"
   ]
  },
  {
   "cell_type": "code",
   "execution_count": null,
   "id": "a03067d3-33d2-4c9d-8d74-c05d5ebfcd81",
   "metadata": {
    "tags": []
   },
   "outputs": [],
   "source": [
    "# Choose between Cartesian coordinates (x,y: True) and ellipsoidal coordinates (lat,lon: False)\n",
    "XY = True\n",
    "\n",
    "coords = {\"x\": \"x\", \"y\": \"y\"} if XY else {\"x\": \"lon\", \"y\": \"lat\"}\n",
    "convert = lambda x, y: (x, y) if XY else transform_xy_to_lonlat(x, y)\n",
    "\n",
    "def plot_outlet(outlet, kwargs={}):\n",
    "    l, = plt.plot(outlet[coords[\"x\"]], outlet[coords[\"y\"]], **kwargs)\n",
    "    kwargs = {\"color\": l.get_color(), \"ls\": l.get_linestyle(), \"lw\": l.get_linewidth()}\n",
    "    if isinstance(outlet.basin, MultiPolygon):\n",
    "        for geom in outlet.basin.geoms:\n",
    "            plt.plot(*convert(*geom.exterior.xy), **kwargs)\n",
    "    else:\n",
    "        plt.plot(*convert(*outlet.basin.exterior.xy), **kwargs)\n",
    "\n",
    "plt.figure(dpi=300)\n",
    "\n",
    "# Show the selected land and ice outlets\n",
    "plot_outlet(outlet_land, {\"color\": \"k\", \"marker\": \"s\", \"label\": \"land outlet and basin boundary\"})\n",
    "plot_outlet(outlet_ice, {\"color\": \"r\", \"marker\": \"o\", \"label\": \"ice outlet and basin boundary\", \"ls\": \"--\"})\n",
    "\n",
    "# Show the upstream outlets\n",
    "n_upstream = 0\n",
    "for i, outlet in outlets[outlets.upstream].iterrows():\n",
    "    if outlet.id == outlet_ice.id:\n",
    "        print(f\"Skipping outlet {i} with same ID as the selected ice outlet.\")\n",
    "        continue\n",
    "    plot_outlet(outlet, {\"marker\": \".\", \"lw\": 0.5})\n",
    "    n_upstream += 1\n",
    "plt.plot([], [], \".-\", lw=0.5, color=\"gray\", label=f\"{n_upstream} upstream ice outlets\")\n",
    "plt.legend(loc=\"upper left\")\n",
    "\n",
    "if XY:\n",
    "    plt.gca().set_aspect(\"equal\")\n",
    "    plt.xlim(0.32e6, 0.55e6)\n",
    "    plt.ylim(-1.12e6, -0.95e6)\n",
    "rtopo.bedrock_topography.plot(**coords, cmap=cmocean.cm.topo, alpha=1/2, cbar_kwargs={\"label\": \"Bathymetry from RTopo [m]\"})\n",
    "plt.title(f\"Outlets and Basins around {'79NG' if SELECT_79NG else 'ZI'}\")\n",
    "\n",
    "filename = f\"figures/outlets_{'79NG' if SELECT_79NG else 'ZI'}{'_xy' if XY else ''}.png\"\n",
    "print(\"Saving as\", filename)\n",
    "plt.savefig(filename)"
   ]
  },
  {
   "cell_type": "code",
   "execution_count": null,
   "id": "acadc1c2-05b2-48d6-8f2b-c2f875d15ef6",
   "metadata": {},
   "outputs": [],
   "source": []
  }
 ],
 "metadata": {
  "kernelspec": {
   "display_name": "Python 3 (ipykernel)",
   "language": "python",
   "name": "python3"
  },
  "language_info": {
   "codemirror_mode": {
    "name": "ipython",
    "version": 3
   },
   "file_extension": ".py",
   "mimetype": "text/x-python",
   "name": "python",
   "nbconvert_exporter": "python",
   "pygments_lexer": "ipython3",
   "version": "3.11.6"
  }
 },
 "nbformat": 4,
 "nbformat_minor": 5
}
