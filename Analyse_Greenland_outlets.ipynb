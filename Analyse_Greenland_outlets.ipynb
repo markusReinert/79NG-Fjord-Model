{
 "cells": [
  {
   "cell_type": "markdown",
   "id": "bbc902ff-8b96-4fb9-aade-6e68cbde4552",
   "metadata": {},
   "source": [
    "# Analyse the Outlets in the Dataset by Mankoff (2020)\n",
    "\n",
    "This notebook loads the outlets from the dataset by Mankoff (2020), selects the ones near the 79° North Glacier (79NG), and shows them on a map of Northeast Greenland.\n",
    "The map also shows the bathymetry and topography of the area, obtained from the RTopo-2.0.4 dataset.\n",
    "\n",
    "To use this notebook:\n",
    "1. Download the [dataset by Mankoff (2020)](https://doi.org/10.22008/FK2/XKQVL7) into a folder `data/Mankoff_2020_v5` (the large NetCDF files are not needed here and can be left out).\n",
    "2. Download the file `RTopo-2.0.4_30sec_Greenland.nc` from the [dataset by Schaffer et al. (2019)](https://doi.org/10.1594/PANGAEA.905295) into a folder `data`.\n",
    "3. Download the [GitHub repository GEUS-Glaciology-and-Climate/freshwater](https://github.com/GEUS-Glaciology-and-Climate/freshwater) into a folder `freshwater`.\n",
    "\n",
    "References:\n",
    "* Mankoff, Kenneth et al. (2020): _Greenland liquid water discharge from 1958 through 2019,_ Earth System Science Data, https://doi.org/10.5194/essd-12-2811-2020 (paper)\n",
    "* Mankoff, Kenneth (2020): _Streams, Outlets, Basins, and Discharge [k=1.0],_ GEUS Dataverse, V5 (release 2023), https://doi.org/10.22008/FK2/XKQVL7 (dataset)\n",
    "* Mankoff, Kenneth (6 October 2023): _Freshwater,_ GitHub, https://github.com/GEUS-Glaciology-and-Climate/freshwater (repository)\n",
    "* Schaffer, Janin et al. (2019): _An update to Greenland and Antarctic ice sheet topography, cavity geometry, and global bathymetry (RTopo-2.0.4),_ PANGAEA, https://doi.org/10.1594/PANGAEA.905295 (dataset)\n",
    "\n",
    "Notebook by Markus Reinert (IOW, 2023, https://orcid.org/0000-0002-3761-8029)."
   ]
  },
  {
   "cell_type": "code",
   "execution_count": null,
   "id": "0fe0443a-5dad-4c05-b280-967b10e751fe",
   "metadata": {
    "tags": []
   },
   "outputs": [],
   "source": [
    "import numpy as np\n",
    "import xarray as xr\n",
    "import matplotlib.pyplot as plt\n",
    "import cmocean\n",
    "from pyproj import Transformer\n",
    "\n",
    "from freshwater.discharge import discharge as Discharge"
   ]
  },
  {
   "cell_type": "markdown",
   "id": "b85ac167-5da5-40c2-a96b-5715b3dca5ce",
   "metadata": {},
   "source": [
    "## Set up the coordinate transformation"
   ]
  },
  {
   "cell_type": "code",
   "execution_count": null,
   "id": "fd86fbee-7fbc-4004-b191-61ebd2152c90",
   "metadata": {},
   "outputs": [],
   "source": [
    "transform_xy_to_lonlat = Transformer.from_crs(\"EPSG:3413\", \"EPSG:4326\", always_xy=True).transform"
   ]
  },
  {
   "cell_type": "markdown",
   "id": "3a8c3097-e534-4d99-b1cd-95f7de2f4a3e",
   "metadata": {
    "tags": []
   },
   "source": [
    "## Load the bathymetry data"
   ]
  },
  {
   "cell_type": "code",
   "execution_count": null,
   "id": "9ce9a3be-cf2a-45f7-9ad2-34207a645fdf",
   "metadata": {
    "tags": []
   },
   "outputs": [],
   "source": [
    "rtopo = xr.open_dataset(\"data/RTopo-2.0.4_30sec_Greenland.nc\")\n",
    "rtopo = rtopo.set_index(londim=\"lon\", latdim=\"lat\")\n",
    "rtopo = rtopo.rename({\"latdim\": \"lat\", \"londim\": \"lon\"})\n",
    "rtopo = rtopo.sel(lon=slice(-29, -16), lat=slice(78.5, 80.5))\n",
    "rtopo"
   ]
  },
  {
   "cell_type": "markdown",
   "id": "927c8602-291c-4df2-84ce-d93b48ceb510",
   "metadata": {},
   "source": [
    "## Load the outlet data"
   ]
  },
  {
   "cell_type": "code",
   "execution_count": null,
   "id": "53642778-128f-44f8-95d2-9a848d5f947e",
   "metadata": {
    "tags": []
   },
   "outputs": [],
   "source": [
    "# Choose between 79NG (True) or Zachariae Isstrom (False)\n",
    "SELECT_79NG = True\n",
    "if SELECT_79NG:\n",
    "    position = \"-22,79.4\"\n",
    "else:\n",
    "    position = \"-22,79.0\"\n",
    "outlets = Discharge(\"data/Mankoff_2020_v5/freshwater/\", position, quiet=False).outlets()\n",
    "outlets"
   ]
  },
  {
   "cell_type": "markdown",
   "id": "24634316-6f95-404c-b8dd-7202e5dcea58",
   "metadata": {
    "tags": []
   },
   "source": [
    "## Run some basic checks"
   ]
  },
  {
   "cell_type": "code",
   "execution_count": null,
   "id": "3350167b-5485-4e1a-b78a-368a63fe8758",
   "metadata": {
    "tags": []
   },
   "outputs": [],
   "source": [
    "# Check that coast coordinates of ice outlet are equal to coordinates of land outlet\n",
    "# and that land outlet has no coast coordinates\n",
    "outlet_ice = outlets[outlets.domain == \"ice\"]\n",
    "outlet_land = outlets[outlets.domain == \"land\"]\n",
    "if len(outlet_ice) == len(outlet_land) == 1:\n",
    "    assert outlet_ice.coast_x.iloc[0] == outlet_land.x.iloc[0]\n",
    "    assert outlet_ice.coast_y.iloc[0] == outlet_land.y.iloc[0]\n",
    "    assert outlet_ice.coast_lon.iloc[0] == outlet_land.lon.iloc[0]\n",
    "    assert outlet_ice.coast_lat.iloc[0] == outlet_land.lat.iloc[0]\n",
    "    assert all(np.isnan(outlet_land.coast_lon))\n",
    "    assert all(np.isnan(outlet_land.coast_lat))\n",
    "else:\n",
    "    print(\"These checks are only implemented for exactly one ice and one land outlet.\")"
   ]
  },
  {
   "cell_type": "code",
   "execution_count": null,
   "id": "96fb5cb9-4ff2-47ee-996f-6e30c7983b62",
   "metadata": {
    "tags": []
   },
   "outputs": [],
   "source": [
    "# Check that the coordinate transformation works\n",
    "lon, lat = transform_xy_to_lonlat(outlets.x, outlets.y)\n",
    "assert np.allclose(lon, outlets.lon) and np.allclose(lat, outlets.lat)"
   ]
  },
  {
   "cell_type": "markdown",
   "id": "3bfc528d-b603-4ea5-902d-e7169f4de677",
   "metadata": {},
   "source": [
    "## Show outlets and bathymetry"
   ]
  },
  {
   "cell_type": "code",
   "execution_count": null,
   "id": "a03067d3-33d2-4c9d-8d74-c05d5ebfcd81",
   "metadata": {
    "tags": []
   },
   "outputs": [],
   "source": [
    "plt.figure(dpi=150)\n",
    "rtopo.bedrock_topography.plot(cmap=cmocean.cm.topo)\n",
    "for i, outlet in outlets.iterrows():\n",
    "    try:\n",
    "        l, = plt.plot(\n",
    "            *transform_xy_to_lonlat(*outlet.basin.exterior.xy),\n",
    "            \"--\" if outlet.domain == \"ice\" else \"-\",\n",
    "            label=outlet.domain,\n",
    "        )\n",
    "    except AttributeError as e:\n",
    "        print(f\"AttributeError at oulet #{i}:\", e)\n",
    "    plt.plot(outlet.lon, outlet.lat, \"o\", color=l.get_color())\n",
    "plt.legend(title=\"Domain:\", loc=\"upper left\")\n",
    "plt.title(\"Outlets around 79NG on RTopo bathymetry\")\n",
    "plt.grid()\n",
    "filename = f\"figures/outlets_{'79NG' if SELECT_79NG else 'ZI'}.png\"\n",
    "print(\"Saving as\", filename)\n",
    "plt.savefig(filename, dpi=300)"
   ]
  },
  {
   "cell_type": "code",
   "execution_count": null,
   "id": "acadc1c2-05b2-48d6-8f2b-c2f875d15ef6",
   "metadata": {},
   "outputs": [],
   "source": []
  }
 ],
 "metadata": {
  "kernelspec": {
   "display_name": "Python 3 (ipykernel)",
   "language": "python",
   "name": "python3"
  },
  "language_info": {
   "codemirror_mode": {
    "name": "ipython",
    "version": 3
   },
   "file_extension": ".py",
   "mimetype": "text/x-python",
   "name": "python",
   "nbconvert_exporter": "python",
   "pygments_lexer": "ipython3",
   "version": "3.11.6"
  }
 },
 "nbformat": 4,
 "nbformat_minor": 5
}
