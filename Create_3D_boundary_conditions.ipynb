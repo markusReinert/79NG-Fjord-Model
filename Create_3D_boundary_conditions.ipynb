{
 "cells": [
  {
   "cell_type": "markdown",
   "id": "23fc9f67-8da9-41ea-b9e5-1c194ecf8ab3",
   "metadata": {
    "editable": true,
    "slideshow": {
     "slide_type": ""
    },
    "tags": []
   },
   "source": [
    "# Create 3D Boundary Conditions of the 79NG Fjord GETM Setup\n",
    "\n",
    "This notebook creates the 3D boundary conditions of the 79NG fjord setup in GETM.\n",
    "\n",
    "The data used as boundary conditions have been provided by Claudia Wekerle (AWI).\n",
    "They come from the FESOM2 setup with increased resolution in the 79NG fjord used by McPherson, Wekerle and Kanzow (2023, https://doi.org/10.1029/2023JC019915).\n",
    "\n",
    "Notebook by Markus Reinert (IOW, 2023, https://orcid.org/0000-0002-3761-8029)."
   ]
  },
  {
   "cell_type": "code",
   "execution_count": null,
   "id": "27fe8a75-ba5f-4a00-9bcc-caf33c57ff36",
   "metadata": {},
   "outputs": [],
   "source": [
    "import numpy as np\n",
    "import xarray as xr\n",
    "import matplotlib.pyplot as plt\n",
    "from scipy.interpolate import griddata\n",
    "from pyproj import CRS, Transformer"
   ]
  },
  {
   "cell_type": "markdown",
   "id": "568cb635-85ce-4947-973c-bbda718c9126",
   "metadata": {},
   "source": [
    "## Prepare the coordinate transformation\n",
    "\n",
    "The interpolation of the data for the boundary conditions must be computed on a Cartesian coordinate system, not a latitude–longitude system, in order to have the correct distances between grid points.\n",
    "Here we define\n",
    "* the Coordinate Reference System (CRS) in which the model grids are given,\n",
    "* a projected CRS that is suitable for the interpolation,\n",
    "* a Transformer object from the former to the latter."
   ]
  },
  {
   "cell_type": "markdown",
   "id": "68798918-e7fe-4139-842f-3d45a388fa0d",
   "metadata": {},
   "source": [
    "### CRS of model grids"
   ]
  },
  {
   "cell_type": "code",
   "execution_count": null,
   "id": "187464a8-f053-472e-ae8d-585fe6d342a5",
   "metadata": {},
   "outputs": [],
   "source": [
    "crs_latlon = CRS.from_epsg(4326)\n",
    "crs_latlon"
   ]
  },
  {
   "cell_type": "markdown",
   "id": "2998561d-07fe-45ff-beb1-ba73b326f4b3",
   "metadata": {},
   "source": [
    "### CRS for interpolation"
   ]
  },
  {
   "cell_type": "code",
   "execution_count": null,
   "id": "29fd25bb-ae38-4118-b365-a20bd38e4360",
   "metadata": {},
   "outputs": [],
   "source": [
    "crs_cartesian = CRS.from_epsg(3413)\n",
    "crs_cartesian"
   ]
  },
  {
   "cell_type": "markdown",
   "id": "096183e7-38e9-4c3d-9732-8080e6f7c132",
   "metadata": {},
   "source": [
    "### CRS transformer"
   ]
  },
  {
   "cell_type": "code",
   "execution_count": null,
   "id": "182e7cc1-ea73-474d-b2f4-934a748ea222",
   "metadata": {},
   "outputs": [],
   "source": [
    "transformer = Transformer.from_crs(crs_latlon, crs_cartesian)"
   ]
  },
  {
   "cell_type": "markdown",
   "id": "d81209b0-023c-44c2-aaf4-69592c29fe4d",
   "metadata": {},
   "source": [
    "## Load the FESOM data"
   ]
  },
  {
   "cell_type": "code",
   "execution_count": null,
   "id": "7af0d178-5fe9-4ead-8af7-87baf48fbf34",
   "metadata": {
    "tags": []
   },
   "outputs": [],
   "source": [
    "# Idea for generalization: loop over all years,\n",
    "# for each year load all NetCDF-files for this year,\n",
    "# and combine them into one xarray Dataset,\n",
    "# applying the mask obtained from zero salinity\n",
    "year = 2010\n",
    "var = \"salt\"\n",
    "filename = f\"data/FESOM/{var}.fesom.{year}.sub.nc\"\n",
    "fesom = xr.open_dataset(filename)\n",
    "\n",
    "# Mask out cells with zero salinity\n",
    "fesom[\"mask\"] = fesom.salt > 0\n",
    "fesom[var] = fesom[var].where(fesom.mask)\n",
    "\n",
    "# Remove layers where all values are masked out\n",
    "for k in range(fesom.nz1.size):\n",
    "    if not np.any(fesom.mask[:, :, k]):\n",
    "        assert np.all(fesom.mask.isel(nz1=slice(k, None)) == False), \"not all deeper levels are masked\"\n",
    "        assert fesom.nz1.size == fesom.nz.size - 1, \"dimension nz is not 1 larger than nz1\"\n",
    "        fesom = fesom.isel(nz1=slice(k), nz=slice(k+1))\n",
    "        break\n",
    "\n",
    "# Add Cartesian coordinates to the dataset\n",
    "fesom.coords[\"X\"], fesom.coords[\"Y\"] = (\n",
    "    (\"nod2\", coord, {\"long_name\": axis_info.name, \"units\": \"m\", \"CRS\": str(crs_cartesian)})\n",
    "    for coord, axis_info in zip(transformer.transform(fesom.lat, fesom.lon), crs_cartesian.axis_info)\n",
    ")\n",
    "\n",
    "del fesom[\"faces\"]\n",
    "\n",
    "fesom"
   ]
  },
  {
   "cell_type": "markdown",
   "id": "535377eb-aeae-4445-afcd-70226980e0e1",
   "metadata": {},
   "source": [
    "## Define the target grid"
   ]
  },
  {
   "cell_type": "code",
   "execution_count": null,
   "id": "2e361129-9533-4288-a888-b6f13b10fac7",
   "metadata": {},
   "outputs": [],
   "source": [
    "getm = xr.Dataset({\"lon\": np.arange(-20, -14.9, 0.025)})\n",
    "getm[\"lat\"] = 79.2 * np.ones_like(getm.lon)\n",
    "getm[\"X\"], getm[\"Y\"] = transformer.transform(getm.lat, getm.lon)\n",
    "getm"
   ]
  },
  {
   "cell_type": "markdown",
   "id": "b207bd9c-ef5c-4b6e-bb91-1002a5d86687",
   "metadata": {},
   "source": [
    "## Show the grids"
   ]
  },
  {
   "cell_type": "code",
   "execution_count": null,
   "id": "3c8ca79f-680c-4825-8c2d-2cb920099263",
   "metadata": {},
   "outputs": [],
   "source": [
    "fig, axs = plt.subplots(ncols=2, figsize=(12, 5), dpi=200, constrained_layout=True)\n",
    "\n",
    "for ax, x, y, crs in zip(axs, [\"lon\", \"X\"], [\"lat\", \"Y\"], [crs_latlon, crs_cartesian]):\n",
    "    ax.scatter(fesom[x], fesom[y], 1, fesom.mask.isel(time=0, nz1=0))\n",
    "    ax.scatter(getm[x], getm[y], 1, \"r\")\n",
    "    ax.set_title(f\"{crs.name}\\n{crs}\")\n",
    "    ax.set_xlabel(f\"{fesom[x].long_name} [{fesom[x].units}]\")\n",
    "    ax.set_ylabel(f\"{fesom[y].long_name} [{fesom[y].units}]\")\n",
    "ax.set_aspect(\"equal\")"
   ]
  },
  {
   "cell_type": "markdown",
   "id": "7a33ba2c-af09-4aa6-944e-8e00e169ecd6",
   "metadata": {},
   "source": [
    "## Interpolate the data"
   ]
  },
  {
   "cell_type": "code",
   "execution_count": null,
   "id": "174eddb5-34bd-40db-8438-0894d2346397",
   "metadata": {},
   "outputs": [],
   "source": [
    "assert fesom.time.size == 12, \"FESOM dataset does not have 12 months\"\n",
    "salt = xr.DataArray(np.full((fesom.nz1.size, getm.lon.size), np.nan), [-fesom.nz1, getm.lon])\n",
    "for k in range(fesom.nz1.size):\n",
    "    for month in range(12):\n",
    "        salt[k] = griddata((fesom.X, fesom.Y), fesom.salt[month, :, k], (getm.X, getm.Y))\n",
    "        break  # TODO: remove (this is only here to show a result quickly)\n",
    "salt.plot()"
   ]
  },
  {
   "cell_type": "code",
   "execution_count": null,
   "id": "2726cbae-0f46-4789-8da8-a7df25a84c40",
   "metadata": {},
   "outputs": [],
   "source": []
  }
 ],
 "metadata": {
  "kernelspec": {
   "display_name": "Python 3 (ipykernel)",
   "language": "python",
   "name": "python3"
  },
  "language_info": {
   "codemirror_mode": {
    "name": "ipython",
    "version": 3
   },
   "file_extension": ".py",
   "mimetype": "text/x-python",
   "name": "python",
   "nbconvert_exporter": "python",
   "pygments_lexer": "ipython3",
   "version": "3.11.6"
  }
 },
 "nbformat": 4,
 "nbformat_minor": 5
}
