{
 "cells": [
  {
   "cell_type": "markdown",
   "id": "23fc9f67-8da9-41ea-b9e5-1c194ecf8ab3",
   "metadata": {},
   "source": [
    "# The Problem with Interpolation on a Lat–Lon Grid\n",
    "\n",
    "This notebook shows an issue that appeared during the creation of the 3D boundary conditions of the GETM setup for the 79° North Glacier fjord.\n",
    "The problem is that interpolation of data between two grids does not give the expected result when the grids are in latitude and longitude.\n",
    "For a physically realistic result, the data must be interpolated between two Cartesian grids.\n",
    "This problem is shown here together with a possible solution.\n",
    "\n",
    "Notebook by Markus Reinert (IOW, 2023, https://orcid.org/0000-0002-3761-8029)."
   ]
  },
  {
   "cell_type": "code",
   "execution_count": null,
   "id": "27fe8a75-ba5f-4a00-9bcc-caf33c57ff36",
   "metadata": {},
   "outputs": [],
   "source": [
    "import numpy as np\n",
    "import xarray as xr\n",
    "import matplotlib.pyplot as plt\n",
    "import cmocean\n",
    "from scipy.interpolate import griddata\n",
    "from pyproj import CRS, Transformer"
   ]
  },
  {
   "cell_type": "markdown",
   "id": "d81209b0-023c-44c2-aaf4-69592c29fe4d",
   "metadata": {},
   "source": [
    "## Load FESOM data\n",
    "\n",
    "for a single point in time\n",
    "and mask cells with zero salinity."
   ]
  },
  {
   "cell_type": "code",
   "execution_count": null,
   "id": "7af0d178-5fe9-4ead-8af7-87baf48fbf34",
   "metadata": {},
   "outputs": [],
   "source": [
    "fesom = xr.open_dataset(\"data/FESOM/salt.fesom.2010.sub.nc\").isel(time=0)\n",
    "fesom[\"salt\"] = fesom.salt.where(fesom.salt > 0)\n",
    "fesom"
   ]
  },
  {
   "cell_type": "markdown",
   "id": "26c75921-c9ce-4536-a1d6-92b2d1b1b811",
   "metadata": {},
   "source": [
    "### Show data on native grid"
   ]
  },
  {
   "cell_type": "code",
   "execution_count": null,
   "id": "8341f56d-6fd0-45b9-b5d1-9cf46873a003",
   "metadata": {},
   "outputs": [],
   "source": [
    "plt.title(\"Sea surface salinity [PSU]\")\n",
    "plt.scatter(fesom.lon, fesom.lat, s=1, c=np.isnan(fesom.salt.isel(nz1=0)), cmap=\"Greys\")\n",
    "plt.scatter(fesom.lon, fesom.lat, s=1, c=fesom.salt.isel(nz1=0), cmap=cmocean.cm.haline)\n",
    "plt.colorbar()\n",
    "plt.grid()"
   ]
  },
  {
   "cell_type": "markdown",
   "id": "64b35523-88db-4280-a83d-a098b9b66b9f",
   "metadata": {},
   "source": [
    "## Interpolate on a lat–lon grid"
   ]
  },
  {
   "cell_type": "code",
   "execution_count": null,
   "id": "e577e3dd-a036-4538-9862-70ff161f4370",
   "metadata": {
    "tags": []
   },
   "outputs": [],
   "source": [
    "# Choose the depth at which to interpolate\n",
    "salt_layer = fesom.salt.isel(nz1=21)\n",
    "\n",
    "# Choose the coordinates of the target grid\n",
    "lon = np.arange(-17.9, -17.45, 0.025)\n",
    "lat = 79.2 * np.ones_like(lon)\n",
    "\n",
    "# Interpolate the data using lat–lon coordinates\n",
    "salt = griddata((fesom.lon, fesom.lat), salt_layer, (lon, lat))\n",
    "\n",
    "vmin = np.nanmin(salt)\n",
    "vmax = np.nanmax(salt)\n",
    "\n",
    "fig, axs = plt.subplots(3, figsize=(5, 14), dpi=200, constrained_layout=True)\n",
    "\n",
    "ax = axs[0]\n",
    "_  = ax.scatter(fesom.lon, fesom.lat, s=1, c=np.isnan(salt_layer), cmap=\"Greys\", vmax=2)\n",
    "im = ax.scatter(fesom.lon, fesom.lat, s=1, c=salt_layer, cmap=cmocean.cm.haline, vmin=vmin, vmax=vmax)\n",
    "fig.colorbar(im, ax=axs, location=\"top\", fraction=0.05, shrink=0.8, extend=\"both\", label=f\"Salinity at {salt_layer.nz1.data} m depth [PSU]\")\n",
    "ax.plot(lon, lat, \"r-\", lw=1, label=\"interpolation along this line\")\n",
    "ax.legend()\n",
    "\n",
    "for ax in axs[1:]:\n",
    "    ax.scatter(lon, lat, s=30, c=np.isnan(salt), cmap=\"Greys\")\n",
    "    ax.scatter(lon, lat, s=30, c=salt, cmap=cmocean.cm.haline, vmin=vmin, vmax=vmax)\n",
    "\n",
    "    ax.scatter(fesom.lon, fesom.lat, s=20, c=np.isnan(salt_layer), cmap=\"Greys\", vmax=2)\n",
    "    ax.scatter(fesom.lon, fesom.lat, s=20, c=salt_layer, cmap=cmocean.cm.haline, vmin=vmin, vmax=vmax)\n",
    "\n",
    "    ax.set_xticks(np.arange(-17.9, -17.4, 0.1))\n",
    "    ax.set_xticks(np.arange(-17.9, -17.4, 0.05), minor=True)\n",
    "    ax.set_yticks(np.arange(79.1, 79.3, 0.02))\n",
    "    ax.set_yticks(np.arange(79.1, 79.3, 0.01), minor=True)\n",
    "    ax.set_ylim(79.15, 79.25)\n",
    "    ax.set_xlim(-17.9, -17.5)\n",
    "    ax.grid(which=\"both\")\n",
    "\n",
    "axs[0].set_title(\"Overview\")\n",
    "axs[1].set_title(\"Aspect ratio about 1 on a Cartesian grid\")\n",
    "axs[2].set_title(\"Aspect ratio 1 on a lat–lon grid\")\n",
    "axs[2].set_aspect(\"equal\")"
   ]
  },
  {
   "cell_type": "markdown",
   "id": "08007b50-cc7a-4709-80ce-4a954a7e3ee3",
   "metadata": {},
   "source": [
    "With the aspect ratio in the middle panel, it seems wrong that some of the interpolated points are NaN (black), even though they are surrounded by valid points.\n",
    "Looking at the same situation with an equal lat–lon aspect (bottom panel), it becomes clear that these points are in fact close to a masked point (grey), so they become NaN in the interpolation."
   ]
  },
  {
   "cell_type": "markdown",
   "id": "7ac17d9e-8f41-4b0f-bb76-22ae97019c8b",
   "metadata": {},
   "source": [
    "## Transform to Cartesian coordinates"
   ]
  },
  {
   "cell_type": "markdown",
   "id": "a7331100-0761-4d17-a633-03f5a7369199",
   "metadata": {},
   "source": [
    "### CRS of model grids"
   ]
  },
  {
   "cell_type": "code",
   "execution_count": null,
   "id": "187464a8-f053-472e-ae8d-585fe6d342a5",
   "metadata": {},
   "outputs": [],
   "source": [
    "crs_latlon = CRS.from_epsg(4326)\n",
    "crs_latlon"
   ]
  },
  {
   "cell_type": "markdown",
   "id": "09127463-0ccb-4ac9-8fd8-6eeef460f134",
   "metadata": {},
   "source": [
    "### CRS for interpolation"
   ]
  },
  {
   "cell_type": "code",
   "execution_count": null,
   "id": "29fd25bb-ae38-4118-b365-a20bd38e4360",
   "metadata": {},
   "outputs": [],
   "source": [
    "crs_cartesian = CRS.from_epsg(3413)\n",
    "crs_cartesian"
   ]
  },
  {
   "cell_type": "markdown",
   "id": "a0c20ff9-0659-42f1-8b4d-8fba7ae91294",
   "metadata": {},
   "source": [
    "### CRS transformer"
   ]
  },
  {
   "cell_type": "code",
   "execution_count": null,
   "id": "91d56ec0-9228-4a57-9838-a3f352b23159",
   "metadata": {},
   "outputs": [],
   "source": [
    "transformer = Transformer.from_crs(crs_latlon, crs_cartesian)"
   ]
  },
  {
   "cell_type": "markdown",
   "id": "03ec6682-0eb3-4d8b-9a67-f8e0bb220536",
   "metadata": {},
   "source": [
    "### Add transformed coordinates to the dataset"
   ]
  },
  {
   "cell_type": "code",
   "execution_count": null,
   "id": "182e7cc1-ea73-474d-b2f4-934a748ea222",
   "metadata": {},
   "outputs": [],
   "source": [
    "fesom[\"X\"], fesom[\"Y\"] = transformer.transform(fesom.lat, fesom.lon)\n",
    "fesom.X.attrs.update({\"long_name\": crs_cartesian.axis_info[0].name, \"units\": \"m\", \"CRS\": str(crs_cartesian)})\n",
    "fesom.Y.attrs.update({\"long_name\": crs_cartesian.axis_info[1].name, \"units\": \"m\", \"CRS\": str(crs_cartesian)})"
   ]
  },
  {
   "cell_type": "markdown",
   "id": "ba0bdd6d-dc51-4895-b2bd-b688307d6cca",
   "metadata": {},
   "source": [
    "### Show data on transformed grid"
   ]
  },
  {
   "cell_type": "code",
   "execution_count": null,
   "id": "7a78c835-cc81-4e52-aa80-5c870e5dcc59",
   "metadata": {},
   "outputs": [],
   "source": [
    "fig, ax = plt.subplots()\n",
    "_  = ax.scatter(fesom.X, fesom.Y, s=1, c=np.isnan(fesom.salt.isel(nz1=0)), cmap=\"Greys\")\n",
    "im = ax.scatter(fesom.X, fesom.Y, s=1, c=fesom.salt.isel(nz1=0), cmap=cmocean.cm.haline)\n",
    "fig.colorbar(im, ax=ax)\n",
    "ax.plot(*transformer.transform([79.2, 79.2, 80.3, 80.3], [-23, -15, -15, -23]), \"r--\", label=\"straight line on the map\")\n",
    "ax.plot(*transformer.transform(np.linspace(79.2, 79.2), np.linspace(-23, -15)), \"r.\", label=\"straight line in reality\")\n",
    "ax.plot(*transformer.transform(np.linspace(79.2, 80.3), np.linspace(-15, -15)), \"r.\")\n",
    "ax.plot(*transformer.transform(np.linspace(80.3, 80.3), np.linspace(-23, -15)), \"r.\")\n",
    "ax.legend()\n",
    "ax.set_title(\"Sea surface salinity [PSU]\")\n",
    "ax.set_aspect(\"equal\")"
   ]
  },
  {
   "cell_type": "markdown",
   "id": "7698c375-75a9-48b4-b035-957a2d21f45f",
   "metadata": {},
   "source": [
    "## Interpolate on a Cartesian grid"
   ]
  },
  {
   "cell_type": "code",
   "execution_count": null,
   "id": "174eddb5-34bd-40db-8438-0894d2346397",
   "metadata": {},
   "outputs": [],
   "source": [
    "# Choose the depth at which to interpolate\n",
    "salt_layer = fesom.salt.isel(nz1=21)\n",
    "\n",
    "# Choose the coordinates of the target grid\n",
    "lon = np.arange(-20, -14.9, 0.025)\n",
    "lat = 79.2 * np.ones_like(lon)\n",
    "\n",
    "# Transform the target grid\n",
    "X, Y = transformer.transform(lat, lon)\n",
    "\n",
    "# Interpolate the data using Cartesian coordinates\n",
    "salt = griddata((fesom.X, fesom.Y), salt_layer, (X, Y))\n",
    "\n",
    "vmin = np.nanmin(salt)\n",
    "vmax = np.nanmax(salt)\n",
    "\n",
    "fig, axs = plt.subplots(ncols=2, gridspec_kw={\"width_ratios\": (2, 1)}, constrained_layout=True, figsize=(15, 3), dpi=300)\n",
    "\n",
    "ax = axs[0]\n",
    "ax.set_title(f\"Cartesian coordinate system ({crs_cartesian})\")\n",
    "ax.scatter(fesom.X, fesom.Y, s=2, c=np.isnan(salt_layer), cmap=\"Greys\", vmax=2)\n",
    "ax.scatter(fesom.X, fesom.Y, s=2, c=salt_layer, cmap=cmocean.cm.haline, vmin=vmin, vmax=vmax)\n",
    "\n",
    "_  = ax.scatter(X, Y, s=1, c=np.isnan(salt), cmap=\"Greys\")\n",
    "im = ax.scatter(X, Y, s=1, c=salt, cmap=cmocean.cm.haline, vmin=vmin, vmax=vmax)\n",
    "fig.colorbar(im, ax=axs)\n",
    "\n",
    "ax.set_xlim(510e3, 590e3)\n",
    "ax.set_ylim(-1.055e6, -1.015e6)\n",
    "ax.set_aspect(\"equal\")\n",
    "\n",
    "ax = axs[1]\n",
    "ax.set_title(f\"Lat–lon coordinate system ({crs_latlon})\")\n",
    "ax.scatter(fesom.lon, fesom.lat, s=2, c=np.isnan(salt_layer), cmap=\"Greys\", vmax=2)\n",
    "ax.scatter(fesom.lon, fesom.lat, s=2, c=salt_layer, cmap=cmocean.cm.haline, vmin=vmin, vmax=vmax)\n",
    "\n",
    "ax.scatter(lon, lat, s=1, c=np.isnan(salt), cmap=\"Greys\")\n",
    "ax.scatter(lon, lat, s=1, c=salt, cmap=cmocean.cm.haline, vmin=vmin, vmax=vmax)\n",
    "\n",
    "ax.set_xlim(-19, -16)\n",
    "ax.set_ylim(79.0, 79.4)"
   ]
  },
  {
   "cell_type": "markdown",
   "id": "9344c601-de84-435d-b9f1-9b04e3a178c2",
   "metadata": {},
   "source": [
    "With the interpolation on Cartesian coordinates, only those points are NaN (black) which are adjacent to a masked point (grey), as expected."
   ]
  }
 ],
 "metadata": {
  "kernelspec": {
   "display_name": "Python 3 (ipykernel)",
   "language": "python",
   "name": "python3"
  },
  "language_info": {
   "codemirror_mode": {
    "name": "ipython",
    "version": 3
   },
   "file_extension": ".py",
   "mimetype": "text/x-python",
   "name": "python",
   "nbconvert_exporter": "python",
   "pygments_lexer": "ipython3",
   "version": "3.7.12"
  }
 },
 "nbformat": 4,
 "nbformat_minor": 5
}
