{
 "cells": [
  {
   "cell_type": "markdown",
   "metadata": {
    "tags": []
   },
   "source": [
    "# Create the Topography of the 79NG Fjord GETM Setup\n",
    "\n",
    "This notebook creates the topography of the 79° North Glacier (79NG) fjord in a format that is suitable for GETM.\n",
    "The topography consists of the bathymetry, extracted from the RTopo dataset, and the ice thickness, extracted from the BedMachine dataset.\n",
    "Furthermore, the indices of the grid points that form the grounding line are determined.\n",
    "The resolution of the topography product is about 500 m in latitude and longitude ($\\Delta \\phi = 1/240° \\approx 0.00417°$, $\\Delta \\lambda = 3/120° = 0.025°$).\n",
    "\n",
    "To use this notebook:\n",
    " 1. Download the file `RTopo-2.0.4_30sec_Greenland.nc` from the [dataset by Schaffer et al. (2019)](https://doi.org/10.1594/PANGAEA.905295) into a folder `data`.\n",
    " 2. Download the file `BedMachineGreenland-v5.nc` from the [dataset by Morlighem et al. (2022)](https://doi.org/10.5067/GMEVBWFLWA7X) into a folder `data`.\n",
    "\n",
    "**Acknowledgement:**\n",
    "Many thanks to Samira Zander for valuable preparatory work during an internship at IOW in 2021.\n",
    "\n",
    "**References:**\n",
    " * Haney, R. (1991): _On the Pressure Gradient Force over Steep Topography in Sigma Coordinate Ocean Models,_ Journal of Physical Oceanography, https://doi.org/10.1175/1520-0485(1991)021%3C0610:OTPGFO%3E2.0.CO;2\n",
    " * Klingbeil, K. et al. (2018): _The numerics of hydrostatic structured-grid coastal ocean models: State of the art and future perspectives,_ Ocean Modelling, https://doi.org/10.1016/j.ocemod.2018.01.007\n",
    " * Morlighem, M.  et al. (2022): _IceBridge BedMachine Greenland, Version 5,_ NASA National Snow and Ice Data Center Distributed Active Archive Center, https://doi.org/10.5067/GMEVBWFLWA7X (dataset)\n",
    " * Reinert, M. et al. (2023): _High-Resolution Simulations of the Plume Dynamics in an Idealized 79°N Glacier Cavity Using Adaptive Vertical Coordinates,_ Journal of Advances in Modeling Earth Systems, https://doi.org/10.1029/2023MS003721\n",
    " * Schaffer, J. et al. (2019): _An update to Greenland and Antarctic ice sheet topography, cavity geometry, and global bathymetry (RTopo-2.0.4),_ PANGAEA, https://doi.org/10.1594/PANGAEA.905295 (dataset)\n",
    "\n",
    "Notebook by Markus Reinert (IOW, 2023–2024, https://orcid.org/0000-0002-3761-8029)."
   ]
  },
  {
   "cell_type": "code",
   "execution_count": null,
   "metadata": {},
   "outputs": [],
   "source": [
    "import gsw\n",
    "import numpy as np\n",
    "import xarray as xr\n",
    "import cmocean\n",
    "import matplotlib.pyplot as plt\n",
    "from matplotlib.colors import LogNorm\n",
    "from pyproj import CRS, Transformer\n",
    "\n",
    "from tools.smoothing import smooth_2D_array\n",
    "from tools.configuration import Configuration"
   ]
  },
  {
   "cell_type": "code",
   "execution_count": null,
   "metadata": {
    "tags": []
   },
   "outputs": [],
   "source": [
    "config = Configuration()"
   ]
  },
  {
   "cell_type": "markdown",
   "metadata": {},
   "source": [
    "## Prepare the coordinate transformation"
   ]
  },
  {
   "cell_type": "markdown",
   "metadata": {},
   "source": [
    "### CRS of RTopo\n",
    "\n",
    "The RTopo dataset is in lat–lon coordinates, which we also want to use for the GETM setup.\n",
    "RTopo has a resolution of $\\Delta \\phi = \\Delta \\lambda = 1/120°$, which is highely anisotropic at 79°N, i.e., the distance in meters is much larger in meridional than in longitudinal direction: $\\Delta y \\gg \\Delta x$.\n",
    "To obtain an approximately squared model grid ($\\Delta x \\approx \\Delta y$), we have to choose a coarser resolution in longitudinal than in meridional direction: $\\Delta \\lambda > \\Delta \\phi$.\n",
    "The anisotropy also has the effect that lat–lon coordinates are not feasible for interpolation."
   ]
  },
  {
   "cell_type": "code",
   "execution_count": null,
   "metadata": {},
   "outputs": [],
   "source": [
    "crs_latlon = CRS.from_epsg(4326)\n",
    "crs_latlon"
   ]
  },
  {
   "cell_type": "markdown",
   "metadata": {},
   "source": [
    "### CRS of BedMachine\n",
    "\n",
    "The BedMachine dataset is in Cartesian coordinates.\n",
    "Since distances in this coordinate system are close to physical distances on Earth, we can use these coordinates for interpolation."
   ]
  },
  {
   "cell_type": "code",
   "execution_count": null,
   "metadata": {},
   "outputs": [],
   "source": [
    "crs_cartesian = CRS.from_epsg(3413)\n",
    "crs_cartesian"
   ]
  },
  {
   "cell_type": "markdown",
   "metadata": {},
   "source": [
    "### CRS transformation"
   ]
  },
  {
   "cell_type": "code",
   "execution_count": null,
   "metadata": {},
   "outputs": [],
   "source": [
    "transform_latlon_to_xy = Transformer.from_crs(crs_latlon, crs_cartesian).transform\n",
    "transform_xy_to_latlon = Transformer.from_crs(crs_cartesian, crs_latlon).transform"
   ]
  },
  {
   "cell_type": "markdown",
   "metadata": {
    "tags": []
   },
   "source": [
    "## Load the RTopo dataset"
   ]
  },
  {
   "cell_type": "code",
   "execution_count": null,
   "metadata": {},
   "outputs": [],
   "source": [
    "rtopo = xr.open_dataset(\"data/RTopo-2.0.4_30sec_Greenland.nc\")\n",
    "\n",
    "# Correct the names of the dimensions (\"lat\"/\"lon\" instead of \"latdim\"/\"londim\")\n",
    "rtopo = rtopo.set_index(latdim=\"lat\", londim=\"lon\")\n",
    "rtopo = rtopo.rename({\"latdim\": \"lat\", \"londim\": \"lon\"})\n",
    "\n",
    "# Choose an area around 79NG that is a bit larger than the desired model domain\n",
    "rtopo = rtopo.sel(lon=slice(-23, -14), lat=slice(79.1, 80.4))\n",
    "\n",
    "# Check that the mask of the floating ice tongue (amask = 2) is simply given by all\n",
    "# points at which the ice draft is below the sea level but above the sea floor.\n",
    "# This will allow us later to re-construct the mask from regridded data.\n",
    "assert np.all(\n",
    "    ((rtopo.ice_base_topography > rtopo.bedrock_topography) & (rtopo.ice_base_topography < 0))\n",
    "    == (rtopo.amask == 2)\n",
    "), \"mask of floating ice tongue cannot be reconstructed as expected\"\n",
    "\n",
    "# Compute and add Cartesian coordinates\n",
    "X, Y = transform_latlon_to_xy(*xr.broadcast(rtopo.lat, rtopo.lon))\n",
    "rtopo.coords[\"x\"] = ([\"lat\", \"lon\"], X)\n",
    "rtopo.coords[\"y\"] = ([\"lat\", \"lon\"], Y)\n",
    "rtopo.x.attrs = {\"long_name\": crs_cartesian.axis_info[0].name, \"units\": \"m\", \"CRS\": str(crs_cartesian)}\n",
    "rtopo.y.attrs = {\"long_name\": crs_cartesian.axis_info[1].name, \"units\": \"m\", \"CRS\": str(crs_cartesian)}\n",
    "\n",
    "rtopo"
   ]
  },
  {
   "cell_type": "markdown",
   "metadata": {
    "editable": true,
    "slideshow": {
     "slide_type": ""
    },
    "tags": []
   },
   "source": [
    "### Compute the grid resolution"
   ]
  },
  {
   "cell_type": "code",
   "execution_count": null,
   "metadata": {},
   "outputs": [],
   "source": [
    "# Compute grid resolution in degrees\n",
    "d_lat = np.diff(rtopo.lat)\n",
    "d_lon = np.diff(rtopo.lon)\n",
    "\n",
    "# Compute grid resolution in meters\n",
    "LON, LAT = np.meshgrid(rtopo.lon, rtopo.lat)\n",
    "dist_lat = gsw.distance(LON, LAT, axis=0)\n",
    "dist_lon = gsw.distance(LON, LAT, axis=1)\n",
    "\n",
    "print(f\"Meridional   resolution: {d_lat.min():.6f}° to {d_lat.max():.6f}° ({dist_lat.min():.2f} m to {dist_lat.max():.2f} m)\")\n",
    "print(f\"Longitudinal resolution: {d_lon.min():.6f}° to {d_lon.max():.6f}° ({dist_lon.min():.2f} m to {dist_lon.max():.2f} m)\")"
   ]
  },
  {
   "cell_type": "markdown",
   "metadata": {},
   "source": [
    "### Show the data"
   ]
  },
  {
   "cell_type": "code",
   "execution_count": null,
   "metadata": {},
   "outputs": [],
   "source": [
    "fig, axs = plt.subplots(ncols=3, sharex=True, sharey=True, constrained_layout=True, dpi=300, figsize=(10, 3))\n",
    "fig2, axs2 = plt.subplots(ncols=3, sharex=True, sharey=True, constrained_layout=True, dpi=300, figsize=(10, 2.4))\n",
    "\n",
    "fig.suptitle(f\"Ellipsoidal coordinates ({crs_latlon})\")\n",
    "fig2.suptitle(f\"Cartesian coordinates ({crs_cartesian})\")\n",
    "\n",
    "for ax, ax2, var, cmap in zip(\n",
    "    axs, axs2, [\"bedrock_topography\", \"ice_base_topography\", \"amask\"], [cmocean.cm.topo, None, None]\n",
    "):\n",
    "    im = rtopo[var].plot(ax=ax, cmap=cmap)\n",
    "    im2 = rtopo[var].plot(ax=ax2, x=\"x\", y=\"y\", cmap=cmap)\n",
    "    ax.set_title(var)\n",
    "    ax2.set_title(var)\n",
    "    ax2.set_aspect(\"equal\")\n",
    "    if var == \"amask\":\n",
    "        im.colorbar.set_ticks(np.arange(4))\n",
    "        im2.colorbar.set_ticks(np.arange(4))\n",
    "for ax in [*axs[1:], *axs2[1:]]:\n",
    "    ax.set_ylabel(\"\")"
   ]
  },
  {
   "cell_type": "markdown",
   "metadata": {},
   "source": [
    "## Load the BedMachine dataset"
   ]
  },
  {
   "cell_type": "code",
   "execution_count": null,
   "metadata": {
    "tags": []
   },
   "outputs": [],
   "source": [
    "bedmachine = xr.open_dataset(\"data/BedMachineGreenland-v5.nc\")\n",
    "\n",
    "# Check that the expected coordinate reference system is used\n",
    "assert str(crs_cartesian).lower() in bedmachine.proj4, f\"BedMachine seems to use a coordinate system other than {crs_cartesian}\"\n",
    "# Invert the y-axis to have increasing coordinates\n",
    "bedmachine = bedmachine.isel(y=slice(None, None, -1))\n",
    "# Crop to the same extent as RTopo\n",
    "bedmachine = bedmachine.sel(x=slice(rtopo.x.min(), rtopo.x.max()), y=slice(rtopo.y.min(), rtopo.y.max()))\n",
    "\n",
    "# Compute and add ellipsoidal coordinates\n",
    "LAT, LON = transform_xy_to_latlon(*xr.broadcast(bedmachine.x, bedmachine.y))\n",
    "bedmachine.coords[\"lat\"] = ([\"x\", \"y\"], LAT)\n",
    "bedmachine.coords[\"lon\"] = ([\"x\", \"y\"], LON)\n",
    "bedmachine.lat.attrs = {\"long_name\": crs_latlon.axis_info[0].name, \"units\": \"degree\", \"CRS\": str(crs_latlon)}\n",
    "bedmachine.lon.attrs = {\"long_name\": crs_latlon.axis_info[1].name, \"units\": \"degree\", \"CRS\": str(crs_latlon)}\n",
    "\n",
    "bedmachine"
   ]
  },
  {
   "cell_type": "markdown",
   "metadata": {
    "editable": true,
    "slideshow": {
     "slide_type": ""
    },
    "tags": []
   },
   "source": [
    "### Compute the grid resolution"
   ]
  },
  {
   "cell_type": "code",
   "execution_count": null,
   "metadata": {},
   "outputs": [],
   "source": [
    "dx = np.diff(bedmachine.x)\n",
    "dy = np.diff(bedmachine.y)\n",
    "\n",
    "assert all(dx == dx[0]), \"x-resolution is not constant\"\n",
    "assert all(dy == dy[0]), \"y-resolution is not constant\"\n",
    "assert dx[0] == dy[0], \"x- and y-resolutions differ\"\n",
    "\n",
    "print(f\"Resolution in x- and in y-direction: {dx[0]} {bedmachine.x.units}\")"
   ]
  },
  {
   "cell_type": "markdown",
   "metadata": {},
   "source": [
    "### Show the data"
   ]
  },
  {
   "cell_type": "code",
   "execution_count": null,
   "metadata": {},
   "outputs": [],
   "source": [
    "fig, axs = plt.subplots(ncols=3, sharex=True, sharey=True, constrained_layout=True, dpi=300, figsize=(10, 2.5))\n",
    "fig2, axs2 = plt.subplots(ncols=3, sharex=True, sharey=True, constrained_layout=True, dpi=300, figsize=(10, 2.5))\n",
    "\n",
    "fig.suptitle(f\"Cartesian coordinates ({crs_cartesian})\")\n",
    "fig2.suptitle(f\"Ellipsoidal coordinates ({crs_latlon})\")\n",
    "\n",
    "for ax, ax2, var, cmap in zip(axs, axs2, [\"bed\", \"thickness\", \"mask\"], [cmocean.cm.topo, None, None]):\n",
    "    im = bedmachine[var].plot(ax=ax, cmap=cmap)\n",
    "    im2 = bedmachine[var].plot(ax=ax2, x=\"lon\", y=\"lat\", cmap=cmap)\n",
    "    ax.set_title(var)\n",
    "    ax2.set_title(var)\n",
    "    ax.set_aspect(\"equal\")\n",
    "    if var == \"mask\":\n",
    "        im.colorbar.set_ticks(np.arange(4))\n",
    "        im2.colorbar.set_ticks(np.arange(4))\n",
    "for ax in [*axs[1:], *axs2[1:]]:\n",
    "    ax.set_ylabel(\"\")"
   ]
  },
  {
   "cell_type": "markdown",
   "metadata": {},
   "source": [
    "## Show the alignment between the two datasets"
   ]
  },
  {
   "cell_type": "code",
   "execution_count": null,
   "metadata": {
    "tags": []
   },
   "outputs": [],
   "source": [
    "fig, ax = plt.subplots(figsize=(7, 4), dpi=300, constrained_layout=True)\n",
    "for mask, name, ice_value, cmap in [\n",
    "    (bedmachine.mask, \"BedMachine\", 3, \"Reds\"), (rtopo.amask, \"RTopo\", 2, \"Blues\")\n",
    "]:\n",
    "    im = mask.where((mask == 0) | (mask == ice_value)).plot(\n",
    "        x=\"x\", y=\"y\", vmin=-2 * ice_value, vmax=2 * ice_value, cmap=cmap, alpha=0.5\n",
    "    )\n",
    "    im.colorbar.set_label(name)\n",
    "    im.colorbar.set_ticks([-2 * ice_value, 0, ice_value])\n",
    "    im.colorbar.set_ticklabels([\"\", \"\", \"\"] if name == \"RTopo\" else [\"land\", \"ocean\", \"ice tongue\"])\n",
    "ax.set_title(\"Comparison of the masks of the two datasets\")\n",
    "ax.set_aspect(\"equal\")"
   ]
  },
  {
   "cell_type": "markdown",
   "metadata": {},
   "source": [
    "## Create the topography dataset\n",
    "\n",
    "To transform the RTopo grid into a grid with 500 m resolution, we cut the latitude grid in halves and reduce the longitude grid by combining every three grid cells into one.\n",
    "This yields a meridional resolution of 1/240°, which is close to 500 m, and a longitudinal resolution of 3/120° = 0.025°, which is also close to 500 m (shorter than 500 m in the North of the domain, longer than 500 m in the South)."
   ]
  },
  {
   "cell_type": "code",
   "execution_count": null,
   "metadata": {
    "tags": []
   },
   "outputs": [],
   "source": [
    "n_divide_lat = 2\n",
    "n_filter_lon = 3"
   ]
  },
  {
   "cell_type": "code",
   "execution_count": null,
   "metadata": {
    "tags": []
   },
   "outputs": [],
   "source": [
    "ds = xr.Dataset(\n",
    "    {\"grid_type\": 2, \"dlat\": 1 / 120 / n_divide_lat, \"dlon\": n_filter_lon / 120},\n",
    "    attrs={\n",
    "        \"title\": \"Topography of the 79NG fjord for GETM\",\n",
    "        \"author\": \"Markus Reinert (ORCID: 0000-0002-3761-8029)\",\n",
    "        \"institution\": \"Leibniz Institute for Baltic Sea Research Warnemuende (IOW), Germany\",\n",
    "        \"description\": \"Bathymetry and ice thickness of the 79NG fjord in Greenland \"\n",
    "                       \"on a regular lat-lon grid with a resolution of approximately 500 m, \"\n",
    "                       \"to be used with the regional ocean model GETM.\",\n",
    "        \"comment\": \"When opening this dataset with ncview, use the option `-minmax all` \"\n",
    "                   \"to see the full range of the topography.\",\n",
    "    },\n",
    ")\n",
    "\n",
    "# Add coordinates\n",
    "ds.coords[\"lat\"] = np.arange(79.1, 80.401, ds.dlat)\n",
    "ds.coords[\"lon\"] = np.arange(-23., -13.99, ds.dlon)\n",
    "\n",
    "# Add attributes\n",
    "ds.lat.attrs = {\"long_name\": \"latitude\" , \"units\": \"degree\", \"CRS\": str(crs_latlon)}\n",
    "ds.lon.attrs = {\"long_name\": \"longitude\", \"units\": \"degree\", \"CRS\": str(crs_latlon)}\n",
    "ds.dlat.attrs = {\"long_name\":   \"meridional resolution\", \"units\": \"degree\"}\n",
    "ds.dlon.attrs = {\"long_name\": \"longitudinal resolution\", \"units\": \"degree\"}\n",
    "ds.grid_type.attrs = {\"description\": \"equi-distant spherical grid\"}\n",
    "\n",
    "# Check for consistency with RTopo\n",
    "assert np.allclose(ds.lat[::n_divide_lat], rtopo.lat), \"Latitude does not match RTopo\"\n",
    "assert np.allclose(ds.lon, rtopo.lon[::n_filter_lon]), \"Longitude does not match RTopo\"\n",
    "\n",
    "ds"
   ]
  },
  {
   "cell_type": "markdown",
   "metadata": {
    "tags": []
   },
   "source": [
    "### Check the grid resolution"
   ]
  },
  {
   "cell_type": "code",
   "execution_count": null,
   "metadata": {
    "tags": []
   },
   "outputs": [],
   "source": [
    "# Compute grid resolution in meter\n",
    "LON, LAT = np.meshgrid(ds.lon, ds.lat)\n",
    "dist_lat = gsw.distance(LON, LAT, axis=0)\n",
    "dist_lon = gsw.distance(LON, LAT, axis=1)\n",
    "\n",
    "assert np.allclose(ds.dlat, np.diff(ds.lat)), \"meridional distance is not correct\"\n",
    "assert np.allclose(ds.dlon, np.diff(ds.lon)), \"longitudinal distance is not correct\"\n",
    "assert np.allclose(dist_lat, dist_lat[0, 0]), \"meridional distance in meter is not constant\"\n",
    "assert not np.allclose(dist_lon, dist_lon[0, 0]), \"longitudinal distance in meter is almost constant\"\n",
    "\n",
    "print(f\"{ds.dlat.long_name}:   {ds.dlat:.5f}° ({dist_lat[0, 0]:.2f} m)\")\n",
    "print(f\"{ds.dlon.long_name}: {ds.dlon:.5f}° ({dist_lon.min():.2f} m to {dist_lon.max():.2f} m)\")"
   ]
  },
  {
   "cell_type": "markdown",
   "metadata": {},
   "source": [
    "### Add Cartesian coordinates"
   ]
  },
  {
   "cell_type": "code",
   "execution_count": null,
   "metadata": {
    "tags": []
   },
   "outputs": [],
   "source": [
    "X, Y = transform_latlon_to_xy(*xr.broadcast(ds.lat, ds.lon))\n",
    "ds.coords[\"x\"] = ([\"lat\", \"lon\"], X)\n",
    "ds.coords[\"y\"] = ([\"lat\", \"lon\"], Y)\n",
    "ds.x.attrs = {\"long_name\": crs_cartesian.axis_info[0].name, \"units\": \"m\", \"CRS\": str(crs_cartesian)}\n",
    "ds.y.attrs = {\"long_name\": crs_cartesian.axis_info[1].name, \"units\": \"m\", \"CRS\": str(crs_cartesian)}"
   ]
  },
  {
   "cell_type": "markdown",
   "metadata": {
    "tags": []
   },
   "source": [
    "### Reduce the longitudinal resolution of RTopo\n",
    "\n",
    "If the library `bottleneck` is installed, we need to deactivate it for the computation of the moving average, because of a strange bug in the mean-computation: https://github.com/pydata/xarray/issues/1346.\n",
    "This wrong computation of the mean causes ice base topography and bed rock topography to differ slightly after the averaging, so we selection of the mask gives a wrong result."
   ]
  },
  {
   "cell_type": "code",
   "execution_count": null,
   "metadata": {
    "tags": []
   },
   "outputs": [],
   "source": [
    "# Why does the selection work without method=\"nearest\"?\n",
    "# Maybe because rtopo.lon is float32, but ds.lon is float64?\n",
    "with xr.set_options(use_bottleneck=False):\n",
    "    ice_base = rtopo.ice_base_topography.rolling(lon=n_filter_lon, center=True).mean().sel(lon=ds.lon)\n",
    "    bed_rock = rtopo.bedrock_topography .rolling(lon=n_filter_lon, center=True).mean().sel(lon=ds.lon)"
   ]
  },
  {
   "cell_type": "markdown",
   "metadata": {},
   "source": [
    "### Interpolate RTopo in meridional direction\n",
    "\n",
    "As the grids of RTopo and the topography dataset are not exactly equal, the interpolation results in slightly different values at the grid locations that already exist in RTopo.\n",
    "However, this difference is less than 0.6 m and much smaller in most places, so not relevant."
   ]
  },
  {
   "cell_type": "code",
   "execution_count": null,
   "metadata": {
    "tags": []
   },
   "outputs": [],
   "source": [
    "ice_base = ice_base.interp(lat=ds.lat)\n",
    "bed_rock = bed_rock.interp(lat=ds.lat)"
   ]
  },
  {
   "cell_type": "markdown",
   "metadata": {},
   "source": [
    "### Smooth the RTopo data\n",
    "\n",
    "We smooth the topography using a running mean of size 3×3 to obtain a simpler mask."
   ]
  },
  {
   "cell_type": "code",
   "execution_count": null,
   "metadata": {
    "tags": []
   },
   "outputs": [],
   "source": [
    "ice_base_smooth = smooth_2D_array(ice_base, 1, 1)\n",
    "bed_rock_smooth = smooth_2D_array(bed_rock, 1, 1)"
   ]
  },
  {
   "cell_type": "markdown",
   "metadata": {
    "tags": []
   },
   "source": [
    "### Create the mask"
   ]
  },
  {
   "cell_type": "markdown",
   "metadata": {},
   "source": [
    "#### Compute the ocean mask\n",
    "\n",
    "We take as water/ocean points all grid cells where\n",
    " * the bedrock is below sea level **and**\n",
    " * the ice base is above the sea floor.\n",
    "\n",
    "According to the check we made when loading RTopo, this fits with the RTopo mask.\n",
    "\n",
    "We remove points where the ocean is only 2 m shallow or less, since these grid cells might fall dry during ebb.\n",
    "Masking these points gives a clearly simpler domain boundary and reduces problems with misaligning ice/ocean data."
   ]
  },
  {
   "cell_type": "code",
   "execution_count": null,
   "metadata": {
    "tags": []
   },
   "outputs": [],
   "source": [
    "ds[\"mask\"] = (\n",
    "    (\"lat\", \"lon\"),\n",
    "    (bed_rock_smooth < -2) & (ice_base_smooth > bed_rock_smooth),\n",
    "    {\n",
    "        \"long_name\": \"ocean mask\",\n",
    "        \"source\": \"RTopo-2.0.4 (Schaffer et al. 2019)\",\n",
    "        \"description\": \"The ocean mask is True on all water points \"\n",
    "                       \"and False on points with land or grounded ice.\",\n",
    "    },\n",
    ")\n",
    "cbar_kwargs = {\"ticks\": [0, 1], \"format\": lambda x, pos: \"ocean\" if x else \"land\", \"label\": \"\"}\n",
    "ds.mask.plot(cbar_kwargs=cbar_kwargs)\n",
    "ds.mask"
   ]
  },
  {
   "cell_type": "markdown",
   "metadata": {},
   "source": [
    "#### Remove isolated lakes\n",
    "\n",
    "Isolated lakes with no connection to the ocean are irrelevant for the model, so we set them to land to simplify the shape of the model domain."
   ]
  },
  {
   "cell_type": "code",
   "execution_count": null,
   "metadata": {
    "tags": []
   },
   "outputs": [],
   "source": [
    "mask_lake = ds.mask.sel(lat=slice(80.299, 80.315), lon=slice(-16.38, -16.34))\n",
    "print(f\"Selection in the North contains {mask_lake.size} points of which {np.count_nonzero(mask_lake)} are water points that are put to land now.\")\n",
    "mask_lake[...] = False\n",
    "\n",
    "mask_lake = ds.mask.sel(lat=80.0875, lon=-20.3, method=\"nearest\")\n",
    "print(f\"Selection 1 near Dijmphna Sound contains 1 {'water point that is put to land now' if mask_lake else 'land point'}.\")\n",
    "mask_lake[...] = False\n",
    "\n",
    "mask_lake = ds.mask.sel(lat=80.096, lon=-20.375, method=\"nearest\")\n",
    "print(f\"Selection 2 near Dijmphna Sound contains 1 {'water point that is put to land now' if mask_lake else 'land point'}.\")\n",
    "mask_lake[...] = False\n",
    "\n",
    "ds.mask.plot(cbar_kwargs=cbar_kwargs);"
   ]
  },
  {
   "cell_type": "markdown",
   "metadata": {},
   "source": [
    "#### Compare the created ocean mask with the original masks"
   ]
  },
  {
   "cell_type": "code",
   "execution_count": null,
   "metadata": {
    "tags": []
   },
   "outputs": [],
   "source": [
    "fig, ax = plt.subplots(constrained_layout=True, dpi=300)\n",
    "ds.mask.plot(cmap=\"Greys_r\", alpha=0.5, cbar_kwargs=cbar_kwargs)\n",
    "for name, mask, ice_value in [(\"BedMachine\", bedmachine.mask, 3), (\"RTopo\", rtopo.amask, 2)]:\n",
    "    cs = ((mask == 0) | (mask == ice_value)).plot.contour(\n",
    "        x=\"lon\", y=\"lat\", levels=[0.5], linewidths=0.5, colors=name[0].lower()\n",
    "    )\n",
    "    plt.plot([], [], color=cs.get_edgecolor(), lw=cs.get_linewidth(), label=name)\n",
    "plt.legend(loc=\"upper left\", title=\"Mask of dataset\")\n",
    "ax.set_title(\"Comparison of the created mask with the original masks\")\n",
    "ax.set_xlim(-22.8, -15.5)\n",
    "ax.set_aspect(ds.dlon / ds.dlat)"
   ]
  },
  {
   "cell_type": "markdown",
   "metadata": {},
   "source": [
    "In the vicinity of the grounding line, the created mask (grey and white areas in the background) has more ocean points than the masks of the two original datasets (red and blue lines).\n",
    "We will adjust the mask there manually to obtain a better fit with the data."
   ]
  },
  {
   "cell_type": "markdown",
   "metadata": {},
   "source": [
    "#### Bring the BedMachine mask to the model grid"
   ]
  },
  {
   "cell_type": "code",
   "execution_count": null,
   "metadata": {
    "tags": []
   },
   "outputs": [],
   "source": [
    "# Make the BedMachine mask binary: False for land, True for ocean\n",
    "bm_mask = (bedmachine.mask == 0) | (bedmachine.mask == 3)\n",
    "# Get rid of latitude and longitude to prevent a clash of dimensions when interpolating\n",
    "del bm_mask[\"lat\"], bm_mask[\"lon\"]\n",
    "# Interpolate the BedMachine mask to the model grid\n",
    "bm_mask = bm_mask.astype(float).interp(x=ds.x, y=ds.y)\n",
    "# Make the array Boolean (again) by applying a 90%-threshold\n",
    "bm_mask = bm_mask > 0.9"
   ]
  },
  {
   "cell_type": "markdown",
   "metadata": {},
   "source": [
    "#### Adjust the mask in the southwestern corner of the fjord\n",
    "\n",
    "In the area shown in the following figure, we adjust the mask manually to be more consistent with the datasets.\n",
    "Without adjustment, the model showed high barotropic velocities in this area.\n",
    "Our adjustment consists of two steps:\n",
    "* We mask the southernmost row of ocean points in the fjord, since they are land (or grounded ice) in both datasets.\n",
    "* We use the BedMachine mask for the southeastern corner of the fjord, since the RTopo mask looks irregular there."
   ]
  },
  {
   "cell_type": "code",
   "execution_count": null,
   "metadata": {
    "tags": []
   },
   "outputs": [],
   "source": [
    "fig, ax = plt.subplots(constrained_layout=True, figsize=(6, 3), dpi=300)\n",
    "\n",
    "ds.mask.plot(cmap=\"Greys_r\", alpha=0.5, cbar_kwargs=cbar_kwargs | {\"label\": \"Created mask\"})\n",
    "ds.mask.plot.contour(levels=[0.5], colors=\"k\")\n",
    "plt.plot([], [], \"k\", label=\"Created mask\")\n",
    "bm_mask.plot(cmap=\"Blues\", alpha=0.5, cbar_kwargs={\"ticks\": [], \"label\": \"BedMachine mask\"})\n",
    "\n",
    "for mask, name, ice_value in [(bedmachine.mask, \"BedMachine\", 3), (rtopo.amask, \"RTopo\", 2)]:\n",
    "    cs = ((mask == 0) | (mask == ice_value)).plot.contour(x=\"lon\", y=\"lat\", levels=[0.5], colors=name[0].lower())\n",
    "    plt.plot([], [], color=cs.get_edgecolor(), label=name)\n",
    "plt.legend(loc=\"lower right\", fontsize=\"small\")\n",
    "\n",
    "ax.set_title(\"Zoom to the grounding line South\")\n",
    "# Show the model grid as squares with lables in cell centers\n",
    "ax.set_xticks(ds.lon[::10])\n",
    "ax.set_yticks(ds.lat[::6])\n",
    "ax.set_xticks(ds.lon - ds.dlon/2, minor=True)\n",
    "ax.set_yticks(ds.lat - ds.dlat/2, minor=True)\n",
    "ax.set_xlim(-22.55 - ds.dlon/2, -21.75 + ds.dlon/2)\n",
    "ax.set_ylim(79.25 - ds.dlat/2, 79.35 + ds.dlat/2)\n",
    "ax.set_aspect(ds.dlon / ds.dlat)\n",
    "ax.grid(which=\"minor\")"
   ]
  },
  {
   "cell_type": "code",
   "execution_count": null,
   "metadata": {
    "tags": []
   },
   "outputs": [],
   "source": [
    "# Mask the southernmost row of ocean points in the fjord\n",
    "lat_fjord_S = ds.lat.sel(lat=79.25 + 4 * ds.dlat, method=\"nearest\")\n",
    "print(f\"Selected row at {lat_fjord_S:.4f}°N.\")\n",
    "assert np.all(ds.mask.sel(lon=slice(-21), lat=slice(lat_fjord_S - ds.dlat/2)) == False), \"selected latitude is not southern most ocean row in the fjord\"\n",
    "mask_fjord_S = ds.mask.sel(lon=slice(-21), lat=lat_fjord_S)\n",
    "print(\"Contains\", np.count_nonzero(mask_fjord_S), \"ocean points in the fjord that are put to land now.\")\n",
    "mask_fjord_S[:] = False"
   ]
  },
  {
   "cell_type": "code",
   "execution_count": null,
   "metadata": {
    "tags": []
   },
   "outputs": [],
   "source": [
    "# Use the BedMachine mask for the southeastern corner of the fjord\n",
    "ds[\"mask\"] &= bm_mask.where((ds.lon >= -22.35) & (ds.lon <= -21.8) & (ds.lat < 79.35), True)\n",
    "ds.mask.plot(cbar_kwargs=cbar_kwargs);"
   ]
  },
  {
   "cell_type": "markdown",
   "metadata": {
    "tags": []
   },
   "source": [
    "### Add the bathymetry"
   ]
  },
  {
   "cell_type": "code",
   "execution_count": null,
   "metadata": {
    "tags": []
   },
   "outputs": [],
   "source": [
    "ds[\"bathymetry\"] = (\n",
    "    (\"lat\", \"lon\"),\n",
    "    -bed_rock_smooth,\n",
    "    {\n",
    "        \"long_name\": \"bottom depth\",\n",
    "        \"units\": \"m\",\n",
    "        \"positive\": \"down\",\n",
    "        \"source\": \"RTopo-2.0.4 (Schaffer et al. 2019)\",\n",
    "    },\n",
    ")\n",
    "ds[\"bathymetry\"] = ds.bathymetry.where(ds.mask)\n",
    "# Smooth the bathymetry with a 5×5 running mean filter\n",
    "ds.bathymetry.data = smooth_2D_array(ds.bathymetry, 2, 2)\n",
    "ds.bathymetry.plot(cmap=cmocean.cm.deep)\n",
    "plt.title(\"Bathymetry\");"
   ]
  },
  {
   "cell_type": "markdown",
   "metadata": {},
   "source": [
    "### Process the ice thickness"
   ]
  },
  {
   "cell_type": "markdown",
   "metadata": {},
   "source": [
    "#### Interpolate the data to the model grid\n",
    "\n",
    "For the interpolation, Cartesian coordinates must be used.\n",
    "We then apply the mask of the model grid by multiplication, so that we have 0 (and not NaN) on land."
   ]
  },
  {
   "cell_type": "code",
   "execution_count": null,
   "metadata": {
    "tags": []
   },
   "outputs": [],
   "source": [
    "# Get rid of latitude and longitude to prevent a clash of dimensions when interpolating\n",
    "bm_thickness = bedmachine.thickness\n",
    "del bm_thickness[\"lat\"], bm_thickness[\"lon\"]\n",
    "ds[\"glIceD\"] = bm_thickness.interp(x=ds.x, y=ds.y) * ds.mask\n",
    "ds.glIceD.attrs = {\n",
    "    \"long_name\": \"glacial ice thickness\",\n",
    "    \"units\": \"m\",\n",
    "    \"source\": \"BedMachine v5.5 (Morlighem et al. 2022)\",\n",
    "}\n",
    "\n",
    "plt.figure(dpi=300)\n",
    "ds.mask.plot(cbar_kwargs=cbar_kwargs, vmax=2, cmap=\"Reds\", alpha=1/2)\n",
    "ds.glIceD.where(ds.glIceD).plot(cmap=cmocean.cm.ice)\n",
    "plt.title(\"Ice thickness\");"
   ]
  },
  {
   "cell_type": "markdown",
   "metadata": {},
   "source": [
    "#### Remove isolated ice columns\n",
    "\n",
    "Along the coasts of Dijmphna Sound and Hovgaard Island, there are a few isolated ice columns.\n",
    "Since the original data does not show any isolated ice columns, they can be considered artificats due to the misalignment of the masks.\n",
    "Given that the 79NG ice tongue lies below 79.83°N, we remove all ice further north."
   ]
  },
  {
   "cell_type": "code",
   "execution_count": null,
   "metadata": {
    "tags": []
   },
   "outputs": [],
   "source": [
    "ice_north = ds.glIceD.sel(lat=slice(79.83, 80.4))\n",
    "print(f\"Selection contains {np.count_nonzero(ice_north)} ice columns, which are removed now.\")\n",
    "ice_north[...] = 0"
   ]
  },
  {
   "cell_type": "markdown",
   "metadata": {},
   "source": [
    "#### Smooth the ice thickness\n",
    "\n",
    "Similar to the smoothing of the bathymetry, we use a running mean of size 3×3.\n",
    "\n",
    "Note:\n",
    "We smooth the ice also between ice and ocean (but not between ice and land), resulting in a larger ice tongue after the smoothing than before.\n",
    "This reduces the slopes at the calving front and fills out ice-free points in the fjord that come from the mismatch of the masks between RTopo and BedMachine."
   ]
  },
  {
   "cell_type": "code",
   "execution_count": null,
   "metadata": {
    "tags": []
   },
   "outputs": [],
   "source": [
    "ice_smooth = smooth_2D_array(ds.glIceD.where(ds.mask), 1, 1)\n",
    "ds.glIceD.data = np.where(np.isfinite(ice_smooth), ice_smooth, 0)\n",
    "\n",
    "plt.figure(dpi=300)\n",
    "ds.mask.plot(cbar_kwargs=cbar_kwargs, vmax=2, cmap=\"Reds\", alpha=1/2)\n",
    "ds.glIceD.where(ds.glIceD).plot(cmap=cmocean.cm.ice)\n",
    "plt.title(\"Ice thickness\");"
   ]
  },
  {
   "cell_type": "markdown",
   "metadata": {},
   "source": [
    "### Crop to the model domain\n",
    "\n",
    "The chosen extent is 4 cells larger than the domain of interest, so that the open boundaries and the sponge zones (3 grid points adjacent to each open boundary) are *not* within the domain of interest.\n",
    "In the West, there is no open boundary; we keep one row of land points to make it clear that this boundary is closed."
   ]
  },
  {
   "cell_type": "code",
   "execution_count": null,
   "metadata": {},
   "outputs": [],
   "source": [
    "# Get the index of the westernmost ocean point\n",
    "i_ocean_west = np.where(ds.mask)[1].min()\n",
    "lon_min = ds.lon[i_ocean_west - 1]\n",
    "lon_max = -15. + 4.5 * ds.dlon\n",
    "lat_min = 79.2 - 4.5 * ds.dlat\n",
    "lat_max = 80.3 + 4.5 * ds.dlat\n",
    "ds = ds.sel(lon=slice(lon_min, lon_max), lat=slice(lat_min, lat_max))\n",
    "\n",
    "print(f\"Topography has {ds.bathymetry.size} grid points\")\n",
    "print(f\"of which {np.count_nonzero(ds.mask) / ds.bathymetry.size * 100:2.0f} %\",\n",
    "      f\"({np.count_nonzero(ds.mask):5}) are water\")\n",
    "print(f\"     and {np.count_nonzero(~ds.mask) / ds.bathymetry.size * 100:2.0f} %\",\n",
    "      f\"({np.count_nonzero(~ds.mask):5}) are land.\")\n",
    "\n",
    "ds"
   ]
  },
  {
   "cell_type": "code",
   "execution_count": null,
   "metadata": {
    "tags": []
   },
   "outputs": [],
   "source": [
    "lon_size = int(config.get_text(\"getm/domain/ih\"))\n",
    "lat_size = int(config.get_text(\"getm/domain/jh\"))\n",
    "assert lon_size == ds.lon.size, \"grid size in longitude does not match configuration\"\n",
    "assert lat_size == ds.lat.size, \"grid size in latitude does not match configuration\""
   ]
  },
  {
   "cell_type": "markdown",
   "metadata": {
    "tags": []
   },
   "source": [
    "### Simplify the sponge zone\n",
    "\n",
    "In the sponge zone (open boundary points and 3 adjacent grid points), we make the topography flat and the coastline straight to reduce problems near the open boundaries."
   ]
  },
  {
   "cell_type": "code",
   "execution_count": null,
   "metadata": {
    "tags": []
   },
   "outputs": [],
   "source": [
    "ds.bathymetry[:4] = ds.bathymetry[4]\n",
    "ds.bathymetry[-5:] = ds.bathymetry[-5]\n",
    "ds.bathymetry[:, -5:] = ds.bathymetry[:, -5]\n",
    "\n",
    "# Update the mask to fit the adjusted topography\n",
    "ds.mask.data = np.isfinite(ds.bathymetry)"
   ]
  },
  {
   "cell_type": "markdown",
   "metadata": {},
   "source": [
    "### Prevent the ice from hitting the ground\n",
    "\n",
    "In the created dataset, there are a few grid points near the grounding line and along the coastline of the fjord at which the ice would be grounded.\n",
    "(We consider those places as grounded where the water column is less than 2 m thick in the initial state.)\n",
    "In these locations, both the bathymetry from RTopo and the ice topography from BedMachine are – to some extent – a product of interpolation and not directly of measurements, so the data should be taken with a grain of salt.\n",
    "We prevent the ice from actually hitting the ground in the model by getting rid of grounded ice in three ways:\n",
    "* Away from the grounding line, grounded ice occurs only along the fjord walls and we simply set these locations to land.\n",
    "* In the northern corner of the grounding line, the ice appears to be partly grounded.  A closer look at RTopo puts the reliability of the data in this area in question.  The water column is about 1.1 m thick there.  Having a constant water column thickness over an extended area could indicate that the data is aritifical.  Therefore, we put this entire corner to land.  This includes 19 grid points more than those where the ice is grounded.\n",
    "* In the vicinity of the grounding line, grounded ice is more widespread.  Since our main interest lies in processes at the ice–ocean interface, we use the ice topography as is, assuming that the data in BedMachine is correct.  We adjust the bottom topography as needed for the ice to float.\n",
    "\n",
    "To determine if ice is floating or grounded (see Reinert et al., 2023, Section 2.2.1), we use the reference density $\\rho_0$ instead of the actual sea water density $\\rho$, which is a function of space and time.\n",
    "The difference between these two densities is generally less than 1 %.\n",
    "The reference density is also used by GETM to initialize the ice in its (approximate) vertical equilibrium position."
   ]
  },
  {
   "cell_type": "code",
   "execution_count": null,
   "metadata": {
    "tags": []
   },
   "outputs": [],
   "source": [
    "rho_0 = float(config.get_text(\"getm/parameters/rho_0\"))\n",
    "rho_ice = float(config.get_text(\"getm/ice/rho_ice\"))\n",
    "\n",
    "print(f\"The reference density is {rho_0 = :6.1f} kg/m³,\")\n",
    "print(f\"glacial ice density is {rho_ice = :6.1f} kg/m³ ({rho_ice/rho_0*100:.1f} % of rho_0).\")"
   ]
  },
  {
   "cell_type": "code",
   "execution_count": null,
   "metadata": {
    "tags": []
   },
   "outputs": [],
   "source": [
    "min_WCT = 2\n",
    "ice_draft = ds.glIceD * rho_ice / rho_0\n",
    "is_grounded = ds.bathymetry < ice_draft + min_WCT\n",
    "\n",
    "plt.figure(dpi=600)\n",
    "is_grounded.where(ds.mask).plot(cmap=\"Reds\")\n",
    "plt.title(\"Points with originally grounded ice (dark red)\")\n",
    "print(f\"There are {np.count_nonzero(is_grounded)} grid points with grounded ice.\")"
   ]
  },
  {
   "cell_type": "code",
   "execution_count": null,
   "metadata": {
    "tags": []
   },
   "outputs": [],
   "source": [
    "# Away from the grounding line, put grid points with grounded ice to land\n",
    "is_grounded_far = is_grounded.where((ds.lon > -22) | (ds.lat > 79.49), False)\n",
    "print(f\"Away from the grounding line, ice is grounded on {np.count_nonzero(is_grounded_far)} grid points that are put to land now.\")\n",
    "ds[\"mask\"] &= ~is_grounded_far"
   ]
  },
  {
   "cell_type": "code",
   "execution_count": null,
   "metadata": {
    "tags": []
   },
   "outputs": [],
   "source": [
    "# Make the mask in the northern corner of the grounding line more regular\n",
    "mask_gline_N = ds.mask.sel(lat=slice(79.5 - 5/2 * ds.dlat, None), lon=slice(-22.5 - ds.dlon))\n",
    "print(f\"Selection contains {np.count_nonzero(mask_gline_N)} water points that are put to land now.\")\n",
    "mask_gline_N[...] = False\n",
    "\n",
    "mask_gline_N = ds.mask.sel(lat=slice(79.5 - 3/2 * ds.dlat, None), lon=slice(-22.4))\n",
    "print(f\"Selection contains {np.count_nonzero(mask_gline_N)} water points that are put to land now.\")\n",
    "mask_gline_N[...] = False"
   ]
  },
  {
   "cell_type": "code",
   "execution_count": null,
   "metadata": {
    "tags": []
   },
   "outputs": [],
   "source": [
    "print(f\"The bathymetry is adjusted in {np.count_nonzero(is_grounded & ds.mask)} remaining points with grounded ice.\")\n",
    "ds.bathymetry.data = np.where(is_grounded, ice_draft + min_WCT, ds.bathymetry)"
   ]
  },
  {
   "cell_type": "code",
   "execution_count": null,
   "metadata": {
    "tags": []
   },
   "outputs": [],
   "source": [
    "# Apply the new mask\n",
    "ds[\"bathymetry\"] = ds.bathymetry.where(ds.mask)\n",
    "ds[\"glIceD\"] = ds.glIceD.where(ds.mask, 0)\n",
    "ice_draft = ds.glIceD * rho_ice / rho_0"
   ]
  },
  {
   "cell_type": "markdown",
   "metadata": {},
   "source": [
    "### Analyse the local slopes of the topography"
   ]
  },
  {
   "cell_type": "code",
   "execution_count": null,
   "metadata": {
    "tags": []
   },
   "outputs": [],
   "source": [
    "fig, axs = plt.subplots(2, 2, sharex=True, sharey=True, constrained_layout=True, figsize=(10, 7), dpi=300)\n",
    "for axs_row, dim in zip(axs, [\"lat\", \"lon\"]):\n",
    "    for ax, var in zip(axs_row, [\"bathymetry\", \"glIceD\"]):\n",
    "        ds[var].where(ds.mask).diff(dim).plot(ax=ax)\n",
    "        ax.set_title(f\"Slope of {var} in {dim}-direction\")"
   ]
  },
  {
   "cell_type": "markdown",
   "metadata": {},
   "source": [
    "### Check hydrostatic consistency\n",
    "\n",
    "Haney (1991) proposed a condition to check for hydrostatic consistency in $\\sigma$-coordinate models.\n",
    "Our GETM setup uses adaptive vertical coordinates, which greatly reduce problems with the internal pressure gradient, in comparison to $\\sigma$-coordinates.\n",
    "Nevertheless, the Haney condition can give us a first idea at which locations problems might occur.\n",
    "We apply the check for an equidistant distribution of $K = 100$ vertical levels, which is the layer distribution at the beginning of the model run.\n",
    "\n",
    "According to Equation 1 by Haney (1991) and Chapter 7.2 by Klingbeil et al. (2018), the number\n",
    "$$r = K \\frac{|\\Delta D|}D$$\n",
    "should be kept at a reasonable level, where $D$ is the water column thickness and $\\Delta D$ is its difference in zonal/meridional direction.\n",
    "In the 2D model of the 79NG fjord by Reinert et al. (2023), the maximum of $r$ is around 70 near the grounding line, so we aim to keep the value of $r$ below 100."
   ]
  },
  {
   "cell_type": "code",
   "execution_count": null,
   "metadata": {
    "tags": []
   },
   "outputs": [],
   "source": [
    "K = 100\n",
    "D = ds.bathymetry - ice_draft\n",
    "\n",
    "fig, ax_grid = plt.subplots(3, 2, sharex=True, sharey=True, constrained_layout=True, figsize=(9, 10), dpi=300)\n",
    "for axs, dim in zip(ax_grid.T, [\"lat\", \"lon\"]):\n",
    "    r = K * np.abs(D.diff(dim)) / D\n",
    "    r.plot(ax=axs[0], cmap=cmocean.cm.amp, vmax=1e2, add_colorbar=dim == \"lon\")\n",
    "    r.plot(ax=axs[1], cmap=cmocean.cm.balance, norm=LogNorm(1e-2, 1e2), add_colorbar=dim == \"lon\")\n",
    "    r.plot(ax=axs[2], cmap=cmocean.cm.balance, vmax=20, add_colorbar=dim == \"lon\")\n",
    "    axs[0].set_title(f\"$r$-value in {dim}-direction\")\n",
    "for ax in ax_grid[:-1].flatten():\n",
    "    ax.set_xlabel(\"\")\n",
    "for ax in ax_grid[:, 1:].flatten():\n",
    "    ax.set_ylabel(\"\")\n",
    "for ax in ax_grid.flatten():\n",
    "    ax.set_aspect(ds.dlon / ds.dlat)"
   ]
  },
  {
   "cell_type": "markdown",
   "metadata": {
    "tags": []
   },
   "source": [
    "### Determine the grounding line\n",
    "\n",
    "We consider as the grounding line the westernmost grid points of the water domain south of 79.49°N at 22.4°W and to the West of it."
   ]
  },
  {
   "cell_type": "code",
   "execution_count": null,
   "metadata": {
    "tags": []
   },
   "outputs": [],
   "source": [
    "gline = (-1 * ds.mask).argmin(\"lon\").sel(lat=slice(79.49))\n",
    "gline = gline.where(gline <= abs(ds.lon + 22.4).argmin(), other=-1, drop=True)\n",
    "print(f\"The grounding line consists of {gline.size} grid points.\")"
   ]
  },
  {
   "cell_type": "markdown",
   "metadata": {},
   "source": [
    "### Show the topography"
   ]
  },
  {
   "cell_type": "markdown",
   "metadata": {},
   "source": [
    "#### Compute the coordinates of the grounding line\n",
    "\n",
    "We show the grounding line in a step-wise manner along the western boundary of the grid cells that belong to the grounding line."
   ]
  },
  {
   "cell_type": "code",
   "execution_count": null,
   "metadata": {},
   "outputs": [],
   "source": [
    "gline_lat = []\n",
    "gline_lon = []\n",
    "for lon, lat in zip(ds.lon.isel(lon=gline), gline.lat):\n",
    "    gline_lat += [lat - ds.dlat / 2, lat + ds.dlat / 2]\n",
    "    gline_lon += [lon - ds.dlon / 2, lon - ds.dlon / 2]"
   ]
  },
  {
   "cell_type": "markdown",
   "metadata": {},
   "source": [
    "#### Create the figure"
   ]
  },
  {
   "cell_type": "code",
   "execution_count": null,
   "metadata": {
    "tags": []
   },
   "outputs": [],
   "source": [
    "fig, axs = plt.subplots(ncols=3, sharex=True, sharey=True, constrained_layout=True, figsize=(18, 4.5), dpi=300)\n",
    "\n",
    "ax = axs[0]\n",
    "ds.bathymetry.plot(ax=ax, cmap=cmocean.cm.deep)\n",
    "ax.set_title(f\"Bathymetry around 79NG\\nfrom {ds.bathymetry.source}\")\n",
    "ax.plot(gline_lon, gline_lat, \"r\", lw=1, solid_capstyle=\"butt\", label=\"grounding line\")\n",
    "ax.legend(loc=\"lower left\", borderaxespad=0.1)\n",
    "\n",
    "ax = axs[1]\n",
    "ds.glIceD.where(ds.glIceD).plot(ax=ax, cmap=cmocean.cm.ice_r)\n",
    "ax.set_title(f\"Ice thickness of the 79NG ice tongue\\nfrom {ds.glIceD.source}\")\n",
    "ax.set_ylabel(\"\")\n",
    "\n",
    "ax = axs[2]\n",
    "im = (ds.bathymetry - ice_draft).plot(ax=ax, cmap=cmocean.cm.amp)\n",
    "im.colorbar.set_label(\"Water column thickness [m]\")\n",
    "ax.set_title(f\"Water column thickness around 79NG\\nfor $\\\\{rho_0 = :.0f}$ kg/m³ and $\\\\rho_{{\\\\text{{ice}}}} = {rho_ice:.0f}$ kg/m³\")\n",
    "ax.set_ylabel(\"\")\n",
    "\n",
    "# Set the aspect ratio such that grid cells are squares\n",
    "for ax in axs:\n",
    "    ax.set_aspect(ds.dlon / ds.dlat)\n",
    "\n",
    "fig.savefig(\"figures/topography_500m.png\")"
   ]
  },
  {
   "cell_type": "markdown",
   "metadata": {},
   "source": [
    "### Construct $A_n$ as function of bathymetry"
   ]
  },
  {
   "cell_type": "code",
   "execution_count": null,
   "metadata": {
    "tags": []
   },
   "outputs": [],
   "source": [
    "if config.get_text(\"getm/m2d/An_method\") != \"2\":\n",
    "    print(\"An is not read from file, so no need to create An.\")\n",
    "else:\n",
    "    An = float(config.get_text(\"getm/m2d/An_const\"))\n",
    "    ds[\"An\"] = An * np.sqrt(ds.bathymetry / ds.bathymetry.max()).where(ds.mask, 0)\n",
    "    ds.An.attrs = {\n",
    "        \"long_name\": \"horizontal numerical diffusion coefficient\",\n",
    "        \"units\": \"m2/s\",\n",
    "        \"description\": f\"square-root of bathymetry with maximum {An}\",\n",
    "    }\n",
    "    ds.An.plot()"
   ]
  },
  {
   "cell_type": "markdown",
   "metadata": {},
   "source": [
    "### Check the dataset"
   ]
  },
  {
   "cell_type": "code",
   "execution_count": null,
   "metadata": {
    "tags": []
   },
   "outputs": [],
   "source": [
    "assert np.all(ds.mask == np.isfinite(ds.bathymetry)), \"bathymetry and mask do not match\"\n",
    "assert np.all(np.isfinite(ds.glIceD)), \"glacial ice thickness contains invalid values\"\n",
    "assert np.all(ds.glIceD >= 0), \"glacial ice thickness contains negative values\"\n",
    "ds"
   ]
  },
  {
   "cell_type": "markdown",
   "metadata": {},
   "source": [
    "### Save the dataset"
   ]
  },
  {
   "cell_type": "code",
   "execution_count": null,
   "metadata": {
    "tags": []
   },
   "outputs": [],
   "source": [
    "filename = config.get_file_path(\"getm/rivers/river_info\")\n",
    "with open(filename, \"w\") as f:\n",
    "    f.write(\"# Indices of the grid points along the 79NG grounding line\\n\")\n",
    "    f.write(\"# on the GETM topography with 500 m resolution\\n\")\n",
    "    f.write(\"# Subglacial runoff is uniformly distributed over these points.\\n\")\n",
    "    f.write(f\"{gline.size}\\n\")\n",
    "    for ilon in gline:\n",
    "        f.write(f\"{ilon.data + 1} {np.where(ds.lat == ilon.lat)[0][0] + 1} runoff\\n\")\n",
    "print(f\"Saved the grounding line info as {filename!r}.\")"
   ]
  },
  {
   "cell_type": "code",
   "execution_count": null,
   "metadata": {
    "tags": []
   },
   "outputs": [],
   "source": [
    "filename = config.get_file_path(\"getm/domain/bathymetry\")\n",
    "assert filename == config.get_file_path(\"getm/ice/ice_file\"), \"filenames of bathymetry and ice thickness are different\"\n",
    "assert filename == config.get_file_path(\"getm/m2d/An_file\"), \"filenames of bathymetry and An-file are different\"\n",
    "ds.to_netcdf(filename)\n",
    "print(f\"Saved the topography as {filename!r}.\")"
   ]
  },
  {
   "cell_type": "code",
   "execution_count": null,
   "metadata": {},
   "outputs": [],
   "source": []
  }
 ],
 "metadata": {
  "kernelspec": {
   "display_name": "Python 3 (ipykernel)",
   "language": "python",
   "name": "python3"
  },
  "language_info": {
   "codemirror_mode": {
    "name": "ipython",
    "version": 3
   },
   "file_extension": ".py",
   "mimetype": "text/x-python",
   "name": "python",
   "nbconvert_exporter": "python",
   "pygments_lexer": "ipython3",
   "version": "3.11.6"
  }
 },
 "nbformat": 4,
 "nbformat_minor": 4
}
