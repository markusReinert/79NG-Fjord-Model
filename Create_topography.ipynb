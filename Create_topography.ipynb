{
 "cells": [
  {
   "cell_type": "markdown",
   "metadata": {
    "tags": []
   },
   "source": [
    "# Create the Topography of the 79NG Fjord GETM Setup\n",
    "\n",
    "This notebook creates the topography of the 79° North Glacier (79NG) fjord in a format that is suitable for GETM.\n",
    "The topography consists of the bathymetry, extracted from the RTopo dataset, and the ice thickness, extracted from the BedMachine dataset.\n",
    "Furthermore, the indices of the grid points that form the grounding line are determined.\n",
    "\n",
    "To use this notebook:\n",
    " 1. Download the file `RTopo-2.0.4_30sec_Greenland.nc` from the [dataset by Schaffer et al. (2019)](https://doi.org/10.1594/PANGAEA.905295) into a folder `data`.\n",
    " 2. Download the file `BedMachineGreenland-v5.nc` from the [dataset by Morlighem et al. (2022)](https://doi.org/10.5067/GMEVBWFLWA7X) into a folder `data`.\n",
    "\n",
    "Currently, a resolution of about 1 km ($\\Delta \\phi = 1/120° \\approx 0.0083°$, $\\Delta \\lambda = 6/120° = 0.05°$) is implemented.\n",
    "A resolution of about 500 m ($\\Delta \\phi = 1/240° \\approx 0.00417°$, $\\Delta \\lambda = 3/120° = 0.025°$) is planned.\n",
    "\n",
    "**Acknowledgement:**\n",
    "Many thanks to Samira Zander for valuable preparatory work during an internship at IOW in 2021.\n",
    "\n",
    "**References:**\n",
    " * Morlighem, M.  et al. (2022): _IceBridge BedMachine Greenland, Version 5,_ NASA National Snow and Ice Data Center Distributed Active Archive Center, https://doi.org/10.5067/GMEVBWFLWA7X (dataset)\n",
    " * Reinert, M., et al. (2023): _High-Resolution Simulations of the Plume Dynamics in an Idealized 79°N Glacier Cavity Using Adaptive Vertical Coordinates,_ Journal of Advances in Modeling Earth Systems, https://doi.org/10.1029/2023MS003721\n",
    " * Schaffer, J. et al. (2019): _An update to Greenland and Antarctic ice sheet topography, cavity geometry, and global bathymetry (RTopo-2.0.4),_ PANGAEA, https://doi.org/10.1594/PANGAEA.905295 (dataset)\n",
    "\n",
    "Notebook by Markus Reinert (IOW, 2023–2024, https://orcid.org/0000-0002-3761-8029)."
   ]
  },
  {
   "cell_type": "code",
   "execution_count": null,
   "metadata": {},
   "outputs": [],
   "source": [
    "import gsw\n",
    "import numpy as np\n",
    "import xarray as xr\n",
    "import matplotlib.pyplot as plt\n",
    "import cmocean\n",
    "from pyproj import CRS, Transformer\n",
    "\n",
    "from tools.smoothing import smooth_2D_array\n",
    "from tools.configuration import Configuration"
   ]
  },
  {
   "cell_type": "code",
   "execution_count": null,
   "metadata": {
    "tags": []
   },
   "outputs": [],
   "source": [
    "config = Configuration()"
   ]
  },
  {
   "cell_type": "markdown",
   "metadata": {},
   "source": [
    "## Prepare the coordinate transformation"
   ]
  },
  {
   "cell_type": "markdown",
   "metadata": {},
   "source": [
    "### CRS of RTopo\n",
    "\n",
    "The RTopo dataset is in lat–lon coordinates, which we also want to use for the GETM setup.\n",
    "RTopo has a resolution of $\\Delta \\phi = \\Delta \\lambda = 1/120°$, which is highely anisotropic at 79°N, i.e., the distance in meters is much larger in meridional than in longitudinal direction: $\\Delta y \\gg \\Delta x$.\n",
    "To obtain an approximately squared model grid ($\\Delta x \\approx \\Delta y$), we have to choose a coarser resolution in longitudinal than in meridional direction: $\\Delta \\lambda > \\Delta \\phi$.\n",
    "The anisotropy also has the effect that lat–lon coordinates are not feasible for interpolation."
   ]
  },
  {
   "cell_type": "code",
   "execution_count": null,
   "metadata": {},
   "outputs": [],
   "source": [
    "crs_latlon = CRS.from_epsg(4326)\n",
    "crs_latlon"
   ]
  },
  {
   "cell_type": "markdown",
   "metadata": {},
   "source": [
    "### CRS of BedMachine\n",
    "\n",
    "The BedMachine dataset is in Cartesian coordinates.\n",
    "Since distances in this coordinate system are close to physical distances on Earth, we can use these coordinates for interpolation."
   ]
  },
  {
   "cell_type": "code",
   "execution_count": null,
   "metadata": {},
   "outputs": [],
   "source": [
    "crs_cartesian = CRS.from_epsg(3413)\n",
    "crs_cartesian"
   ]
  },
  {
   "cell_type": "markdown",
   "metadata": {},
   "source": [
    "### CRS transformation"
   ]
  },
  {
   "cell_type": "code",
   "execution_count": null,
   "metadata": {},
   "outputs": [],
   "source": [
    "transform_latlon_to_xy = Transformer.from_crs(crs_latlon, crs_cartesian).transform"
   ]
  },
  {
   "cell_type": "markdown",
   "metadata": {
    "tags": []
   },
   "source": [
    "## Load the RTopo dataset"
   ]
  },
  {
   "cell_type": "code",
   "execution_count": null,
   "metadata": {},
   "outputs": [],
   "source": [
    "rtopo = xr.open_dataset(\"data/RTopo-2.0.4_30sec_Greenland.nc\")\n",
    "\n",
    "# Correct the names of the dimensions (\"lat\"/\"lon\" instead of \"latdim\"/\"londim\")\n",
    "rtopo = rtopo.set_index(latdim=\"lat\", londim=\"lon\")\n",
    "rtopo = rtopo.rename({\"latdim\": \"lat\", \"londim\": \"lon\"})\n",
    "\n",
    "# Choose an area around 79NG that is a bit larger than the desired model domain\n",
    "rtopo = rtopo.sel(lon=slice(-23, -14), lat=slice(79.1, 80.4))\n",
    "\n",
    "# Check that the mask of the floating ice tongue (amask = 2) is simply given by all\n",
    "# points at which the ice draft is below the sea level but above the sea floor.\n",
    "# This will allow us later to re-construct the mask from regridded data.\n",
    "assert np.all(\n",
    "    ((rtopo.ice_base_topography > rtopo.bedrock_topography) & (rtopo.ice_base_topography < 0))\n",
    "    == (rtopo.amask == 2)\n",
    "), \"mask of floating ice tongue cannot be reconstructed as expected\"\n",
    "\n",
    "# Compute and add Cartesian coordinates\n",
    "X, Y = transform_latlon_to_xy(*xr.broadcast(rtopo.lat, rtopo.lon))\n",
    "rtopo.coords[\"x\"] = ([\"lat\", \"lon\"], X)\n",
    "rtopo.coords[\"y\"] = ([\"lat\", \"lon\"], Y)\n",
    "rtopo.x.attrs = {\"long_name\": crs_cartesian.axis_info[0].name, \"units\": \"m\", \"CRS\": str(crs_cartesian)}\n",
    "rtopo.y.attrs = {\"long_name\": crs_cartesian.axis_info[1].name, \"units\": \"m\", \"CRS\": str(crs_cartesian)}\n",
    "\n",
    "rtopo"
   ]
  },
  {
   "cell_type": "markdown",
   "metadata": {
    "editable": true,
    "slideshow": {
     "slide_type": ""
    },
    "tags": []
   },
   "source": [
    "### Compute the grid resolution"
   ]
  },
  {
   "cell_type": "code",
   "execution_count": null,
   "metadata": {},
   "outputs": [],
   "source": [
    "# Compute grid resolution in degrees\n",
    "d_lat = np.diff(rtopo.lat)\n",
    "d_lon = np.diff(rtopo.lon)\n",
    "\n",
    "# Compute grid resolution in meters\n",
    "LON, LAT = np.meshgrid(rtopo.lon, rtopo.lat)\n",
    "dist_lat = gsw.distance(LON, LAT, axis=0)\n",
    "dist_lon = gsw.distance(LON, LAT, axis=1)\n",
    "\n",
    "print(f\"Meridional   resolution: {d_lat.min():.6f}° to {d_lat.max():.6f}° ({dist_lat.min():.2f} m to {dist_lat.max():.2f} m)\")\n",
    "print(f\"Longitudinal resolution: {d_lon.min():.6f}° to {d_lon.max():.6f}° ({dist_lon.min():.2f} m to {dist_lon.max():.2f} m)\")"
   ]
  },
  {
   "cell_type": "markdown",
   "metadata": {},
   "source": [
    "### Show the data"
   ]
  },
  {
   "cell_type": "code",
   "execution_count": null,
   "metadata": {},
   "outputs": [],
   "source": [
    "fig, axs = plt.subplots(ncols=3, sharex=True, sharey=True, constrained_layout=True, dpi=300, figsize=(10, 3))\n",
    "fig2, axs2 = plt.subplots(ncols=3, sharex=True, sharey=True, constrained_layout=True, dpi=300, figsize=(10, 2.4))\n",
    "\n",
    "fig.suptitle(f\"Ellipsoidal coordinates ({crs_latlon})\")\n",
    "fig2.suptitle(f\"Cartesian coordinates ({crs_cartesian})\")\n",
    "\n",
    "for ax, ax2, var, cmap in zip(\n",
    "    axs, axs2, [\"bedrock_topography\", \"ice_base_topography\", \"amask\"], [cmocean.cm.topo, None, None]\n",
    "):\n",
    "    im = rtopo[var].plot(ax=ax, cmap=cmap)\n",
    "    im2 = rtopo[var].plot(ax=ax2, x=\"x\", y=\"y\", cmap=cmap)\n",
    "    ax.set_title(var)\n",
    "    ax2.set_title(var)\n",
    "    ax2.set_aspect(\"equal\")\n",
    "    if var == \"amask\":\n",
    "        im.colorbar.set_ticks(np.arange(4))\n",
    "        im2.colorbar.set_ticks(np.arange(4))\n",
    "for ax in [*axs[1:], *axs2[1:]]:\n",
    "    ax.set_ylabel(\"\")"
   ]
  },
  {
   "cell_type": "markdown",
   "metadata": {},
   "source": [
    "## Load the BedMachine dataset"
   ]
  },
  {
   "cell_type": "code",
   "execution_count": null,
   "metadata": {
    "tags": []
   },
   "outputs": [],
   "source": [
    "bedmachine = xr.open_dataset(\"data/BedMachineGreenland-v5.nc\")\n",
    "# Check that the expected coordinate reference system is used\n",
    "assert str(crs_cartesian).lower() in bedmachine.proj4, f\"BedMachine seems to use a coordinate system other than {crs_cartesian}\"\n",
    "# Invert the y-axis to have increasing coordinates\n",
    "bedmachine = bedmachine.isel(y=slice(None, None, -1))\n",
    "# Crop to the same extent as RTopo\n",
    "bedmachine = bedmachine.sel(x=slice(rtopo.x.min(), rtopo.x.max()), y=slice(rtopo.y.min(), rtopo.y.max()))\n",
    "\n",
    "bedmachine"
   ]
  },
  {
   "cell_type": "markdown",
   "metadata": {
    "editable": true,
    "slideshow": {
     "slide_type": ""
    },
    "tags": []
   },
   "source": [
    "### Compute the grid resolution"
   ]
  },
  {
   "cell_type": "code",
   "execution_count": null,
   "metadata": {},
   "outputs": [],
   "source": [
    "dx = np.diff(bedmachine.x)\n",
    "dy = np.diff(bedmachine.y)\n",
    "\n",
    "assert all(dx == dx[0]), \"x-resolution is not constant\"\n",
    "assert all(dy == dy[0]), \"y-resolution is not constant\"\n",
    "assert dx[0] == dy[0], \"x- and y-resolutions differ\"\n",
    "\n",
    "print(f\"Resolution in x- and in y-direction: {dx[0]} {bedmachine.x.units}\")"
   ]
  },
  {
   "cell_type": "markdown",
   "metadata": {},
   "source": [
    "### Show the data"
   ]
  },
  {
   "cell_type": "code",
   "execution_count": null,
   "metadata": {},
   "outputs": [],
   "source": [
    "fig, axs = plt.subplots(ncols=3, sharex=True, sharey=True, constrained_layout=True, dpi=300, figsize=(10, 2.5))\n",
    "for ax, var, cmap in zip(axs, [\"bed\", \"thickness\", \"mask\"], [cmocean.cm.topo, None, None]):\n",
    "    im = bedmachine[var].plot(ax=ax, cmap=cmap)\n",
    "    ax.set_title(var)\n",
    "    ax.set_aspect(\"equal\")\n",
    "    if var == \"mask\":\n",
    "        im.colorbar.set_ticks(np.arange(4))\n",
    "for ax in axs[1:]:\n",
    "    ax.set_ylabel(\"\")"
   ]
  },
  {
   "cell_type": "markdown",
   "metadata": {},
   "source": [
    "## Show the alignment between the two datasets"
   ]
  },
  {
   "cell_type": "code",
   "execution_count": null,
   "metadata": {
    "tags": []
   },
   "outputs": [],
   "source": [
    "fig, ax = plt.subplots(figsize=(7, 4), dpi=300, constrained_layout=True)\n",
    "for mask, name, ice_value, cmap in [\n",
    "    (bedmachine.mask, \"BedMachine\", 3, \"Reds\"), (rtopo.amask, \"RTopo\", 2, \"Blues\")\n",
    "]:\n",
    "    im = mask.where((mask == 0) | (mask == ice_value)).plot(\n",
    "        x=\"x\", y=\"y\", vmin=-2 * ice_value, vmax=2 * ice_value, cmap=cmap, alpha=0.5\n",
    "    )\n",
    "    im.colorbar.set_label(name)\n",
    "    im.colorbar.set_ticks([-2 * ice_value, 0, ice_value])\n",
    "    im.colorbar.set_ticklabels([\"\", \"\", \"\"] if name == \"RTopo\" else [\"land\", \"ocean\", \"ice tongue\"])\n",
    "ax.set_title(\"Comparison of the masks of the two datasets\")\n",
    "ax.set_aspect(\"equal\")"
   ]
  },
  {
   "cell_type": "markdown",
   "metadata": {},
   "source": [
    "## Create the topography dataset\n",
    "\n",
    "For the 1 km-resolution, we can keep the latitude grid of RTopo, since the meridional resolution of 1/120° is close to 1 km.\n",
    "We reduce the longitudinal grid by combining every six grid cells into one.\n",
    "This yields a resolution of 6/120° = 0.05°, which is also close to 1 km (shorter than 1 km in the North of the domain, longer than 1 km in the South)."
   ]
  },
  {
   "cell_type": "code",
   "execution_count": null,
   "metadata": {
    "tags": []
   },
   "outputs": [],
   "source": [
    "n_filter_lon = 6"
   ]
  },
  {
   "cell_type": "code",
   "execution_count": null,
   "metadata": {
    "tags": []
   },
   "outputs": [],
   "source": [
    "ds = xr.Dataset(\n",
    "    {\"grid_type\": 2, \"dlat\": 1 / 120, \"dlon\": n_filter_lon / 120},\n",
    "    attrs={\n",
    "        \"title\": \"Topography of the 79NG fjord for GETM\",\n",
    "        \"author\": \"Markus Reinert (ORCID: 0000-0002-3761-8029)\",\n",
    "        \"institution\": \"Leibniz Institute for Baltic Sea Research Warnemuende (IOW), Germany\",\n",
    "        \"description\": \"Bathymetry and ice thickness of the 79NG fjord in Greenland \"\n",
    "                       \"on a regular lat-lon grid with a resolution of approximately 1 km, \"\n",
    "                       \"to be used with the regional ocean model GETM.\",\n",
    "        \"comment\": \"When opening this dataset with ncview, use the option `-minmax all` \"\n",
    "                   \"to see the full range of the topography.\",\n",
    "    },\n",
    ")\n",
    "\n",
    "# Add coordinates\n",
    "ds.coords[\"lat\"] = np.arange(79.1, 80.401, ds.dlat)\n",
    "ds.coords[\"lon\"] = np.arange(-23., -13.99, ds.dlon)\n",
    "\n",
    "# Add attributes\n",
    "ds.lat.attrs = {\"long_name\": \"Latitude\" , \"units\": \"degree\", \"CRS\": str(crs_latlon)}\n",
    "ds.lon.attrs = {\"long_name\": \"Longitude\", \"units\": \"degree\", \"CRS\": str(crs_latlon)}\n",
    "ds.dlat.attrs = {\"long_name\":   \"Meridional resolution\", \"units\": \"degree\"}\n",
    "ds.dlon.attrs = {\"long_name\": \"Longitudinal resolution\", \"units\": \"degree\"}\n",
    "ds.grid_type.attrs = {\"description\": \"equi-distant spherical grid\"}\n",
    "\n",
    "# Check for consistency with RTopo\n",
    "assert np.allclose(ds.lat, rtopo.lat), \"Latitude does not match RTopo\"\n",
    "assert np.allclose(ds.lon, rtopo.lon[::n_filter_lon]), \"Longitude does not match RTopo\"\n",
    "\n",
    "ds"
   ]
  },
  {
   "cell_type": "markdown",
   "metadata": {
    "tags": []
   },
   "source": [
    "### Check the grid resolution"
   ]
  },
  {
   "cell_type": "code",
   "execution_count": null,
   "metadata": {
    "tags": []
   },
   "outputs": [],
   "source": [
    "# Compute grid resolution in meter\n",
    "LON, LAT = np.meshgrid(ds.lon, ds.lat)\n",
    "dist_lat = gsw.distance(LON, LAT, axis=0)\n",
    "dist_lon = gsw.distance(LON, LAT, axis=1)\n",
    "\n",
    "assert np.allclose(ds.dlat, np.diff(ds.lat)), \"meridional distance is not correct\"\n",
    "assert np.allclose(ds.dlon, np.diff(ds.lon)), \"longitudinal distance is not correct\"\n",
    "assert np.allclose(dist_lat, dist_lat[0, 0]), \"meridional distance in meter is not constant\"\n",
    "assert not np.allclose(dist_lon, dist_lon[0, 0]), \"longitudinal distance in meter is almost constant\"\n",
    "\n",
    "print(f\"{ds.dlat.long_name}:   {ds.dlat:.5f}° ({dist_lat[0, 0]:.2f} m)\")\n",
    "print(f\"{ds.dlon.long_name}: {ds.dlon:.5f}° ({dist_lon.min():.2f} m to {dist_lon.max():.2f} m)\")"
   ]
  },
  {
   "cell_type": "markdown",
   "metadata": {},
   "source": [
    "### Add Cartesian coordinates"
   ]
  },
  {
   "cell_type": "code",
   "execution_count": null,
   "metadata": {
    "tags": []
   },
   "outputs": [],
   "source": [
    "X, Y = transform_latlon_to_xy(*xr.broadcast(ds.lat, ds.lon))\n",
    "ds.coords[\"x\"] = ([\"lat\", \"lon\"], X)\n",
    "ds.coords[\"y\"] = ([\"lat\", \"lon\"], Y)\n",
    "ds.x.attrs = {\"long_name\": crs_cartesian.axis_info[0].name, \"units\": \"m\", \"CRS\": str(crs_cartesian)}\n",
    "ds.y.attrs = {\"long_name\": crs_cartesian.axis_info[1].name, \"units\": \"m\", \"CRS\": str(crs_cartesian)}"
   ]
  },
  {
   "cell_type": "markdown",
   "metadata": {
    "tags": []
   },
   "source": [
    "### Reduce the longitudinal resolution of RTopo"
   ]
  },
  {
   "cell_type": "code",
   "execution_count": null,
   "metadata": {
    "tags": []
   },
   "outputs": [],
   "source": [
    "# Why does the selection work without method=\"nearest\"?\n",
    "ice_base = rtopo.ice_base_topography.rolling(lon=n_filter_lon, center=True).mean().sel(lon=ds.lon)\n",
    "bed_rock = rtopo.bedrock_topography .rolling(lon=n_filter_lon, center=True).mean().sel(lon=ds.lon)"
   ]
  },
  {
   "cell_type": "markdown",
   "metadata": {
    "tags": []
   },
   "source": [
    "### Create the mask"
   ]
  },
  {
   "cell_type": "markdown",
   "metadata": {},
   "source": [
    "#### Compute the ocean mask\n",
    "\n",
    "We take as water/ocean points all grid cells where\n",
    " * the bedrock is below sea level **and**\n",
    " * the base of the ice is above the sea floor.\n",
    "\n",
    "According to the check we made when loading RTopo, this fits with the RTopo mask.\n",
    "\n",
    "We remove points where the ocean is only 2 m shallow or less, since these grid cells might fall dry during ebb.\n",
    "Masking these points gives a clearly simpler domain boundary and reduces problems with misaligning ice/ocean data."
   ]
  },
  {
   "cell_type": "code",
   "execution_count": null,
   "metadata": {
    "tags": []
   },
   "outputs": [],
   "source": [
    "ds[\"mask\"] = (\n",
    "    (\"lat\", \"lon\"),\n",
    "    ((bed_rock < -2) & (ice_base > bed_rock)).data,\n",
    "    {\n",
    "        \"long_name\": \"Ocean mask\",\n",
    "        \"source\": \"RTopo-2.0.4 (Schaffer et al. 2019) with modifications\",\n",
    "        \"description\": \"The ocean mask is True on all water points \"\n",
    "                       \"and False on points with land or grounded ice.\",\n",
    "    },\n",
    ")\n",
    "ds.mask.plot(cbar_kwargs={\"ticks\": [0, 1]})\n",
    "ds.mask"
   ]
  },
  {
   "cell_type": "markdown",
   "metadata": {},
   "source": [
    "#### Remove an isolated lake\n",
    "\n",
    "This lake has no connection with the ocean and is thus irrelevant for the model.\n",
    "There is another isolated lake in the South, but this area will be cropped later"
   ]
  },
  {
   "cell_type": "code",
   "execution_count": null,
   "metadata": {
    "tags": []
   },
   "outputs": [],
   "source": [
    "mask_lake = ds.mask.sel(lat=slice(80.3, 80.32)).sel(lon=-16.35, method=\"nearest\")\n",
    "print(f\"Lake contains {np.count_nonzero(mask_lake)} water points that are put to land now.\")\n",
    "mask_lake[...] = False\n",
    "ds.mask.plot(cbar_kwargs={\"ticks\": [0, 1]});"
   ]
  },
  {
   "cell_type": "markdown",
   "metadata": {},
   "source": [
    "#### Make the island in the South rectangular\n",
    "\n",
    "This island is outside the domain of interest and within the buffer zone of the open boundary, so not physically relevant for the model.\n",
    "Making it rectangular prevents numerical problems at this position."
   ]
  },
  {
   "cell_type": "code",
   "execution_count": null,
   "metadata": {
    "tags": []
   },
   "outputs": [],
   "source": [
    "mask_point = ds.mask.sel(lat=79.175, lon=-17.7, method=\"nearest\")\n",
    "assert mask_point, \"selected point is not an ocean point\"\n",
    "mask_point[...] = False\n",
    "ds.mask.plot(cbar_kwargs={\"ticks\": [0, 1]});"
   ]
  },
  {
   "cell_type": "markdown",
   "metadata": {},
   "source": [
    "#### Mask a bay with grounded ice\n",
    "\n",
    "A bay in the northern part of the grounding line appears as ungrounded ice (thus ocean) in RTopo, even though the ice is probably grounded in this area.\n",
    "In this bay, the water column thickness computed from RTopo is basically constant; it takes on exactly two values, which are both very close to 1.1 m.\n",
    "Having a constant water column thickness over an extended area, despite varying ice and bedrock topography, is unrealistic and suggests interpolation issues in this area.\n",
    "Even if the water column thickness of 1.1 m was realistic, it would rather not be important for the system.\n",
    "Furthermore, also the ice thickness from BedMachine suggests that the ice in this bay is grounded, so we put this area to grounded ice.\n",
    "\n",
    "Note that in the original RTopo data set, there are a few more points along the fjord walls at which the water column thickness is exactly one of these two values of about 1.1 m."
   ]
  },
  {
   "cell_type": "code",
   "execution_count": null,
   "metadata": {
    "tags": []
   },
   "outputs": [],
   "source": [
    "mask_bay = ds.mask.sel(lat=slice(79.5, None), lon=slice(-22.35))\n",
    "print(f\"Bay contains {np.count_nonzero(mask_bay)} ocean points that are put to land now.\")\n",
    "mask_bay[...] = False\n",
    "ds.mask.plot(cbar_kwargs={\"ticks\": [0, 1]});"
   ]
  },
  {
   "cell_type": "markdown",
   "metadata": {},
   "source": [
    "#### Correct the mask in the Southwest\n",
    "\n",
    "The masks of RTopo and BedMachine do not match in the southwestern corner of the 79NG fjord.\n",
    "We put this part to grounded ice, as suggested by BedMachine, to improve numerical stability."
   ]
  },
  {
   "cell_type": "code",
   "execution_count": null,
   "metadata": {
    "tags": []
   },
   "outputs": [],
   "source": [
    "mask_southwest = ds.mask.sel(lat=slice(None, 79.29), lon=slice(-22))\n",
    "print(f\"Southwestern corner of the fjord contains {np.count_nonzero(mask_southwest)} ocean points that are put to land now.\")\n",
    "mask_southwest[...] = False\n",
    "ds.mask.plot(cbar_kwargs={\"ticks\": [0, 1]});"
   ]
  },
  {
   "cell_type": "markdown",
   "metadata": {},
   "source": [
    "### Add the bathymetry"
   ]
  },
  {
   "cell_type": "code",
   "execution_count": null,
   "metadata": {
    "tags": []
   },
   "outputs": [],
   "source": [
    "ds[\"bathymetry\"] = (\n",
    "    (\"lat\", \"lon\"),\n",
    "    -bed_rock.data.astype(np.float64),\n",
    "    {\n",
    "        \"long_name\": \"Bottom depth\",\n",
    "        \"units\": \"m\",\n",
    "        \"positive\": \"down\",\n",
    "        \"source\": \"RTopo-2.0.4 (Schaffer et al. 2019)\",\n",
    "    },\n",
    ")\n",
    "ds[\"bathymetry\"] = ds.bathymetry.where(ds.mask)\n",
    "ds.bathymetry.plot(cmap=cmocean.cm.deep)\n",
    "plt.title(\"Bathymetry\");"
   ]
  },
  {
   "cell_type": "markdown",
   "metadata": {},
   "source": [
    "### Process the ice thickness"
   ]
  },
  {
   "cell_type": "code",
   "execution_count": null,
   "metadata": {
    "tags": []
   },
   "outputs": [],
   "source": [
    "# Interpolate the data to the model grid (using Cartesian coordinates)\n",
    "# and apply the mask of the model grid\n",
    "ds[\"glIceD\"] = bedmachine.thickness.interp(x=ds.x, y=ds.y) * ds.mask\n",
    "\n",
    "# Remove two isolated ice columns.\n",
    "# The original data does not show isolated ice columns in these places,\n",
    "# so they can be considered artificats due to the misalignment of the masks.\n",
    "for lat, lon in [(79.8, -20.0), (80.17, -19.5)]:\n",
    "    i_lat = abs(ds.lat - lat).argmin()\n",
    "    i_lon = abs(ds.lon - lon).argmin()\n",
    "    # Check that this is indeed an isolated ice column surrounded by non-ice points\n",
    "    assert ds.glIceD[i_lat, i_lon] > 0, \"selected point is not ice\"\n",
    "    for i in [-1, 0, 1]:\n",
    "        for j in [-1, 0, 1]:\n",
    "            if i != 0 or j != 0:\n",
    "                assert ds.glIceD[i_lat + i, i_lon + j] == 0, \"selected ice point is not isolated\"\n",
    "    print(\n",
    "        f\"Setting isolated ice column at {ds.lat.data[i_lat]:.2f}°N, {-ds.lon.data[i_lon]:.2f}°W\",\n",
    "        f\"with thickness {ds.glIceD.data[i_lat, i_lon]:5.2f} m to 0.\",\n",
    "    )\n",
    "    ds.glIceD[i_lat, i_lon] = 0\n",
    "\n",
    "ds.glIceD.attrs = {\n",
    "    \"long_name\": \"Glacial ice thickness\",\n",
    "    \"units\": \"m\",\n",
    "    \"source\": \"BedMachine v5.5 (Morlighem et al. 2022)\",\n",
    "}\n",
    "\n",
    "ds.glIceD.where(ds.glIceD).plot(cmap=cmocean.cm.ice)\n",
    "plt.title(\"Ice thickness\");"
   ]
  },
  {
   "cell_type": "markdown",
   "metadata": {},
   "source": [
    "### Crop to the model domain\n",
    "\n",
    "The chosen extent is 4 cells larger than the domain of interest, so that the open boundaries and the sponge zones (3 grid points adjacent to each open boundary) are *not* within the domain of interest.\n",
    "Note that there is no open boundary in the West."
   ]
  },
  {
   "cell_type": "code",
   "execution_count": null,
   "metadata": {},
   "outputs": [],
   "source": [
    "lon_min = -23\n",
    "lon_max = -15. + 4.5 * ds.dlon\n",
    "lat_min = 79.2 - 4.5 * ds.dlat\n",
    "lat_max = 80.3 + 4.5 * ds.dlat\n",
    "ds = ds.sel(lon=slice(lon_min, lon_max), lat=slice(lat_min, lat_max))\n",
    "\n",
    "print(f\"Topography has {ds.bathymetry.size} grid points\")\n",
    "print(f\"of which {np.count_nonzero(ds.mask) / ds.bathymetry.size * 100:2.0f} %\",\n",
    "      f\"({np.count_nonzero(ds.mask):5}) are water\")\n",
    "print(f\"     and {np.count_nonzero(~ds.mask) / ds.bathymetry.size * 100:2.0f} %\",\n",
    "      f\"({np.count_nonzero(~ds.mask):5}) are land.\")\n",
    "\n",
    "ds"
   ]
  },
  {
   "cell_type": "code",
   "execution_count": null,
   "metadata": {
    "tags": []
   },
   "outputs": [],
   "source": [
    "lon_size = int(config.get_text(\"getm/domain/ih\"))\n",
    "lat_size = int(config.get_text(\"getm/domain/jh\"))\n",
    "assert lon_size == ds.lon.size, \"grid size in longitude does not match configuration\"\n",
    "assert lat_size == ds.lat.size, \"grid size in latitude does not match configuration\""
   ]
  },
  {
   "cell_type": "markdown",
   "metadata": {},
   "source": [
    "### Smooth the topography"
   ]
  },
  {
   "cell_type": "markdown",
   "metadata": {},
   "source": [
    "#### Analyse local slopes of the topography"
   ]
  },
  {
   "cell_type": "code",
   "execution_count": null,
   "metadata": {
    "tags": []
   },
   "outputs": [],
   "source": [
    "fig, axs = plt.subplots(2, 2, sharex=True, sharey=True, constrained_layout=True, figsize=(10, 7), dpi=300)\n",
    "for axs_row, dim in zip(axs, [\"lat\", \"lon\"]):\n",
    "    for ax, var in zip(axs_row, [\"bathymetry\", \"glIceD\"]):\n",
    "        data = ds.glIceD.where(ds.glIceD) if var == \"glIceD\" else ds[var]\n",
    "        data.diff(dim).plot(ax=ax)\n",
    "        ax.set_title(f\"Slope of {var} in {dim}-direction\")"
   ]
  },
  {
   "cell_type": "markdown",
   "metadata": {},
   "source": [
    "#### Apply a running mean\n",
    "\n",
    "For a running mean of size 5×5, we pass the arguments `2, 2` to `smooth_2D_array`.\n",
    "\n",
    "Note:\n",
    "The ice is smoothed between ice and ocean, resulting in a larger ice tongue after the smoothing than before.\n",
    "This might be beneficial to avoid large slopes at the calving front.\n",
    "To only smooth the ice tongue over its extent, change `where(ds.mask)` to `where(ds.glIceD)`."
   ]
  },
  {
   "cell_type": "code",
   "execution_count": null,
   "metadata": {
    "tags": []
   },
   "outputs": [],
   "source": [
    "bathy_smooth = smooth_2D_array(ds.bathymetry, 2, 2)\n",
    "ice_smooth = smooth_2D_array(ds.glIceD.where(ds.mask), 2, 2)\n",
    "ice_smooth = np.where(~np.isnan(ice_smooth), ice_smooth, 0)"
   ]
  },
  {
   "cell_type": "markdown",
   "metadata": {},
   "source": [
    "#### Show differences before and after smoothing"
   ]
  },
  {
   "cell_type": "code",
   "execution_count": null,
   "metadata": {
    "tags": []
   },
   "outputs": [],
   "source": [
    "fig, axs = plt.subplots(ncols=2, sharex=True, sharey=True, constrained_layout=True, figsize=(10, 4), dpi=300)\n",
    "(ds.bathymetry - bathy_smooth).plot(ax=axs[0])\n",
    "(ds.glIceD - ice_smooth).plot(ax=axs[1]);"
   ]
  },
  {
   "cell_type": "markdown",
   "metadata": {},
   "source": [
    "#### Analyse slopes of the smoothed data"
   ]
  },
  {
   "cell_type": "code",
   "execution_count": null,
   "metadata": {
    "tags": []
   },
   "outputs": [],
   "source": [
    "fig, axs = plt.subplots(2, 2, sharex=True, sharey=True, constrained_layout=True, figsize=(10, 7), dpi=300)\n",
    "for axs_row, dim in zip(axs, [0, 1]):\n",
    "    for ax, var in zip(axs_row, [\"bathymetry\", \"glIceD\"]):\n",
    "        diff = np.diff(bathy_smooth if var == \"bathymetry\" else np.where(ice_smooth, ice_smooth, np.nan), axis=dim)\n",
    "        vmax = max(np.nanmax(diff), -np.nanmin(diff))\n",
    "        im = ax.pcolormesh(diff, vmax=vmax, vmin=-vmax, cmap=cmocean.cm.balance)\n",
    "        fig.colorbar(im, ax=ax)\n",
    "        ax.set_title(f\"Slope of {var} in {dim}-direction\")"
   ]
  },
  {
   "cell_type": "markdown",
   "metadata": {},
   "source": [
    "#### Replace topography with smoothed data"
   ]
  },
  {
   "cell_type": "code",
   "execution_count": null,
   "metadata": {
    "tags": []
   },
   "outputs": [],
   "source": [
    "ds.bathymetry.data = bathy_smooth\n",
    "ds.glIceD.data = ice_smooth"
   ]
  },
  {
   "cell_type": "markdown",
   "metadata": {},
   "source": [
    "### Mask grounded ice\n",
    "\n",
    "We determine if ice is floating or grounded using the reference density $\\rho_0$ instead of the actual sea water density $\\rho$, which is a function of space and time.\n",
    "The difference between these two densities is generally less than 1 %.\n",
    "See Section 2.2.1 of Reinert et al. (2023) for details.\n",
    "\n",
    "The reference density is also used by GETM to initialize the ice in its (approximate) vertical equilibrium position.\n",
    "\n",
    "We also mask out points where the ice is less than 2 m above the sea floor, which might be grounded during ebb tide.\n",
    "This is analog to our computation of the (inital) mask above."
   ]
  },
  {
   "cell_type": "code",
   "execution_count": null,
   "metadata": {
    "tags": []
   },
   "outputs": [],
   "source": [
    "rho_0 = float(config.get_text(\"getm/parameters/rho_0\"))\n",
    "rho_ice = float(config.get_text(\"getm/ice/rho_ice\"))\n",
    "\n",
    "print(f\"The reference density is rho_0 = {rho_0:6.1f} kg/m³,\")\n",
    "print(f\"glacial ice density is rho_ice = {rho_ice:6.1f} kg/m³ ({rho_ice/rho_0*100:.1f} % of rho_0).\")"
   ]
  },
  {
   "cell_type": "code",
   "execution_count": null,
   "metadata": {
    "tags": []
   },
   "outputs": [],
   "source": [
    "is_grounded = ds.bathymetry < ds.glIceD * rho_ice / rho_0 + 2\n",
    "\n",
    "is_grounded.where(ds.mask).plot(cmap=\"Reds\")\n",
    "plt.title(\"Points where the ice is grounded (dark red)\")\n",
    "\n",
    "print(f\"There are {np.count_nonzero(is_grounded)} ocean points with grounded ice that are put to land now.\")\n",
    "ds[\"mask\"] &= ~is_grounded\n",
    "ds[\"bathymetry\"] = ds.bathymetry.where(ds.mask)\n",
    "ds[\"glIceD\"] *= ds.mask"
   ]
  },
  {
   "cell_type": "markdown",
   "metadata": {
    "tags": []
   },
   "source": [
    "### Determine the grounding line\n",
    "\n",
    "The grid points of the grounding line are the westernmost points of the water domain at 22.4°W and to the West of it."
   ]
  },
  {
   "cell_type": "code",
   "execution_count": null,
   "metadata": {
    "tags": []
   },
   "outputs": [],
   "source": [
    "gline = (-1 * ds.mask).argmin(\"lon\")\n",
    "gline = gline.where(gline <= abs(ds.lon + 22.4).argmin(), other=-1, drop=True)"
   ]
  },
  {
   "cell_type": "markdown",
   "metadata": {},
   "source": [
    "### Show the topography"
   ]
  },
  {
   "cell_type": "markdown",
   "metadata": {},
   "source": [
    "#### Compute the coordinates of the grounding line\n",
    "\n",
    "We show the grounding line in a step-wise manner along the western boundary of the grid cells that belong to the grounding line."
   ]
  },
  {
   "cell_type": "code",
   "execution_count": null,
   "metadata": {},
   "outputs": [],
   "source": [
    "gline_lat = []\n",
    "gline_lon = []\n",
    "for lon, lat in zip(ds.lon.isel(lon=gline), gline.lat):\n",
    "    gline_lat += [lat - ds.dlat / 2, lat + ds.dlat / 2]\n",
    "    gline_lon += [lon - ds.dlon / 2, lon - ds.dlon / 2]"
   ]
  },
  {
   "cell_type": "markdown",
   "metadata": {},
   "source": [
    "#### Create the figure"
   ]
  },
  {
   "cell_type": "code",
   "execution_count": null,
   "metadata": {
    "tags": []
   },
   "outputs": [],
   "source": [
    "fig, axs = plt.subplots(ncols=3, sharex=True, sharey=True, constrained_layout=True, figsize=(15, 5), dpi=300)\n",
    "\n",
    "ax = axs[0]\n",
    "ds.bathymetry.plot(ax=ax, cmap=cmocean.cm.deep)\n",
    "ax.set_title(f\"Bathymetry around 79NG\\nfrom {ds.bathymetry.source}\")\n",
    "ax.plot(gline_lon, gline_lat, \"r\", lw=1, solid_capstyle=\"butt\", label=\"grounding line\")\n",
    "ax.legend(loc=\"lower left\")\n",
    "\n",
    "ax = axs[1]\n",
    "ds.glIceD.where(ds.glIceD).plot(ax=ax, cmap=cmocean.cm.ice_r)\n",
    "ax.set_title(f\"Ice thickness of 79NG\\nfrom {ds.glIceD.source}\")\n",
    "ax.set_ylabel(\"\")\n",
    "\n",
    "ax = axs[2]\n",
    "im = (ds.bathymetry - ds.glIceD * rho_ice / rho_0).plot(ax=ax, cmap=cmocean.cm.amp)\n",
    "im.colorbar.set_label(\"Water column thickness [m]\")\n",
    "ax.set_title(f\"Water column thickness around 79NG\\nusing $\\\\rho_0 = {rho_0:4.0f}$ kg/m³ and $\\\\rho_{{\\\\text{{ice}}}} = {rho_ice:4.0f}$ kg/m³\")\n",
    "ax.set_ylabel(\"\")\n",
    "\n",
    "fig.savefig(\"figures/topography_1km.png\")"
   ]
  },
  {
   "cell_type": "markdown",
   "metadata": {},
   "source": [
    "### Save the dataset"
   ]
  },
  {
   "cell_type": "code",
   "execution_count": null,
   "metadata": {
    "tags": []
   },
   "outputs": [],
   "source": [
    "filename = config.get_file_path(\"getm/rivers/river_info\")\n",
    "with open(filename, \"w\") as f:\n",
    "    f.write(\"# Indices of the grid points along the 79NG grounding line\\n\")\n",
    "    f.write(\"# on the GETM topography with 1 km resolution\\n\")\n",
    "    f.write(\"# Subglacial runoff is uniformly distributed over these points.\\n\")\n",
    "    f.write(f\"{gline.size}\\n\")\n",
    "    for ilon in gline:\n",
    "        f.write(f\"{ilon.data + 1} {np.where(ds.lat == ilon.lat)[0][0] + 1} runoff\\n\")\n",
    "print(f\"Saved the grounding line info as {filename!r}.\")"
   ]
  },
  {
   "cell_type": "code",
   "execution_count": null,
   "metadata": {
    "tags": []
   },
   "outputs": [],
   "source": [
    "filename = config.get_file_path(\"getm/domain/bathymetry\")\n",
    "ds.to_netcdf(filename)\n",
    "print(f\"Saved the topography as {filename!r}.\")"
   ]
  },
  {
   "cell_type": "code",
   "execution_count": null,
   "metadata": {},
   "outputs": [],
   "source": []
  }
 ],
 "metadata": {
  "kernelspec": {
   "display_name": "Python 3 (ipykernel)",
   "language": "python",
   "name": "python3"
  },
  "language_info": {
   "codemirror_mode": {
    "name": "ipython",
    "version": 3
   },
   "file_extension": ".py",
   "mimetype": "text/x-python",
   "name": "python",
   "nbconvert_exporter": "python",
   "pygments_lexer": "ipython3",
   "version": "3.11.6"
  }
 },
 "nbformat": 4,
 "nbformat_minor": 4
}
