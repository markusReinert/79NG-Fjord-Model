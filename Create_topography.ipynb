{
 "cells": [
  {
   "cell_type": "markdown",
   "metadata": {},
   "source": [
    "# Create the Topography of the 79NG Fjord GETM Setup\n",
    "\n",
    "This notebook creates the topography of the 79NG fjord in a format that is suitable for GETM.\n",
    "The topography consists of the bathymetry, extracted from the RTopo dataset, and the ice thickness, extracted from BedMachine.\n",
    "In addition, the position of the grounding line is determined, which is needed for the subglacial discharge.\n",
    "\n",
    "A high resolution ($\\Delta \\text{lon}=0.025°$, $\\Delta \\text{lat} = 0.00415°$) and a low resolution ($\\Delta \\text{lon} = 0.050°$, $\\Delta \\text{lat} = 0.00830°$) are implemented.\n",
    "\n",
    "By Markus Reinert, based on a notebook by Samira Zander, 2021."
   ]
  },
  {
   "cell_type": "code",
   "execution_count": null,
   "metadata": {},
   "outputs": [],
   "source": [
    "import numpy as np\n",
    "import xarray as xr\n",
    "import matplotlib.pyplot as plt\n",
    "import cmocean"
   ]
  },
  {
   "cell_type": "code",
   "execution_count": null,
   "metadata": {},
   "outputs": [],
   "source": [
    "def show_topography(\n",
    "    show_water_column=False,\n",
    "    figure_kwargs={\"figsize\": (12, 4), \"dpi\": 200},\n",
    "    bathy_plot_kwargs={},\n",
    "    thick_plot_kwargs={},\n",
    "):\n",
    "    \"\"\"Create a figure with 3 subplots showing the bottom and ice topography.\n",
    "    \n",
    "    The left plot shows the bedrock topogaphy and can be modified by\n",
    "    passing a dictionary to bathy_plot_kwargs.\n",
    "\n",
    "    The center plot shows the ice thickness (by default) or the\n",
    "    approximated water column thickness (by setting show_water_column=True)\n",
    "    and can be modified by passing a dictionary to thick_plot_kwargs.\n",
    "\n",
    "    The right plot shows the approximated mask of ocean and land/ice.\n",
    "    \n",
    "    The figure (e.g., size and resolution) can be configured by\n",
    "    passing a dictionary to figure_kwargs.\n",
    "\n",
    "    Returns the Figure object and an array of 3 AxesSubplot.\n",
    "    \n",
    "    To approximate the draft of the ice tongue, which is needed for\n",
    "    the water column thickness and the ocean mask, we use that the\n",
    "    ice density is about 90 % of the ocean water density, implying\n",
    "    that 90 % of floating ice is below sea level.\n",
    "    \"\"\"\n",
    "    ice_draft = -0.9 * ice_thickness\n",
    "\n",
    "    fig, axs = plt.subplots(ncols=3, sharex=True, sharey=True, constrained_layout=True, **figure_kwargs)\n",
    "\n",
    "    ax = axs[0]\n",
    "    if \"cmap\" not in bathy_plot_kwargs:\n",
    "        bathy_plot_kwargs[\"cmap\"] = cmocean.cm.deep_r\n",
    "    bathymetry.plot(ax=ax, **bathy_plot_kwargs)\n",
    "    ax.set_title(\"Bedrock topography around 79NG (RTopo)\")\n",
    "\n",
    "    ax = axs[1]\n",
    "    if show_water_column:\n",
    "        if \"cmap\" not in thick_plot_kwargs:\n",
    "            thick_plot_kwargs[\"cmap\"] = cmocean.cm.balance_r\n",
    "        im = (ice_draft - bathymetry).plot(ax=ax, **thick_plot_kwargs)\n",
    "        im.colorbar.set_label(\"Thickness [m]\")\n",
    "        ax.set_title(\"Water column thickness around 79NG\")\n",
    "    else:\n",
    "        if \"cmap\" not in thick_plot_kwargs:\n",
    "            thick_plot_kwargs[\"cmap\"] = cmocean.cm.amp\n",
    "        ice_thickness.plot(ax=ax, **thick_plot_kwargs)\n",
    "        ax.set_title(\"Ice thickness around 79NG (BedMachine)\")\n",
    "    del thick_plot_kwargs[\"cmap\"]\n",
    "\n",
    "    ax = axs[2]\n",
    "    im = (ice_draft > bathymetry).plot(ax=ax, cmap=\"Greys_r\")\n",
    "    im.colorbar.set_ticks([0, 1])\n",
    "    im.colorbar.set_ticklabels([\"land/ice\", \"ocean\"])\n",
    "    im.colorbar.set_label(\"\")\n",
    "    ax.set_title(\"Approximated ocean mask\")\n",
    "\n",
    "    for i, ax in enumerate(axs):\n",
    "        ax.grid()\n",
    "        if i > 0:\n",
    "            ax.set_ylabel(\"\")\n",
    "    return fig, axs"
   ]
  },
  {
   "cell_type": "markdown",
   "metadata": {},
   "source": [
    "## Load and show the data\n",
    "\n",
    "Two datasets with the same coordinate system and the same resolution are needed.\n",
    "They were created with QGIS."
   ]
  },
  {
   "cell_type": "code",
   "execution_count": null,
   "metadata": {},
   "outputs": [],
   "source": [
    "# Choose between: True False\n",
    "HIGH_RESOLUTION = False\n",
    "\n",
    "if HIGH_RESOLUTION:\n",
    "    file_rtopo = \"data/RTopo_WGS84_EPSG4326_res_0.025_0.00415.nc\"\n",
    "    file_bedmachine = \"data/BedMachine_WGS84_EPSG4326_res_0.025_0.00415.nc\"\n",
    "else:\n",
    "    file_rtopo = \"data/RTopo_WGS84_EPSG4326_res_0.05_0.0083.nc\"\n",
    "    file_bedmachine = \"data/BedMachine_WGS84_EPSG4326_res_0.05_0.0083.nc\"\n",
    "\n",
    "bathymetry = xr.open_dataset(file_rtopo).Band1\n",
    "bathymetry.attrs[\"long_name\"] = \"Elevation\"\n",
    "bathymetry.attrs[\"units\"] = \"m\"\n",
    "\n",
    "ice_thickness = xr.open_dataset(file_bedmachine).Band1\n",
    "ice_thickness.attrs[\"long_name\"] = \"Ice thickness\"\n",
    "ice_thickness.attrs[\"units\"] = \"m\"\n",
    "\n",
    "# Check that the grids of the datasets are the same\n",
    "assert all(bathymetry.lon == ice_thickness.lon)\n",
    "assert all(bathymetry.lat == ice_thickness.lat)\n",
    "\n",
    "print(f\"Grid size (lon×lat): {bathymetry.lon.size}×{bathymetry.lat.size} ({'high' if HIGH_RESOLUTION else 'low'})\")\n",
    "\n",
    "show_topography(bathy_plot_kwargs={\"cmap\": cmocean.cm.topo, \"vmin\": -bathymetry.max()});"
   ]
  },
  {
   "cell_type": "markdown",
   "metadata": {},
   "source": [
    "## Crop the data to the model domain\n",
    "\n",
    "Both datasets must be cropped to the same extent.\n",
    "This is not yet the final extent."
   ]
  },
  {
   "cell_type": "code",
   "execution_count": null,
   "metadata": {},
   "outputs": [],
   "source": [
    "bathymetry = bathymetry.sel(lon=slice(-23, -15), lat=slice(79.2, 80.3))\n",
    "ice_thickness = ice_thickness.sel(lon=slice(-23, -15), lat=slice(79.2, 80.3))\n",
    "\n",
    "show_topography(bathy_plot_kwargs={\"cmap\": cmocean.cm.topo, \"vmin\": bathymetry.min()});"
   ]
  },
  {
   "cell_type": "markdown",
   "metadata": {},
   "source": [
    "## Delete land cells\n",
    "\n",
    "The ocean model only needs the data of water cells, so we can remove positive elevation values by replacing them with NaN."
   ]
  },
  {
   "cell_type": "code",
   "execution_count": null,
   "metadata": {},
   "outputs": [],
   "source": [
    "bathymetry = bathymetry.where(bathymetry < 0, np.NaN)\n",
    "ice_thickness = ice_thickness.where(~np.isnan(bathymetry), np.NaN)\n",
    "\n",
    "show_topography();"
   ]
  },
  {
   "cell_type": "markdown",
   "metadata": {
    "tags": []
   },
   "source": [
    "## Determine the grounding line\n",
    "\n",
    "We need to know the grounding line position for two reasons.\n",
    "\n",
    "1. To mask out grid points where the ice is grounded.\n",
    "2. For the positions of the subglacial discharge.\n",
    "\n",
    "For the grounding line, we use the coastline data of RTopo, limited to 79NG, since 79NG is the only glacier in our model domain."
   ]
  },
  {
   "cell_type": "code",
   "execution_count": null,
   "metadata": {},
   "outputs": [],
   "source": [
    "# Load the grounding line position from RTopo\n",
    "gline_lon, gline_lat = np.loadtxt(\"data/RTopo-2.0.4_gl.asc\").T\n",
    "\n",
    "fig, axs = show_topography(show_water_column=True)\n",
    "# To focus on the calving front, add thick_plot_kwargs={\"vmax\": 100} above and uncomment the following line:\n",
    "# axs[0].set_xlim(-21, -18); axs[0].set_ylim(79.4, 79.75)\n",
    "\n",
    "# Limit the data to the the area of 79NG (a coarse selection is sufficient)\n",
    "select_79NG = (gline_lat > 79.2) & (gline_lon > -25)\n",
    "gline_lon = gline_lon[select_79NG]\n",
    "gline_lat = gline_lat[select_79NG]\n",
    "\n",
    "for ax in axs:\n",
    "    ax.plot(gline_lon, gline_lat, \".\", color=\"orange\", markersize=1, label=\"grounding line\")\n",
    "\n",
    "# Remove grounding line points at the calving front\n",
    "# At the calving front, the water column is mostly > 100 m thick, so the ice does not seem to be grounded.\n",
    "select_calving_front = (gline_lon > -19.9) & (gline_lat > 79.44) & (gline_lat < 79.65)\n",
    "for ax in axs:\n",
    "    ax.plot(gline_lon[select_calving_front], gline_lat[select_calving_front], \"rx\", markersize=2, label=\"removed points\")\n",
    "axs[1].legend(handlelength=0.5, loc=\"upper left\")\n",
    "axs[2].plot([-19.9, -19.1, -19.1, -19.9, -19.9], [79.44, 79.44, 79.65, 79.65, 79.44], \"r\", linewidth=1)\n",
    "axs[2].text(-19, 79.5, \"area in which\\npoints are removed\", color=\"r\", size=\"small\")\n",
    "\n",
    "gline_lon = gline_lon[~select_calving_front]\n",
    "gline_lat = gline_lat[~select_calving_front]"
   ]
  },
  {
   "cell_type": "markdown",
   "metadata": {
    "tags": []
   },
   "source": [
    "### Rasterize the grounding line"
   ]
  },
  {
   "cell_type": "code",
   "execution_count": null,
   "metadata": {},
   "outputs": [],
   "source": [
    "gline = xr.zeros_like(bathymetry, dtype=bool)\n",
    "for lon, lat in zip(gline_lon, gline_lat):\n",
    "    nearest_gridpoint = gline.sel(lat=lat, lon=lon, method=\"nearest\")\n",
    "    gline.loc[{\"lat\": nearest_gridpoint.lat, \"lon\": nearest_gridpoint.lon}] = True\n",
    "gline.plot()"
   ]
  },
  {
   "cell_type": "code",
   "execution_count": null,
   "metadata": {},
   "outputs": [],
   "source": []
  }
 ],
 "metadata": {
  "kernelspec": {
   "display_name": "Python 3",
   "language": "python",
   "name": "python3"
  },
  "language_info": {
   "codemirror_mode": {
    "name": "ipython",
    "version": 3
   },
   "file_extension": ".py",
   "mimetype": "text/x-python",
   "name": "python",
   "nbconvert_exporter": "python",
   "pygments_lexer": "ipython3",
   "version": "3.7.12"
  }
 },
 "nbformat": 4,
 "nbformat_minor": 4
}
