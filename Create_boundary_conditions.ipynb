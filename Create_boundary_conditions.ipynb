{
 "cells": [
  {
   "cell_type": "markdown",
   "id": "23fc9f67-8da9-41ea-b9e5-1c194ecf8ab3",
   "metadata": {
    "editable": true,
    "slideshow": {
     "slide_type": ""
    },
    "tags": []
   },
   "source": [
    "# Create Boundary Conditions of the 79NG Fjord GETM Setup\n",
    "\n",
    "This notebook creates the GETM input files describing the boundary conditions of the 79NG fjord setup.\n",
    "The 3D boundary conditions are given by the initial temperatures and salinities at the boundary points.\n",
    "\n",
    "Notebook by Markus Reinert (IOW, 2023–2024, https://orcid.org/0000-0002-3761-8029)."
   ]
  },
  {
   "cell_type": "code",
   "execution_count": null,
   "id": "27fe8a75-ba5f-4a00-9bcc-caf33c57ff36",
   "metadata": {},
   "outputs": [],
   "source": [
    "from datetime import datetime\n",
    "\n",
    "import numpy as np\n",
    "import xarray as xr\n",
    "import matplotlib.pyplot as plt\n",
    "import cmocean\n",
    "\n",
    "from tools.configuration import Configuration"
   ]
  },
  {
   "cell_type": "code",
   "execution_count": null,
   "id": "727628a5-1396-4d14-bd40-af9c8e10723f",
   "metadata": {
    "tags": []
   },
   "outputs": [],
   "source": [
    "config = Configuration()"
   ]
  },
  {
   "cell_type": "markdown",
   "id": "265c2030-6366-4c32-bf57-b4124d5fd11d",
   "metadata": {},
   "source": [
    "## Load the topography"
   ]
  },
  {
   "cell_type": "code",
   "execution_count": null,
   "id": "d1e5b01d-b844-4540-bac1-716343ce255c",
   "metadata": {
    "tags": []
   },
   "outputs": [],
   "source": [
    "filename = config.get_file_path(\"getm/domain/bathymetry\")\n",
    "print(f\"Loading topography from {filename!r}.\")\n",
    "topo = xr.open_dataset(filename)\n",
    "topo"
   ]
  },
  {
   "cell_type": "markdown",
   "id": "a530b519-12fb-4db8-935a-ed2c8afbe500",
   "metadata": {
    "tags": []
   },
   "source": [
    "## Show the land/ocean mask"
   ]
  },
  {
   "cell_type": "code",
   "execution_count": null,
   "id": "f39afd0a-2a6c-4d1e-ab66-e23e85a76c5b",
   "metadata": {
    "tags": []
   },
   "outputs": [],
   "source": [
    "fig, ax = plt.subplots(figsize=(7, 6), dpi=300)\n",
    "ax.pcolormesh(topo.mask)\n",
    "ax.set_title(\"GETM index 1 is between grid lines 0 and 1\\nGETM index 11 is above/to the right of grid line 10\")\n",
    "ax.set_aspect(\"equal\")\n",
    "xticks = np.arange(0, topo.lon.size + 1, 10)\n",
    "ax.set_xticks(xticks, np.where(xticks % 20 == 0, xticks, \"\"))\n",
    "ax.set_yticks(np.arange(0, topo.lat.size + 1, 10))\n",
    "ax.set_xticks(np.arange(topo.lon.size + 1), minor=True)\n",
    "ax.set_yticks(np.arange(topo.lat.size + 1), minor=True)\n",
    "ax.grid(which=\"minor\", linewidth=0.5)\n",
    "ax.grid(color=\"red\", linewidth=0.5)"
   ]
  },
  {
   "cell_type": "markdown",
   "id": "f45394ce-f11c-459d-9ee1-011307a1ad77",
   "metadata": {},
   "source": [
    "## Create the boundary info file\n",
    "\n",
    "The file format is explained at https://getm.eu/bdys/articles/bdys.html.\n",
    "Here's a compass for orientation:\n",
    "|     |     |     |\n",
    "| :-: | :-: | :-: |\n",
    "| NW  |**N**| NE  |\n",
    "|**W**|  ↑  |**E**|\n",
    "| SW  |**S**| SE  |"
   ]
  },
  {
   "cell_type": "markdown",
   "id": "af970add-fdbb-4715-9df0-3a9ad57696b8",
   "metadata": {},
   "source": [
    "### Get start and end indices of the open boundaries"
   ]
  },
  {
   "cell_type": "code",
   "execution_count": null,
   "id": "0837a8aa-e46e-4716-8c7b-6a9eacbebe94",
   "metadata": {
    "tags": []
   },
   "outputs": [],
   "source": [
    "# North\n",
    "# From the first ocean point (mask is True) to one before the last grid point,\n",
    "# because the last grid point (NE corner) belongs to the eastern boundary\n",
    "i_bdy_start_N = np.where(topo.mask.isel(lat=-1))[0][0]\n",
    "i_bdy_end_N = topo.lon.size - 2\n",
    "\n",
    "# East\n",
    "# Full extent of the model grid\n",
    "i_bdy_start_E = 0\n",
    "i_bdy_end_E = topo.lat.size - 1\n",
    "\n",
    "# South\n",
    "# Analog to the northern boundary\n",
    "i_bdy_start_S = np.where(topo.mask.isel(lat=0))[0][0]\n",
    "i_bdy_end_S = topo.lon.size - 2"
   ]
  },
  {
   "cell_type": "code",
   "execution_count": null,
   "id": "79559c1d-8677-47d9-b97e-2bee4d928668",
   "metadata": {
    "tags": []
   },
   "outputs": [],
   "source": [
    "n_bdy_N = i_bdy_end_N - i_bdy_start_N + 1\n",
    "n_bdy_E = i_bdy_end_E - i_bdy_start_E + 1\n",
    "n_bdy_S = i_bdy_end_S - i_bdy_start_S + 1\n",
    "n_bdy_points = n_bdy_N + n_bdy_E + n_bdy_S\n",
    "print(\"Open boundary consists of\", n_bdy_points, \"grid points.\")"
   ]
  },
  {
   "cell_type": "markdown",
   "id": "4b2156c0-ed1f-4c1f-87cd-ca0783a90cb4",
   "metadata": {},
   "source": [
    "### Create the file content\n",
    "\n",
    "Add 1 to every index, because GETM starts counting indices at 1 and not 0."
   ]
  },
  {
   "cell_type": "code",
   "execution_count": null,
   "id": "b1cb1977-690f-456d-b4cb-ddf9f54a42b5",
   "metadata": {
    "tags": []
   },
   "outputs": [],
   "source": [
    "boundary_info = f\"\"\"\\\n",
    "# no western boundary\n",
    "0\n",
    "# northern boundary\n",
    "1\n",
    "{topo.lat.size} {i_bdy_start_N + 1} {i_bdy_end_N + 1} 4 0\n",
    "# eastern boundary over the full model domain\n",
    "1\n",
    "{topo.lon.size} {i_bdy_start_E + 1} {i_bdy_end_E + 1} 4 0\n",
    "# southern boundary\n",
    "1\n",
    "1 {i_bdy_start_S + 1} {i_bdy_end_S + 1} 4 0\n",
    "\"\"\"\n",
    "print(boundary_info.strip())"
   ]
  },
  {
   "cell_type": "markdown",
   "id": "fc6bc6d0-155f-48c7-b3b3-3ba7ebc82085",
   "metadata": {},
   "source": [
    "### Save the file"
   ]
  },
  {
   "cell_type": "code",
   "execution_count": null,
   "id": "391b2e13-ef61-43c9-9fab-73dffe284c11",
   "metadata": {
    "tags": []
   },
   "outputs": [],
   "source": [
    "filename = config.get_file_path(\"getm/domain/bdyinfofile\")\n",
    "with open(filename, \"w\") as f:\n",
    "    f.write(boundary_info)\n",
    "print(f\"Saved the boundary info as {filename!r}.\")"
   ]
  },
  {
   "cell_type": "markdown",
   "id": "d24bcaf3-9c9d-48b1-812f-65dd4e70bc90",
   "metadata": {},
   "source": [
    "## Create 2D boudary conditions"
   ]
  },
  {
   "cell_type": "markdown",
   "id": "ba61cfe4-e5d1-4bd1-a48c-97b5ccb27c22",
   "metadata": {
    "tags": []
   },
   "source": [
    "### Create the dataset"
   ]
  },
  {
   "cell_type": "code",
   "execution_count": null,
   "id": "e53dfba7-a391-4348-adec-55f97f0469ca",
   "metadata": {
    "tags": []
   },
   "outputs": [],
   "source": [
    "time_string_0 = config.get_text(\"getm/time/start\")\n",
    "time_string_1 = config.get_text(\"getm/time/stop\")\n",
    "datetime_0 = datetime.strptime(time_string_0, \"%Y-%m-%d %H:%M:%S\")\n",
    "datetime_1 = datetime.strptime(time_string_1, \"%Y-%m-%d %H:%M:%S\")\n",
    "print(f\"Model runs from {datetime_0} to {datetime_1}.\")"
   ]
  },
  {
   "cell_type": "code",
   "execution_count": null,
   "id": "80768993-ca69-4cdf-aa77-4344d7dbc3ab",
   "metadata": {
    "tags": []
   },
   "outputs": [],
   "source": [
    "bdy_2D = xr.Dataset(\n",
    "    {\n",
    "        \"elev\": (\n",
    "            [\"time\", \"nbdy\"],\n",
    "            np.zeros((2, n_bdy_points)),\n",
    "            {\"long_name\": \"sea surface elevation\", \"units\": \"m\"},\n",
    "        ),\n",
    "        \"u\": (\n",
    "            [\"time\", \"nbdy\"],\n",
    "            np.zeros((2, n_bdy_points)),\n",
    "            {\"long_name\": \"zonal velocity\", \"units\": \"m/s\"},\n",
    "        ),\n",
    "        \"v\": (\n",
    "            [\"time\", \"nbdy\"],\n",
    "            np.zeros((2, n_bdy_points)),\n",
    "            {\"long_name\": \"meridional velocity\", \"units\": \"m/s\"},\n",
    "        ),\n",
    "    },\n",
    "    coords={\n",
    "        \"nbdy\": ([\"nbdy\"], np.arange(n_bdy_points)),\n",
    "        \"time\": ([\"time\"], [datetime_0, datetime_1]),\n",
    "    },\n",
    "    attrs={\n",
    "        \"title\": \"Boundary conditions (2D) for the 79NG fjord GETM setup\",\n",
    "        \"author\": \"Markus Reinert (ORCID: 0000-0002-3761-8029)\",\n",
    "        \"institution\": \"Leibniz Institute for Baltic Sea Research Warnemuende (IOW), Germany\",\n",
    "        \"description\": \"Boundary conditions are given by constant zero elevation and velocity.\",\n",
    "    },\n",
    ")\n",
    "bdy_2D"
   ]
  },
  {
   "cell_type": "markdown",
   "id": "278396df-31cb-4ce4-af4e-104e17681a60",
   "metadata": {},
   "source": [
    "### Save the dataset"
   ]
  },
  {
   "cell_type": "code",
   "execution_count": null,
   "id": "f140d235-7bfb-46dc-9e7e-66778a8ec613",
   "metadata": {
    "tags": []
   },
   "outputs": [],
   "source": [
    "filename = config.get_file_path(\"getm/m2d/bdyfile_2d\")\n",
    "bdy_2D.to_netcdf(\n",
    "    filename,\n",
    "    unlimited_dims=[\"time\"],\n",
    "    encoding={\n",
    "        \"u\": {\"_FillValue\": None},\n",
    "        \"v\": {\"_FillValue\": None},\n",
    "        \"elev\": {\"_FillValue\": None},\n",
    "        \"time\": {\"units\": \"seconds since 2000-01-01\"},\n",
    "    },\n",
    ")\n",
    "print(f\"Saved the 2D boundary conditions as {filename!r}.\")"
   ]
  },
  {
   "cell_type": "markdown",
   "id": "1b6c1a15-f736-482c-be76-999c688f3752",
   "metadata": {},
   "source": [
    "## Create 3D boundary conditions"
   ]
  },
  {
   "cell_type": "markdown",
   "id": "d1ae80d9-1387-4a26-ad3f-7a1e87507349",
   "metadata": {},
   "source": [
    "### Load the corresponding inital conditions"
   ]
  },
  {
   "cell_type": "code",
   "execution_count": null,
   "id": "b9c9e145-2c66-4a56-a8eb-136b00b74814",
   "metadata": {
    "tags": []
   },
   "outputs": [],
   "source": [
    "filename = config.get_file_path(\"getm/temp/temp_file\")\n",
    "assert filename == config.get_file_path(\"getm/salt/salt_file\"), \"filenames of temperature and salinity initial conditions differ\"\n",
    "print(f\"Loading initial conditions from {filename!r}.\")\n",
    "init = xr.open_dataset(filename).squeeze()\n",
    "variables = [var for var in init.variables if init[var].dims == (\"zax\", \"lat\", \"lon\")]\n",
    "print(\"Contains\", *variables)\n",
    "init"
   ]
  },
  {
   "cell_type": "markdown",
   "id": "01d1e682-32dd-497d-ae73-549704e58ce2",
   "metadata": {},
   "source": [
    "### Create the 3D boundary dataset"
   ]
  },
  {
   "cell_type": "code",
   "execution_count": null,
   "id": "73f5a2e5-d0b2-44e7-8583-293fb81c9aa3",
   "metadata": {},
   "outputs": [],
   "source": [
    "bdy_3D = xr.Dataset(\n",
    "    {\n",
    "        var: (\n",
    "            [\"time\", \"nbdy\", \"zax\"],\n",
    "            np.full((2, n_bdy_points, init.zax.size), np.nan),\n",
    "            init[var].attrs,\n",
    "        ) for var in variables\n",
    "    },\n",
    "    coords={\n",
    "        \"nbdy\": ([\"nbdy\"], bdy_2D.nbdy.data),\n",
    "        \"time\": ([\"time\"], bdy_2D.time.data),\n",
    "        \"zax\": ([\"zax\"], -init.zax.data, {\"long_name\": \"z-axis\", \"units\": init.zax.units, \"positive\": \"up\"}),\n",
    "    },\n",
    "    attrs={\n",
    "        \"title\": \"Boundary conditions (3D) for the 79NG fjord GETM setup\",\n",
    "        \"author\": bdy_2D.author,\n",
    "        \"institution\": bdy_2D.institution,\n",
    "        \"description\": \"Boundary conditions are equal to the inital conditions for S and T.\",\n",
    "        \"source\": init.source,\n",
    "    },\n",
    ")\n",
    "bdy_3D"
   ]
  },
  {
   "cell_type": "markdown",
   "id": "81211570-f6ce-4747-bcde-6173194c65c5",
   "metadata": {},
   "source": [
    "### Fill the dataset"
   ]
  },
  {
   "cell_type": "code",
   "execution_count": null,
   "id": "7b3ed8cc-bca1-446c-b286-772f47ee3e25",
   "metadata": {
    "tags": []
   },
   "outputs": [],
   "source": [
    "for var in variables:\n",
    "    bdy_N = bdy_3D[var].isel(nbdy=slice(n_bdy_N))\n",
    "    bdy_N[...] = init[var].isel(lat=-1, lon=slice(i_bdy_start_N, i_bdy_end_N + 1)).data.T\n",
    "    bdy_E = bdy_3D[var].isel(nbdy=slice(n_bdy_N, n_bdy_N + n_bdy_E))\n",
    "    bdy_E[...] = init[var].isel(lon=-1).data.T\n",
    "    bdy_S = bdy_3D[var].isel(nbdy=slice(n_bdy_N + n_bdy_E, n_bdy_N + n_bdy_E + n_bdy_S))\n",
    "    bdy_S[...] = init[var].isel(lat=0, lon=slice(i_bdy_start_S, i_bdy_end_S + 1)).data.T\n",
    "    assert all(bdy_3D.nbdy == np.concatenate([bdy_N.nbdy, bdy_E.nbdy, bdy_S.nbdy])), \"not all boundary points covered\""
   ]
  },
  {
   "cell_type": "markdown",
   "id": "137d2563-3286-4823-86be-c4e81e353905",
   "metadata": {},
   "source": [
    "### Show the dataset"
   ]
  },
  {
   "cell_type": "code",
   "execution_count": null,
   "id": "117068ca-46f5-48dc-87d6-eab943803b77",
   "metadata": {
    "tags": []
   },
   "outputs": [],
   "source": [
    "# Extract the bathymetry and lat/lon-coordinates of the boundaries\n",
    "z_seabed = -np.concatenate([\n",
    "    topo.bathymetry.isel(lat=0, lon=slice(i_bdy_start_S, i_bdy_end_S + 1)),\n",
    "    topo.bathymetry.isel(lon=-1),\n",
    "    topo.bathymetry.isel(lat=-1, lon=slice(i_bdy_end_N, i_bdy_start_N - 1, -1)),\n",
    "])\n",
    "l_bdy = np.concatenate([\n",
    "    topo.lon[i_bdy_start_S : i_bdy_end_S + 1],\n",
    "    topo.lat,\n",
    "    topo.lon[i_bdy_end_N : i_bdy_start_N - 1 : -1],\n",
    "])"
   ]
  },
  {
   "cell_type": "code",
   "execution_count": null,
   "id": "5442b5b5-cc89-47ca-8e7f-db630b931b56",
   "metadata": {
    "tags": []
   },
   "outputs": [],
   "source": [
    "fig, axs = plt.subplots(2, sharex=True, sharey=True, constrained_layout=True, figsize=(8, 5), dpi=300)\n",
    "fig.suptitle(\"3D Boundary Conditions\", weight=\"bold\")\n",
    "\n",
    "for ax, var in zip(axs, variables):\n",
    "    data = bdy_3D[var].data[0]\n",
    "    # Re-assemble the boundary data in counter-clockwise direction from South to North\n",
    "    data = np.concatenate((data[n_bdy_N + n_bdy_E:], data[n_bdy_N : n_bdy_N + n_bdy_E], data[n_bdy_N - 1 : : -1]))\n",
    "    im = ax.pcolormesh(\n",
    "        bdy_3D.nbdy, bdy_3D.zax, np.where(bdy_3D.zax.data[:, np.newaxis] >= z_seabed, data.T, np.nan),\n",
    "        shading=\"nearest\",\n",
    "        cmap=cmocean.cm.thermal if var == \"temp\" else cmocean.cm.haline if var == \"salt\" else None,\n",
    "    )\n",
    "    fig.colorbar(im, ax=ax)\n",
    "    ax.plot(bdy_3D.nbdy, z_seabed, \"tab:grey\", lw=1)\n",
    "    # Mark the transitions between sections\n",
    "    kwargs = dict(color=\"r\", lw=1, ls=\"--\")\n",
    "    ax.axvline(n_bdy_S - 0.5, **kwargs)\n",
    "    ax.axvline(n_bdy_S + n_bdy_E - 0.5, **kwargs)\n",
    "    ax.set_ylim(z_seabed.min(), 0)\n",
    "    ax.set_title(f\"{bdy_3D[var].long_name.capitalize()} [{bdy_3D[var].units}]\")\n",
    "    ax.set_ylabel(f\"{bdy_3D.zax.long_name} [{bdy_3D.zax.units}]\")\n",
    "ax.set_xlabel(\"Boundary points from South over East to North (counter-clockwise)\")\n",
    "\n",
    "# Put x-labels at each degree longitude and at every fifth degree latitude\n",
    "indices = (\n",
    "    [np.argmin(abs(l_bdy[:n_bdy_S] + lon)) for lon in range(19, 14, -1)] +\n",
    "    [np.argmin(abs(l_bdy - lat)) for lat in np.arange(79.2, 80.3, 0.2)] + \n",
    "    [np.argmin(abs(l_bdy[n_bdy_S + n_bdy_E:] + lon)) + n_bdy_S + n_bdy_E for lon in (15, 16)]\n",
    ")\n",
    "labels = [f\"{-l:.0f}°W\" if l < 0 else f\"\\n{l:.1f}°N\" for l in l_bdy[indices]]\n",
    "ax.set_xticks(indices, labels)\n",
    "\n",
    "fig.savefig(\"figures/bdy_3d.png\")"
   ]
  },
  {
   "cell_type": "markdown",
   "id": "2771cc32-65c9-4edd-bcec-417536eb94ed",
   "metadata": {},
   "source": [
    "### Save the dataset"
   ]
  },
  {
   "cell_type": "code",
   "execution_count": null,
   "id": "92da9252-68c7-4326-9044-822ed2c4fbd4",
   "metadata": {
    "tags": []
   },
   "outputs": [],
   "source": [
    "filename = config.get_file_path(\"getm/m3d/bdyfile_3d\")\n",
    "bdy_3D.to_netcdf(\n",
    "    filename,\n",
    "    unlimited_dims=[\"time\"],\n",
    "    encoding={\n",
    "        \"zax\": {\"_FillValue\": None},\n",
    "        **{var: {\"_FillValue\": None} for var in variables},\n",
    "        \"time\": {\"units\": \"seconds since 2000-01-01\"},\n",
    "    },\n",
    ")\n",
    "print(f\"Saved the 3D boundary conditions as {filename!r}.\")"
   ]
  },
  {
   "cell_type": "code",
   "execution_count": null,
   "id": "af795277-5db9-4abc-8702-4dff8219579a",
   "metadata": {},
   "outputs": [],
   "source": []
  }
 ],
 "metadata": {
  "kernelspec": {
   "display_name": "Python 3 (ipykernel)",
   "language": "python",
   "name": "python3"
  },
  "language_info": {
   "codemirror_mode": {
    "name": "ipython",
    "version": 3
   },
   "file_extension": ".py",
   "mimetype": "text/x-python",
   "name": "python",
   "nbconvert_exporter": "python",
   "pygments_lexer": "ipython3",
   "version": "3.11.6"
  }
 },
 "nbformat": 4,
 "nbformat_minor": 5
}
