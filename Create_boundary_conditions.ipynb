{
 "cells": [
  {
   "cell_type": "markdown",
   "id": "23fc9f67-8da9-41ea-b9e5-1c194ecf8ab3",
   "metadata": {
    "editable": true,
    "slideshow": {
     "slide_type": ""
    },
    "tags": []
   },
   "source": [
    "# Create Boundary Conditions of the 79NG Fjord GETM Setup\n",
    "\n",
    "This notebook creates the GETM input files describing the boundary conditions of the 79NG fjord setup.\n",
    "The files for the corresponding initial conditions are also created.\n",
    "\n",
    "Notebook by Markus Reinert (IOW, 2023–2024, https://orcid.org/0000-0002-3761-8029)."
   ]
  },
  {
   "cell_type": "code",
   "execution_count": null,
   "id": "27fe8a75-ba5f-4a00-9bcc-caf33c57ff36",
   "metadata": {},
   "outputs": [],
   "source": [
    "from datetime import datetime\n",
    "\n",
    "import numpy as np\n",
    "import xarray as xr\n",
    "import matplotlib.pyplot as plt\n",
    "\n",
    "from tools.configuration import Configuration"
   ]
  },
  {
   "cell_type": "code",
   "execution_count": null,
   "id": "727628a5-1396-4d14-bd40-af9c8e10723f",
   "metadata": {
    "tags": []
   },
   "outputs": [],
   "source": [
    "config = Configuration()"
   ]
  },
  {
   "cell_type": "markdown",
   "id": "265c2030-6366-4c32-bf57-b4124d5fd11d",
   "metadata": {},
   "source": [
    "## Load the topography"
   ]
  },
  {
   "cell_type": "code",
   "execution_count": null,
   "id": "d1e5b01d-b844-4540-bac1-716343ce255c",
   "metadata": {
    "tags": []
   },
   "outputs": [],
   "source": [
    "filename = config.get_file_path(\"getm/domain/bathymetry\")\n",
    "print(f\"Loading topography from {filename!r}.\")\n",
    "topo = xr.open_dataset(filename)\n",
    "topo"
   ]
  },
  {
   "cell_type": "markdown",
   "id": "a530b519-12fb-4db8-935a-ed2c8afbe500",
   "metadata": {
    "tags": []
   },
   "source": [
    "## Show the land/ocean mask"
   ]
  },
  {
   "cell_type": "code",
   "execution_count": null,
   "id": "f39afd0a-2a6c-4d1e-ab66-e23e85a76c5b",
   "metadata": {
    "tags": []
   },
   "outputs": [],
   "source": [
    "fig, ax = plt.subplots(figsize=(7, 6), dpi=300)\n",
    "ax.pcolormesh(topo.mask)\n",
    "ax.set_title(\"GETM index 1 is between grid lines 0 and 1\\nGETM index 11 is above/to the right of grid line 10\")\n",
    "ax.set_aspect(\"equal\")\n",
    "ax.set_xticks(np.arange(0, topo.lon.size + 1, 10))\n",
    "ax.set_yticks(np.arange(0, topo.lat.size + 1, 10))\n",
    "ax.set_xticks(np.arange(topo.lon.size + 1), minor=True)\n",
    "ax.set_yticks(np.arange(topo.lat.size + 1), minor=True)\n",
    "ax.grid(which=\"minor\", linewidth=0.5)\n",
    "ax.grid(color=\"red\", linewidth=0.5)"
   ]
  },
  {
   "cell_type": "markdown",
   "id": "f45394ce-f11c-459d-9ee1-011307a1ad77",
   "metadata": {},
   "source": [
    "## Create the boundary info file\n",
    "\n",
    "The file format is explained at https://getm.eu/bdys/articles/bdys.html.\n",
    "Here's a compass for orientation:\n",
    "|     |     |     |\n",
    "| :-: | :-: | :-: |\n",
    "| NW  |**N**| NE  |\n",
    "|**W**|  ↑  |**E**|\n",
    "| SW  |**S**| SE  |"
   ]
  },
  {
   "cell_type": "markdown",
   "id": "af970add-fdbb-4715-9df0-3a9ad57696b8",
   "metadata": {},
   "source": [
    "### Get start and end indices of the open boundaries"
   ]
  },
  {
   "cell_type": "code",
   "execution_count": null,
   "id": "0837a8aa-e46e-4716-8c7b-6a9eacbebe94",
   "metadata": {
    "tags": []
   },
   "outputs": [],
   "source": [
    "# North\n",
    "# From the first ocean point (mask is True) to one before the last grid point,\n",
    "# because the last grid point (NE corner) belongs to the eastern boundary\n",
    "i_bdy_start_N = np.where(topo.mask.isel(lat=-1))[0][0]\n",
    "i_bdy_end_N = topo.lon.size - 2\n",
    "\n",
    "# East\n",
    "# Full extent of the model grid\n",
    "i_bdy_start_E = 0\n",
    "i_bdy_end_E = topo.lat.size - 1\n",
    "\n",
    "# South\n",
    "# Section 1: from the first ocean point to the island\n",
    "i_bdy_start_S1 = np.where(topo.mask.isel(lat=0))[0][0]\n",
    "i_bdy_end_S1 = np.where(~topo.mask.isel(lat=0, lon=slice(i_bdy_start_S1, None)))[0][0] + i_bdy_start_S1 - 1\n",
    "# Section 2: from the island to one before the last grid point,\n",
    "# because the last grid point (SE corner) belongs to the eastern boundary\n",
    "i_bdy_start_S2 = np.where(topo.mask.isel(lat=0, lon=slice(i_bdy_end_S1 + 1, None)))[0][0] + i_bdy_end_S1 + 1\n",
    "i_bdy_end_S2 = topo.lon.size - 2"
   ]
  },
  {
   "cell_type": "code",
   "execution_count": null,
   "id": "79559c1d-8677-47d9-b97e-2bee4d928668",
   "metadata": {
    "tags": []
   },
   "outputs": [],
   "source": [
    "n_bdy_points = (\n",
    "    i_bdy_end_N  - i_bdy_start_N  + 1 +\n",
    "    i_bdy_end_E  - i_bdy_start_E  + 1 + \n",
    "    i_bdy_end_S1 - i_bdy_start_S1 + 1 +\n",
    "    i_bdy_end_S2 - i_bdy_start_S2 + 1\n",
    ")\n",
    "print(\"Open boundary consists of\", n_bdy_points, \"grid points.\")"
   ]
  },
  {
   "cell_type": "markdown",
   "id": "4b2156c0-ed1f-4c1f-87cd-ca0783a90cb4",
   "metadata": {},
   "source": [
    "### Create the file content\n",
    "\n",
    "Add 1 to every index, because GETM starts counting indices at 1 and not 0."
   ]
  },
  {
   "cell_type": "code",
   "execution_count": null,
   "id": "b1cb1977-690f-456d-b4cb-ddf9f54a42b5",
   "metadata": {
    "tags": []
   },
   "outputs": [],
   "source": [
    "boundary_info = f\"\"\"\\\n",
    "# no western boundary\n",
    "0\n",
    "# northern boundary\n",
    "1\n",
    "{topo.lat.size} {i_bdy_start_N + 1} {i_bdy_end_N + 1} 3 0\n",
    "# eastern boundary over the full model domain\n",
    "1\n",
    "{topo.lon.size} {i_bdy_start_E + 1} {i_bdy_end_E + 1} 3 0\n",
    "# southern boundaries\n",
    "2\n",
    "1 {i_bdy_start_S1 + 1} {i_bdy_end_S1 + 1} 3 0\n",
    "1 {i_bdy_start_S2 + 1} {i_bdy_end_S2 + 1} 3 0\n",
    "\"\"\"\n",
    "print(boundary_info.strip())"
   ]
  },
  {
   "cell_type": "markdown",
   "id": "fc6bc6d0-155f-48c7-b3b3-3ba7ebc82085",
   "metadata": {},
   "source": [
    "### Save the file"
   ]
  },
  {
   "cell_type": "code",
   "execution_count": null,
   "id": "391b2e13-ef61-43c9-9fab-73dffe284c11",
   "metadata": {
    "tags": []
   },
   "outputs": [],
   "source": [
    "filename = config.get_file_path(\"getm/domain/bdyinfofile\")\n",
    "with open(filename, \"w\") as f:\n",
    "    f.write(boundary_info)\n",
    "print(f\"Saved the boundary info as {filename!r}.\")"
   ]
  },
  {
   "cell_type": "markdown",
   "id": "d24bcaf3-9c9d-48b1-812f-65dd4e70bc90",
   "metadata": {},
   "source": [
    "## Create 2D boudary conditions"
   ]
  },
  {
   "cell_type": "markdown",
   "id": "ba61cfe4-e5d1-4bd1-a48c-97b5ccb27c22",
   "metadata": {
    "tags": []
   },
   "source": [
    "### Create the dataset"
   ]
  },
  {
   "cell_type": "code",
   "execution_count": null,
   "id": "e53dfba7-a391-4348-adec-55f97f0469ca",
   "metadata": {
    "tags": []
   },
   "outputs": [],
   "source": [
    "time_string_0 = config.get_text(\"getm/time/start\")\n",
    "time_string_1 = config.get_text(\"getm/time/stop\")\n",
    "datetime_0 = datetime.strptime(time_string_0, \"%Y-%m-%d %H:%M:%S\")\n",
    "datetime_1 = datetime.strptime(time_string_1, \"%Y-%m-%d %H:%M:%S\")\n",
    "print(f\"Model runs from {datetime_0} to {datetime_1}.\")"
   ]
  },
  {
   "cell_type": "code",
   "execution_count": null,
   "id": "80768993-ca69-4cdf-aa77-4344d7dbc3ab",
   "metadata": {
    "tags": []
   },
   "outputs": [],
   "source": [
    "bdy_2D = xr.Dataset(\n",
    "    {\n",
    "        \"elev\": (\n",
    "            [\"time\", \"nbdy\"],\n",
    "            np.zeros((2, n_bdy_points)),\n",
    "            {\"long_name\": \"Sea surface elevation\", \"units\": \"m\"},\n",
    "        ),\n",
    "    },\n",
    "    coords={\n",
    "        \"nbdy\": ([\"nbdy\"], np.arange(n_bdy_points)),\n",
    "        \"time\": ([\"time\"], [datetime_0, datetime_1]),\n",
    "    },\n",
    "    attrs={\n",
    "        \"title\": \"Boundary conditions (2D) for the 79NG fjord GETM setup\",\n",
    "        \"author\": \"Markus Reinert (ORCID: 0000-0002-3761-8029)\",\n",
    "        \"institution\": \"Leibniz Institute for Baltic Sea Research Warnemuende (IOW), Germany\",\n",
    "        \"description\": \"Boundary conditions are given by constant zero elevation.\",\n",
    "    },\n",
    ")\n",
    "bdy_2D"
   ]
  },
  {
   "cell_type": "markdown",
   "id": "278396df-31cb-4ce4-af4e-104e17681a60",
   "metadata": {},
   "source": [
    "### Save the dataset"
   ]
  },
  {
   "cell_type": "code",
   "execution_count": null,
   "id": "f140d235-7bfb-46dc-9e7e-66778a8ec613",
   "metadata": {
    "tags": []
   },
   "outputs": [],
   "source": [
    "filename = config.get_file_path(\"getm/m2d/bdyfile_2d\")\n",
    "bdy_2D.to_netcdf(\n",
    "    filename,\n",
    "    unlimited_dims=[\"time\"],\n",
    "    encoding={\n",
    "        \"elev\": {\"_FillValue\": None},\n",
    "        \"time\": {\"units\": \"seconds since 2000-01-01\"},\n",
    "    },\n",
    ")\n",
    "print(f\"Saved the 2D boundary conditions as {filename!r}.\")"
   ]
  },
  {
   "cell_type": "markdown",
   "id": "1b6c1a15-f736-482c-be76-999c688f3752",
   "metadata": {},
   "source": [
    "## Create 3D boundary conditions"
   ]
  },
  {
   "cell_type": "markdown",
   "id": "37e47967-a786-40d4-a498-0d7733394c6e",
   "metadata": {},
   "source": [
    "### Get the stratification\n",
    "\n",
    "The stratification is defined by layers of given temperatures ($T$) and salinities ($S$) at given depths ($-z$).\n",
    "Between the given $z$-levels, $T$ and $S$ are linearly interpolated."
   ]
  },
  {
   "cell_type": "code",
   "execution_count": null,
   "id": "cfa55b16-57c7-45e6-9636-4b5ab6385f39",
   "metadata": {
    "tags": []
   },
   "outputs": [],
   "source": [
    "stratification = []\n",
    "for level in config.get_element(\"fjord/stratification\"):\n",
    "    assert level.tag == \"level\",\\\n",
    "        f\"all elements in stratification must be named 'level', not {level.tag!r}\"\n",
    "    stratification.append([float(level.get(var)) for var in \"zST\"])\n",
    "stratification.sort(key=lambda level: level[0], reverse=True)\n",
    "z_discrete, S_discrete, T_discrete = zip(*stratification)"
   ]
  },
  {
   "cell_type": "markdown",
   "id": "564fa048-2e32-4fbd-bc37-979cc4bb6c61",
   "metadata": {},
   "source": [
    "### Show the stratification"
   ]
  },
  {
   "cell_type": "code",
   "execution_count": null,
   "id": "4f71dafe-8fa3-429b-aef3-5c793cc86eef",
   "metadata": {
    "tags": []
   },
   "outputs": [],
   "source": [
    "print(f\"  {'z':^5}   {'S':^5}   {'T':^5}\")\n",
    "print(\"-\" * 24)\n",
    "print(np.array(stratification))\n",
    "\n",
    "fig, axs = plt.subplots(ncols=2, sharey=True, constrained_layout=True)\n",
    "fig.suptitle(\"Stratification\")\n",
    "axs[0].plot(S_discrete, z_discrete)\n",
    "axs[1].plot(T_discrete, z_discrete)\n",
    "axs[0].set_xlabel(\"Salinity $S$ [g/kg]\")\n",
    "axs[1].set_xlabel(\"Temperature $T$ [°C]\")\n",
    "axs[0].set_ylabel(\"Vertical coordinate $z$ [m]\")\n",
    "for ax in axs:\n",
    "    ax.grid()"
   ]
  },
  {
   "cell_type": "markdown",
   "id": "6db8e442-d998-48f8-9f42-79d6370fcec6",
   "metadata": {},
   "source": [
    "### Create the dataset"
   ]
  },
  {
   "cell_type": "code",
   "execution_count": null,
   "id": "7a8db2a9-8704-4809-aac0-41daf98e74d9",
   "metadata": {},
   "outputs": [],
   "source": [
    "bdy_3D = xr.Dataset(\n",
    "    {\n",
    "        \"salt\": (\n",
    "            [\"time\", \"nbdy\", \"zax\"],\n",
    "            np.ones((2, n_bdy_points, len(z_discrete))) * S_discrete,\n",
    "            {\"long_name\": \"Salinity\", \"units\": \"g/kg\"},\n",
    "        ),\n",
    "        \"temp\": (\n",
    "            [\"time\", \"nbdy\", \"zax\"],\n",
    "            np.ones((2, n_bdy_points, len(z_discrete))) * T_discrete,\n",
    "            {\"long_name\": \"Temperature\", \"units\": \"degC\"},\n",
    "        ),\n",
    "    },\n",
    "    coords={\n",
    "        \"nbdy\": ([\"nbdy\"], bdy_2D.nbdy.data),\n",
    "        \"time\": ([\"time\"], bdy_2D.time.data),\n",
    "        \"zax\": ([\"zax\"], list(z_discrete), {\"long_name\": \"z-axis\", \"units\": \"m\", \"positive\": \"up\"}),\n",
    "    },\n",
    "    attrs={\n",
    "        \"title\": \"Boundary conditions (3D) for the 79NG fjord GETM setup\",\n",
    "        \"author\": bdy_2D.author,\n",
    "        \"institution\": bdy_2D.institution,\n",
    "        \"description\": \"Boundary conditions are given by piece-wise linear z-profiles of S and T.\",\n",
    "    },\n",
    ")\n",
    "bdy_3D"
   ]
  },
  {
   "cell_type": "markdown",
   "id": "4f4a9337-af15-4917-aa8a-2607dca37a45",
   "metadata": {},
   "source": [
    "### Save the dataset"
   ]
  },
  {
   "cell_type": "code",
   "execution_count": null,
   "id": "8ddc343b-4d5e-4940-986c-1a86d480d868",
   "metadata": {
    "tags": []
   },
   "outputs": [],
   "source": [
    "filename = config.get_file_path(\"getm/m3d/bdyfile_3d\")\n",
    "bdy_3D.to_netcdf(\n",
    "    filename,\n",
    "    unlimited_dims=[\"time\"],\n",
    "    encoding={\n",
    "        \"zax\": {\"_FillValue\": None},\n",
    "        \"salt\": {\"_FillValue\": None},\n",
    "        \"temp\": {\"_FillValue\": None},\n",
    "        \"time\": {\"units\": \"seconds since 2000-01-01\"},\n",
    "    },\n",
    ")\n",
    "print(f\"Saved the 3D boundary conditions as {filename!r}.\")"
   ]
  },
  {
   "cell_type": "markdown",
   "id": "61a6ee01-1f30-4dc9-a3b9-221ab5181655",
   "metadata": {},
   "source": [
    "### Create corresponding initial conditions"
   ]
  },
  {
   "cell_type": "markdown",
   "id": "57e01677-8a0f-4155-a9dd-8d87562481ab",
   "metadata": {},
   "source": [
    "#### Salinity profile"
   ]
  },
  {
   "cell_type": "code",
   "execution_count": null,
   "id": "fd2ef573-a300-4c7b-a9d4-9974bdc44627",
   "metadata": {
    "tags": []
   },
   "outputs": [],
   "source": [
    "filename = config.get_file_path(\"getm/salt/salt_file\")\n",
    "with open(filename, \"w\") as f:\n",
    "    f.write(f\"{len(z_discrete)}\\n\")\n",
    "    for z_val, S_val in zip(z_discrete, S_discrete):\n",
    "        f.write(f\"{z_val:6} {S_val:3}\\n\")\n",
    "print(f\"Saved initial salinity stratification as {filename!r}.\")"
   ]
  },
  {
   "cell_type": "markdown",
   "id": "badcd56c-9483-457f-b408-d63a1930e712",
   "metadata": {},
   "source": [
    "#### Temperature profile"
   ]
  },
  {
   "cell_type": "code",
   "execution_count": null,
   "id": "3d5a52d8-e928-4cfc-9028-552950d0f32e",
   "metadata": {},
   "outputs": [],
   "source": [
    "filename = config.get_file_path(\"getm/temp/temp_file\")\n",
    "with open(filename, \"w\") as f:\n",
    "    f.write(f\"{len(z_discrete)}\\n\")\n",
    "    for z_val, T_val in zip(z_discrete, T_discrete):\n",
    "        f.write(f\"{z_val:6} {T_val:5}\\n\")\n",
    "print(f\"Saved initial temperature stratification as {filename!r}.\")"
   ]
  },
  {
   "cell_type": "code",
   "execution_count": null,
   "id": "af795277-5db9-4abc-8702-4dff8219579a",
   "metadata": {},
   "outputs": [],
   "source": []
  }
 ],
 "metadata": {
  "kernelspec": {
   "display_name": "Python 3 (ipykernel)",
   "language": "python",
   "name": "python3"
  },
  "language_info": {
   "codemirror_mode": {
    "name": "ipython",
    "version": 3
   },
   "file_extension": ".py",
   "mimetype": "text/x-python",
   "name": "python",
   "nbconvert_exporter": "python",
   "pygments_lexer": "ipython3",
   "version": "3.11.6"
  }
 },
 "nbformat": 4,
 "nbformat_minor": 5
}
