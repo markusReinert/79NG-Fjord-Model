{
 "cells": [
  {
   "cell_type": "markdown",
   "id": "23fc9f67-8da9-41ea-b9e5-1c194ecf8ab3",
   "metadata": {
    "editable": true,
    "slideshow": {
     "slide_type": ""
    },
    "tags": []
   },
   "source": [
    "# Create Boundary Conditions of the 79NG Fjord GETM Setup\n",
    "\n",
    "This notebook creates the GETM input files describing the boundary conditions of the 79NG fjord setup.\n",
    "\n",
    "Notebook by Markus Reinert (IOW, 2023, https://orcid.org/0000-0002-3761-8029)."
   ]
  },
  {
   "cell_type": "code",
   "execution_count": null,
   "id": "27fe8a75-ba5f-4a00-9bcc-caf33c57ff36",
   "metadata": {},
   "outputs": [],
   "source": [
    "import numpy as np\n",
    "import xarray as xr\n",
    "import matplotlib.pyplot as plt"
   ]
  },
  {
   "cell_type": "markdown",
   "id": "265c2030-6366-4c32-bf57-b4124d5fd11d",
   "metadata": {},
   "source": [
    "## Load the topography"
   ]
  },
  {
   "cell_type": "code",
   "execution_count": null,
   "id": "d1e5b01d-b844-4540-bac1-716343ce255c",
   "metadata": {
    "tags": []
   },
   "outputs": [],
   "source": [
    "topo = xr.open_dataset(\"model/topography_1km.nc\")\n",
    "topo"
   ]
  },
  {
   "cell_type": "code",
   "execution_count": null,
   "id": "f39afd0a-2a6c-4d1e-ab66-e23e85a76c5b",
   "metadata": {
    "tags": []
   },
   "outputs": [],
   "source": [
    "fig, ax = plt.subplots(figsize=(7, 6), dpi=300)\n",
    "ax.pcolormesh(topo.mask)\n",
    "ax.set_title(\"GETM index 1 is between grid lines 0 and 1\\nGETM index 11 is above/to the right of grid line 10\")\n",
    "ax.set_aspect(\"equal\")\n",
    "ax.set_xticks(np.arange(0, topo.lon.size + 1, 10))\n",
    "ax.set_yticks(np.arange(0, topo.lat.size + 1, 10))\n",
    "ax.set_xticks(np.arange(topo.lon.size + 1), minor=True)\n",
    "ax.set_yticks(np.arange(topo.lat.size + 1), minor=True)\n",
    "ax.grid(which=\"minor\", linewidth=0.5)\n",
    "ax.grid(color=\"red\", linewidth=0.5)"
   ]
  },
  {
   "cell_type": "markdown",
   "id": "f45394ce-f11c-459d-9ee1-011307a1ad77",
   "metadata": {},
   "source": [
    "## Create boundary info file\n",
    "\n",
    "The file format is explained at https://getm.eu/bdys/articles/bdys.html."
   ]
  },
  {
   "cell_type": "code",
   "execution_count": null,
   "id": "0837a8aa-e46e-4716-8c7b-6a9eacbebe94",
   "metadata": {
    "tags": []
   },
   "outputs": [],
   "source": [
    "boundary_info = f\"\"\"\\\n",
    "# no western boundary\n",
    "0\n",
    "# northern boundary\n",
    "1\n",
    "{topo.lat.size} {np.where(topo.mask.isel(lat=-1))[0][0] + 1} {topo.lon.size - 1} 3 0\n",
    "# eastern boundary over the full model domain\n",
    "1\n",
    "{topo.lon.size} 1 {topo.lat.size} 3 0\n",
    "# southern boundaries\n",
    "2\n",
    "\"\"\"\n",
    "# Get start index of the first boundary section\n",
    "i_boundary_start = np.where(topo.mask.isel(lat=0))[0][0]\n",
    "# Get end index of the first boundary section plus one (p1)\n",
    "i_boundary_endp1 = np.where(~topo.mask.isel(lat=0, lon=slice(i_boundary_start, None)))[0][0] + i_boundary_start\n",
    "boundary_info += f\"1 {i_boundary_start + 1} {i_boundary_endp1} 3 0\\n\"\n",
    "# Get start index of the second boundary section\n",
    "i_boundary_start = np.where(topo.mask.isel(lat=0, lon=slice(i_boundary_endp1, None)))[0][0] + i_boundary_endp1\n",
    "boundary_info += f\"1 {i_boundary_start + 1} {topo.lon.size - 1} 3 0\\n\""
   ]
  },
  {
   "cell_type": "code",
   "execution_count": null,
   "id": "391b2e13-ef61-43c9-9fab-73dffe284c11",
   "metadata": {
    "tags": []
   },
   "outputs": [],
   "source": [
    "bdyinfo_filename = \"model/bdyinfo.dat\"\n",
    "with open(bdyinfo_filename, \"w\") as f:\n",
    "    f.write(boundary_info)\n",
    "print(f\"Saved the following boundary info as {bdyinfo_filename!r}:\\n{boundary_info}\")"
   ]
  },
  {
   "cell_type": "code",
   "execution_count": null,
   "id": "14f67f65-596f-46e2-a755-ae170d2d0f9d",
   "metadata": {},
   "outputs": [],
   "source": []
  }
 ],
 "metadata": {
  "kernelspec": {
   "display_name": "Python 3 (ipykernel)",
   "language": "python",
   "name": "python3"
  },
  "language_info": {
   "codemirror_mode": {
    "name": "ipython",
    "version": 3
   },
   "file_extension": ".py",
   "mimetype": "text/x-python",
   "name": "python",
   "nbconvert_exporter": "python",
   "pygments_lexer": "ipython3",
   "version": "3.11.6"
  }
 },
 "nbformat": 4,
 "nbformat_minor": 5
}
