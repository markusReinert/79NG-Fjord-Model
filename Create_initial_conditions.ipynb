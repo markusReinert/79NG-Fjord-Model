{
 "cells": [
  {
   "cell_type": "markdown",
   "id": "23fc9f67-8da9-41ea-b9e5-1c194ecf8ab3",
   "metadata": {
    "editable": true,
    "slideshow": {
     "slide_type": ""
    },
    "tags": []
   },
   "source": [
    "# Create 3D Initial Conditions for the 79NG Fjord GETM Setup\n",
    "\n",
    "This notebook creates 3D initial conditions for the 79NG fjord setup in GETM with data from a global ocean model.\n",
    "The data have been provided by Claudia Wekerle (AWI) and come from a global FESOM2.1 setup with increased resolution in the 79NG fjord, see Wekerle et al. (2024, https://doi.org/10.1038/s41467-024-45650-z).\n",
    "\n",
    "Notebook by Markus Reinert (IOW, 2023–2024, https://orcid.org/0000-0002-3761-8029)."
   ]
  },
  {
   "cell_type": "code",
   "execution_count": null,
   "id": "27fe8a75-ba5f-4a00-9bcc-caf33c57ff36",
   "metadata": {},
   "outputs": [],
   "source": [
    "from datetime import datetime\n",
    "\n",
    "import numpy as np\n",
    "import xarray as xr\n",
    "import matplotlib.pyplot as plt\n",
    "from scipy.interpolate import griddata\n",
    "from dask.diagnostics import ProgressBar\n",
    "from pyproj import CRS, Transformer\n",
    "\n",
    "from tools.configuration import Configuration"
   ]
  },
  {
   "cell_type": "code",
   "execution_count": null,
   "id": "ed5fb9f6-3d0a-4890-bd0e-d1befe407522",
   "metadata": {
    "tags": []
   },
   "outputs": [],
   "source": [
    "config = Configuration()"
   ]
  },
  {
   "cell_type": "markdown",
   "id": "568cb635-85ce-4947-973c-bbda718c9126",
   "metadata": {},
   "source": [
    "## Prepare the coordinate transformation\n",
    "\n",
    "The interpolation of the data must be computed on a Cartesian coordinate system, not a latitude–longitude system, in order to have the correct distances between grid points.\n",
    "Here we define\n",
    "* the Coordinate Reference System (CRS) in which the model grids are given,\n",
    "* a projected CRS that is suitable for the interpolation,\n",
    "* a `pyproj.Transformer` object from the former to the latter."
   ]
  },
  {
   "cell_type": "markdown",
   "id": "68798918-e7fe-4139-842f-3d45a388fa0d",
   "metadata": {},
   "source": [
    "### CRS of model grids"
   ]
  },
  {
   "cell_type": "code",
   "execution_count": null,
   "id": "187464a8-f053-472e-ae8d-585fe6d342a5",
   "metadata": {},
   "outputs": [],
   "source": [
    "crs_latlon = CRS.from_epsg(4326)\n",
    "crs_latlon"
   ]
  },
  {
   "cell_type": "markdown",
   "id": "2998561d-07fe-45ff-beb1-ba73b326f4b3",
   "metadata": {},
   "source": [
    "### CRS for interpolation"
   ]
  },
  {
   "cell_type": "code",
   "execution_count": null,
   "id": "29fd25bb-ae38-4118-b365-a20bd38e4360",
   "metadata": {},
   "outputs": [],
   "source": [
    "crs_cartesian = CRS.from_epsg(3413)\n",
    "crs_cartesian"
   ]
  },
  {
   "cell_type": "markdown",
   "id": "096183e7-38e9-4c3d-9732-8080e6f7c132",
   "metadata": {},
   "source": [
    "### CRS transformer"
   ]
  },
  {
   "cell_type": "code",
   "execution_count": null,
   "id": "182e7cc1-ea73-474d-b2f4-934a748ea222",
   "metadata": {},
   "outputs": [],
   "source": [
    "transformer = Transformer.from_crs(crs_latlon, crs_cartesian)"
   ]
  },
  {
   "cell_type": "markdown",
   "id": "432b84d7-1e6a-4107-9b68-43c3a6c65846",
   "metadata": {},
   "source": [
    "## Load the GETM topography"
   ]
  },
  {
   "cell_type": "code",
   "execution_count": null,
   "id": "1bcba0e1-2543-4254-8c1a-0e820c4b6754",
   "metadata": {
    "tags": []
   },
   "outputs": [],
   "source": [
    "filename = config.get_file_path(\"getm/domain/bathymetry\")\n",
    "print(f\"Loading topography from {filename!r}.\")\n",
    "getm = xr.open_dataset(filename)\n",
    "getm"
   ]
  },
  {
   "cell_type": "markdown",
   "id": "bae4b267-9601-423f-ba24-97cd409ddb9e",
   "metadata": {},
   "source": [
    "## Load the FESOM data"
   ]
  },
  {
   "cell_type": "code",
   "execution_count": null,
   "id": "9b72cbf2-1664-49b5-8844-341936065ace",
   "metadata": {
    "tags": []
   },
   "outputs": [],
   "source": [
    "print(\"Loading FESOM data\")\n",
    "fesom = xr.open_mfdataset(\"data/FESOM/*.fesom.*.sub.nc\", drop_variables=\"faces\")\n",
    "# Add Cartesian coordinates to the dataset\n",
    "fesom.coords[\"x\"], fesom.coords[\"y\"] = (\n",
    "    (\"nod2\", coord, {\"long_name\": axis_info.name, \"units\": \"m\", \"CRS\": str(crs_cartesian)})\n",
    "    for coord, axis_info in zip(transformer.transform(fesom.lat, fesom.lon), crs_cartesian.axis_info)\n",
    ")\n",
    "variables = [var for var in fesom.variables if fesom[var].dims == (\"time\", \"nod2\", \"nz1\")]\n",
    "print(\"Contains\", *variables)\n",
    "fesom"
   ]
  },
  {
   "cell_type": "markdown",
   "id": "dd19e00f-8ddf-4ffc-941e-92fefc3175b9",
   "metadata": {},
   "source": [
    "### Average in time\n",
    "\n",
    "The FESOM dataset contains monthly mean values, one value for each calendar month.\n",
    "Since months have different numbers of days, we need to take a weighted average of the monthly means.\n",
    "The weight of each month depends on the number of days in this month.\n",
    "With these weights, every day (and not each month) counts with the same weight into the final average.\n",
    "\n",
    "Luckily, the timestamp of each monthly mean in the FESOM dataset is on the last day of that month, so we can use the day-attribute of the timestamp to get the number of days in this month."
   ]
  },
  {
   "cell_type": "code",
   "execution_count": null,
   "id": "a08b2a10-9a43-495d-b542-2cd990d1dd93",
   "metadata": {
    "tags": []
   },
   "outputs": [],
   "source": [
    "# Compute weights for the monthly means\n",
    "fesom_datetime = fesom.time.data.astype(\"datetime64[s]\").tolist()\n",
    "days_per_month = np.array([dt.day for dt in fesom_datetime])\n",
    "weights = xr.DataArray(days_per_month / days_per_month.mean(), {\"time\": fesom.time})\n",
    "\n",
    "# Check that the weights are as expected\n",
    "assert len(days_per_month) == 10 * 12, \"number of months does not match 10 years\"\n",
    "assert sum(days_per_month) == 10 * 365 + 3, \"number of days does not match 10 years incl. 3 leap years\"\n",
    "assert np.allclose(weights.mean(), 1), \"average weight is not 1\"\n",
    "\n",
    "# Show the weights\n",
    "weights.plot(figsize=(12, 3), marker=\".\", linestyle=\"--\")\n",
    "for d in range(28, 32):\n",
    "    w = d * len(days_per_month) / sum(days_per_month)\n",
    "    plt.axhline(w, c=\"k\", lw=1)\n",
    "    plt.text(fesom_datetime[-1], w, f\"months with {d} days\", ha=\"right\", va=\"top\" if d == 30 else \"bottom\")\n",
    "plt.title(\"Weights of monthly mean values\")\n",
    "plt.grid(axis=\"x\")"
   ]
  },
  {
   "cell_type": "code",
   "execution_count": null,
   "id": "637600a6-b851-4f63-b52e-02afb203c971",
   "metadata": {
    "tags": []
   },
   "outputs": [],
   "source": [
    "print(\"Computing weighted time-averages\")\n",
    "with xr.set_options(keep_attrs=True):\n",
    "    fesom = (fesom * weights).mean(\"time\")\n",
    "# Convert from Dask to xarray\n",
    "with ProgressBar():\n",
    "    fesom = fesom.compute()\n",
    "fesom"
   ]
  },
  {
   "cell_type": "markdown",
   "id": "b60dcef6-2761-45cf-83a4-c25719f28cf7",
   "metadata": {},
   "source": [
    "### Mask cells with zero salinity"
   ]
  },
  {
   "cell_type": "code",
   "execution_count": null,
   "id": "7af0d178-5fe9-4ead-8af7-87baf48fbf34",
   "metadata": {
    "tags": []
   },
   "outputs": [],
   "source": [
    "# Determine and apply the mask\n",
    "fesom[\"mask\"] = fesom.salt > 0\n",
    "for var in variables:\n",
    "    fesom[var] = fesom[var].where(fesom.mask)\n",
    "\n",
    "# Remove layers where all values are masked out\n",
    "print(f\"Original FESOM dataset:    {fesom.nz1.size} vertical layers with max. depth {fesom.nz.item(-1):6} m\")\n",
    "for k in range(fesom.nz1.size):\n",
    "    if not np.any(fesom.mask.isel(nz1=k)):\n",
    "        assert np.all(fesom.mask.isel(nz1=slice(k, None)) == False), \"not all deeper levels are masked\"\n",
    "        assert fesom.nz1.size == fesom.nz.size - 1, \"dimension nz is not 1 larger than nz1\"\n",
    "        fesom = fesom.isel(nz1=slice(k), nz=slice(k+1))\n",
    "        break\n",
    "print(f\"With empty layers removed: {fesom.nz1.size} vertical layers with max. depth {fesom.nz.item(-1):6} m\")\n",
    "\n",
    "fesom"
   ]
  },
  {
   "cell_type": "markdown",
   "id": "b207bd9c-ef5c-4b6e-bb91-1002a5d86687",
   "metadata": {},
   "source": [
    "## Compare the grids"
   ]
  },
  {
   "cell_type": "code",
   "execution_count": null,
   "id": "3c8ca79f-680c-4825-8c2d-2cb920099263",
   "metadata": {},
   "outputs": [],
   "source": [
    "fig, axs = plt.subplots(ncols=2, constrained_layout=True, figsize=(12, 6), dpi=200)\n",
    "fig.suptitle(\"Comparison between the grids of FESOM (blue and yellow dots) and GETM (red)\", weight=\"bold\")\n",
    "for ax, x, y, crs in zip(axs, [\"lon\", \"x\"], [\"lat\", \"y\"], [crs_latlon, crs_cartesian]):\n",
    "    ax.scatter(fesom[x], fesom[y], 1/4, fesom.mask.isel(nz1=0))\n",
    "    if x == \"lon\" and y == \"lat\":\n",
    "        for lon in getm.lon:\n",
    "            ax.plot([lon, lon], [getm.lat[0] - getm.dlat/2, getm.lat[-1] + getm.dlat/2], \"r\", lw=0.2)\n",
    "        for lat in getm.lat:\n",
    "            ax.plot([getm.lon[0] - getm.dlon/2, getm.lon[-1] + getm.dlon/2], [lat, lat], \"r\", lw=0.2)\n",
    "    elif x == \"x\" and y == \"y\":\n",
    "        ax.plot(getm.x, getm.y, \"r.\", ms=0.8, markeredgewidth=0)\n",
    "    else:\n",
    "        raise ValueError(\"unexpected combination of x and y\")\n",
    "    ax.set_title(f\"{crs.name}\\n{crs}\")\n",
    "    ax.set_xlabel(f\"{fesom[x].long_name} [{fesom[x].units}]\")\n",
    "    ax.set_ylabel(f\"{fesom[y].long_name} [{fesom[y].units}]\")\n",
    "ax.set_aspect(\"equal\")"
   ]
  },
  {
   "cell_type": "code",
   "execution_count": null,
   "id": "fd898df2-4c50-417d-9134-549ee6f119c4",
   "metadata": {},
   "outputs": [],
   "source": [
    "fig, axs = plt.subplots(ncols=2, constrained_layout=True, figsize=(12, 6), dpi=200)\n",
    "fig.suptitle(\"Comparison between the masks of FESOM (dots) and GETM (grey area)\", weight=\"bold\")\n",
    "\n",
    "for ax, x, y, crs in zip(axs, [\"lon\", \"x\"], [\"lat\", \"y\"], [crs_latlon, crs_cartesian]):\n",
    "    getm.mask.plot(ax=ax, x=x, y=y, cmap=\"Greys\", vmax=2, add_colorbar=False)\n",
    "    ax.scatter(fesom[x], fesom[y], 1/4, fesom.mask.isel(nz1=0), cmap=\"tab10_r\", vmax=11/7)\n",
    "    ax.set_title(f\"{crs.name}\\n{crs}\")\n",
    "    ax.set_xlabel(f\"{fesom[x].long_name} [{fesom[x].units}]\")\n",
    "    ax.set_ylabel(f\"{fesom[y].long_name} [{fesom[y].units}]\")\n",
    "\n",
    "ax = axs[0]\n",
    "ax.set_xlim(None, -14.5)\n",
    "ax.set_ylim(79.1, 80.4)\n",
    "ax.plot([], [], \".\", color=\"tab:cyan\", label=\"ice tongue\")\n",
    "ax.plot([], [], \".\", color=\"tab:red\", label=\"ocean\")\n",
    "ax.legend(title=\"FESOM mask\")\n",
    "\n",
    "ax = axs[1]\n",
    "ax.set_aspect(\"equal\")"
   ]
  },
  {
   "cell_type": "markdown",
   "id": "7a33ba2c-af09-4aa6-944e-8e00e169ecd6",
   "metadata": {},
   "source": [
    "## Create initial conditions"
   ]
  },
  {
   "cell_type": "markdown",
   "id": "af5ec9a8-c3e0-4ed4-98a2-7448a53788a4",
   "metadata": {
    "tags": []
   },
   "source": [
    "### Create the dataset"
   ]
  },
  {
   "cell_type": "code",
   "execution_count": null,
   "id": "5518b317-0c80-4842-b700-909664618a0d",
   "metadata": {},
   "outputs": [],
   "source": [
    "time_string = config.get_text(\"getm/time/start\")\n",
    "datetime_start = datetime.strptime(time_string, \"%Y-%m-%d %H:%M:%S\")\n",
    "print(f\"Model runs from {datetime_start}.\")"
   ]
  },
  {
   "cell_type": "code",
   "execution_count": null,
   "id": "012d9d89-746d-4e16-a34a-ad4444be591e",
   "metadata": {},
   "outputs": [],
   "source": [
    "init = xr.Dataset(\n",
    "    {\n",
    "        \"salt\": (\n",
    "            [\"time\", \"zax\", \"lat\", \"lon\"],\n",
    "            np.full((1, fesom.nz1.size, *getm.mask.shape), np.nan),\n",
    "            {\"long_name\": \"salinity\", \"units\": \"g/kg\"},\n",
    "        ),\n",
    "        \"temp\": (\n",
    "            [\"time\", \"zax\", \"lat\", \"lon\"],\n",
    "            np.full((1, fesom.nz1.size, *getm.mask.shape), np.nan),\n",
    "            {\"long_name\": \"temperature\", \"units\": \"degC\"},\n",
    "        ),\n",
    "    },\n",
    "    coords={\n",
    "        \"time\": ([\"time\"], [datetime_start]),\n",
    "        \"zax\": ([\"zax\"], -fesom.nz1.data, {\"long_name\": \"z-axis\", \"units\": \"m\", \"positive\": \"up\"}),\n",
    "        \"lat\": getm.lat,\n",
    "        \"lon\": getm.lon,\n",
    "    },\n",
    "    attrs={\n",
    "        \"title\": \"Initial conditions (3D) for the 79NG fjord GETM setup\",\n",
    "        \"author\": \"Markus Reinert (ORCID: 0000-0002-3761-8029)\",\n",
    "        \"institution\": \"Leibniz Institute for Baltic Sea Research Warnemuende (IOW), Germany\",\n",
    "        \"source\": \"FESOM2.1 setup with focus on 79NG (Wekerle et al. 2024)\",\n",
    "    },\n",
    ")\n",
    "init"
   ]
  },
  {
   "cell_type": "markdown",
   "id": "7dcc1d4b-ceb2-4584-bdf9-950d2d2f5d73",
   "metadata": {},
   "source": [
    "### Interpolate the data"
   ]
  },
  {
   "cell_type": "code",
   "execution_count": null,
   "id": "174eddb5-34bd-40db-8438-0894d2346397",
   "metadata": {},
   "outputs": [],
   "source": [
    "for var in variables:\n",
    "    progress = f\"Interpolating {var}: {{:2}}/{fesom.nz1.size}\"\n",
    "    for i, z in enumerate(fesom.nz1):\n",
    "        print(progress.format(i), end=\"\\r\")\n",
    "        init[var][0, i] = griddata((fesom.x, fesom.y), fesom[var].sel(nz1=z), (getm.x, getm.y))\n",
    "        # Fill missing values with nearest neighbour interpolation\n",
    "        # Given that there are only 266 grid points that require this step,\n",
    "        # there might be a better way.\n",
    "        init[var][0, i] = init[var][0, i].where(\n",
    "            init[var][0, i].notnull(),\n",
    "            griddata((fesom.x, fesom.y), fesom[var].sel(nz1=z), (getm.x, getm.y), method=\"nearest\"),\n",
    "        )\n",
    "    print(progress.format(i + 1))\n",
    "    # Apply the mask\n",
    "    init[var] = init[var].where(getm.mask)\n",
    "# Remove the Cartesian coordinates that were added to the dataset when applying the mask\n",
    "del init[\"x\"], init[\"y\"]\n",
    "init"
   ]
  },
  {
   "cell_type": "markdown",
   "id": "edc02c67-3147-4615-bb08-fa28380c63ec",
   "metadata": {},
   "source": [
    "### Extrapolate vertically with constant values\n",
    "\n",
    "To ensure that the vertical interpolation by GETM does not create NaNs, we eliminate missing values in the water columns.\n",
    "Values are missing where grid cells are in the ice tongue or in the seabed, i.e., above the uppermost or below the lowermost valid grid cell.\n",
    "To obtain the position of the uppermost valid grid cell, we take the maximum of the Boolean array that marks valid grid cells.\n",
    "For the lowermost valid grid cell, we do the same operation on that array with flipped vertical axis.\n",
    "Given the positions of the uppermost valid grid cells, we keep all values below and fill the grid cells above with the uppermost valid value.\n",
    "We proceed analogously for the lower part."
   ]
  },
  {
   "cell_type": "code",
   "execution_count": null,
   "id": "d6932a9e-2df9-4893-bdb7-ec95b36d36ae",
   "metadata": {
    "tags": []
   },
   "outputs": [],
   "source": [
    "for var in variables:\n",
    "    is_valid = init[var].notnull()\n",
    "    z_upper = is_valid.idxmax(\"zax\")\n",
    "    z_lower = is_valid.isel(zax=slice(None, None, -1)).idxmax(\"zax\")\n",
    "    init[var] = init[var].where(init.zax < z_upper, init[var].sel(zax=z_upper))\n",
    "    init[var] = init[var].where(init.zax > z_lower, init[var].sel(zax=z_lower))"
   ]
  },
  {
   "cell_type": "markdown",
   "id": "8ff4281d-4cbc-453d-a193-275929abfb79",
   "metadata": {
    "tags": []
   },
   "source": [
    "### Simplify the sponge zone\n",
    "\n",
    "In the sponge zone (open boundary points and 3 adjacent grid points), there are no gradients in the topography, so for consistency, we also impose no gradients in the initial conditions."
   ]
  },
  {
   "cell_type": "code",
   "execution_count": null,
   "id": "4a194512-d35c-43ea-bb90-7228c9a7ba41",
   "metadata": {
    "tags": []
   },
   "outputs": [],
   "source": [
    "# Check that there are really no topography gradients in the sponge zone\n",
    "assert np.all(getm.bathymetry.where(getm.mask, 0).isel(lat=0) == getm.bathymetry.where(getm.mask, 0).isel(lat=slice(4)))\n",
    "assert np.all(getm.bathymetry.where(getm.mask, 0).isel(lat=-1) == getm.bathymetry.where(getm.mask, 0).isel(lat=slice(-5, -1)))\n",
    "assert np.all(getm.bathymetry.where(getm.mask, 0).isel(lon=-1) == getm.bathymetry.where(getm.mask, 0).isel(lon=slice(-5, -1)))\n",
    "\n",
    "# Impose no gradients in the inital conditions in the sponge zone\n",
    "for var in variables:\n",
    "    init[var][0, :, :4] = init[var][0, :, 4]\n",
    "    init[var][0, :, -5:] = init[var][0, :, -5]\n",
    "    init[var][0, :, :, -5:] = init[var][0, :, :, -5]"
   ]
  },
  {
   "cell_type": "markdown",
   "id": "6c2526ee-cac1-4de7-89c8-31f61007d86b",
   "metadata": {},
   "source": [
    "### Invert the vertical axis\n",
    "\n",
    "GETM actually expects that `zax` is depth with positive values below sea level."
   ]
  },
  {
   "cell_type": "code",
   "execution_count": null,
   "id": "c94d63e8-9e63-442b-b791-a144ed687e04",
   "metadata": {
    "tags": []
   },
   "outputs": [],
   "source": [
    "assert np.all(init.zax < 0), \"vertical axis already inverted\"\n",
    "init[\"zax\"] = -init.zax\n",
    "init.zax.attrs[\"long_name\"] = \"depth\"\n",
    "init.zax.attrs[\"positive\"] = \"down\"\n",
    "init"
   ]
  },
  {
   "cell_type": "markdown",
   "id": "08911459-3314-4ae1-91b3-5cf51b77fd0f",
   "metadata": {},
   "source": [
    "### Save the dataset"
   ]
  },
  {
   "cell_type": "code",
   "execution_count": null,
   "id": "eeca3ef7-e8b2-4883-b5a7-b70f2e91cf7e",
   "metadata": {
    "tags": []
   },
   "outputs": [],
   "source": [
    "filename = config.get_file_path(\"getm/temp/temp_file\")\n",
    "assert filename.endswith(\".nc\"), \"file for initial temperature distribution is not NetCDF\"\n",
    "assert filename == config.get_file_path(\"getm/salt/salt_file\"), \"filenames of temperature and salinity initial conditions are different\"\n",
    "init.to_netcdf(filename, unlimited_dims=[\"time\"])\n",
    "print(f\"Saved the initial conditions as {filename!r}.\")"
   ]
  },
  {
   "cell_type": "code",
   "execution_count": null,
   "id": "f0129c99-9f4a-4625-a0a7-8622ae896a69",
   "metadata": {},
   "outputs": [],
   "source": []
  }
 ],
 "metadata": {
  "kernelspec": {
   "display_name": "Python 3 (ipykernel)",
   "language": "python",
   "name": "python3"
  },
  "language_info": {
   "codemirror_mode": {
    "name": "ipython",
    "version": 3
   },
   "file_extension": ".py",
   "mimetype": "text/x-python",
   "name": "python",
   "nbconvert_exporter": "python",
   "pygments_lexer": "ipython3",
   "version": "3.11.6"
  }
 },
 "nbformat": 4,
 "nbformat_minor": 5
}
